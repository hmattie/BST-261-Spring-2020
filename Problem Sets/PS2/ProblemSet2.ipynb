{
  "nbformat": 4,
  "nbformat_minor": 0,
  "metadata": {
    "kernelspec": {
      "display_name": "Python 3",
      "language": "python",
      "name": "python3"
    },
    "language_info": {
      "codemirror_mode": {
        "name": "ipython",
        "version": 3
      },
      "file_extension": ".py",
      "mimetype": "text/x-python",
      "name": "python",
      "nbconvert_exporter": "python",
      "pygments_lexer": "ipython3",
      "version": "3.7.3"
    },
    "colab": {
      "name": "ProblemSet2.ipynb",
      "provenance": [],
      "collapsed_sections": []
    }
  },
  "cells": [
    {
      "cell_type": "markdown",
      "metadata": {
        "id": "fb9DikpKjlcS",
        "colab_type": "text"
      },
      "source": [
        "# Homework #2: Convolutional Neural Networks\n",
        "Due Friday, May 15th by 11:59pm\n"
      ]
    },
    {
      "cell_type": "markdown",
      "metadata": {
        "id": "BjKfLJ6FjlcY",
        "colab_type": "text"
      },
      "source": [
        "## Question 1\n",
        "(a) You have an input volume that is 15x15x8 and pad it using *p = 2*. What is the dimension of the resulting volume?\n",
        "\n",
        "\n"
      ]
    },
    {
      "cell_type": "markdown",
      "metadata": {
        "id": "9PcQCat9jlcZ",
        "colab_type": "text"
      },
      "source": [
        "(b) You have an input volume that is 32x32x16 and apply max pooling with a stride of 2 and a filter of size of 2x2. What is the output volume?\n",
        "\n"
      ]
    },
    {
      "cell_type": "markdown",
      "metadata": {
        "id": "_70X-fDcjlcb",
        "colab_type": "text"
      },
      "source": [
        "(c) You have an input volume that is 63x63x16 and convolve it with 32 filters that are each 7x7, and a stride of 1. You want to use a \"same\" convolution. What is the padding *p*?\n",
        "\n"
      ]
    },
    {
      "cell_type": "markdown",
      "metadata": {
        "id": "Ri6GQ3Hojlcc",
        "colab_type": "text"
      },
      "source": [
        "(d) You have an input volume that is 63x63x16 and convolve it with 32 filters that are each 7x7, using a stride of 2 and no padding. What is the output volume?\n",
        "\n"
      ]
    },
    {
      "cell_type": "markdown",
      "metadata": {
        "id": "FOsbEj2Ajlcd",
        "colab_type": "text"
      },
      "source": [
        "## Question 2: Classification of Chest X-rays\n",
        "Chest X-ray exams are one of the most frequent and cost-effective medical imaging examinations available. However, clinical diagnosis of a chest X-ray can be challenging and sometimes more difficult than diagnosis via chest CT imaging. The lack of large publicly available datasets with annotations means it is still very difficult, if not impossible, to achieve clinically relevant computer-aided detection and diagnosis (CAD) in real world medical sites with chest X-rays. One major hurdle in creating large X-ray image datasets is the lack resources for labeling so many images. Prior to the release of this dataset, Openi was the largest publicly available source of chest X-ray images with 4,143 images available.\n",
        "\n",
        "This [NIH Chest X-ray Dataset](https://www.kaggle.com/nih-chest-xrays/data) is comprised of 112,120 X-ray images with disease labels from 30,805 unique patients. To create these labels, the authors used Natural Language Processing to text-mine disease classifications from the associated radiological reports. The labels are expected to be >90% accurate and suitable for weakly-supervised learning. The original radiology reports are not publicly available but you can find more details on the labeling process in this Open Access paper: \"ChestX-ray8: Hospital-scale Chest X-ray Database and Benchmarks on Weakly-Supervised Classification and Localization of Common Thorax Diseases.\" (Wang et al.)\n",
        "\n",
        "Here we will use a subset of the data, rather than all 112,120 images. The images have been split into training, validation and test sets, each with folders containing the images for a particular diagnosis (class). The full data set contains images with single labels and multi-lables, with a total of 15 unique diagnoses. Our subsample contains only single label images with a total of 7 diagnoses: atelectasis, effusion, infiltration, mass, nodule, none (no finding), and pneumothorax. Your task is to classify the images correctly by building multiple CNNs and comparing their performance.\n",
        "\n",
        "Here are what a few of the X-rays look like:\n",
        "\n",
        "![xrays](https://drive.google.com/uc?id=1m42zYcI1YWDn9TuBlA5vukN7rqaILuXF)\n",
        "\n",
        "### Load the data\n",
        "\n",
        "The data are available in Google Drive [here](https://drive.google.com/open?id=1Q9DGe2-WcN1T5ToDLr4AMk-UAFedb309) or in Dropbox [here](https://www.dropbox.com/sh/6rstxss79669361/AABXuOWEA75MtWWTVeER4UeKa?dl=0). **Please note that if you are accessing the Google Drive folder that there are 2 xray datasets: `xrays` and `xrays-small`. You will use the `xrays` dataset for this assignment.**\n",
        "\n",
        "Load the data and print the number of training, validation and test set examples there are of each class. Be sure to change the directory path provided below to your own data path."
      ]
    },
    {
      "cell_type": "code",
      "metadata": {
        "id": "ucx1xmKo7NGO",
        "colab_type": "code",
        "outputId": "6063e00e-8814-4a27-850f-b193ca6115d7",
        "colab": {
          "base_uri": "https://localhost:8080/",
          "height": 52
        }
      },
      "source": [
        "import numpy as np\n",
        "from sklearn.decomposition import PCA\n",
        "import matplotlib\n",
        "import matplotlib.pyplot as plt\n",
        "\n",
        "# Import the TF V2 through this magic command\n",
        "%tensorflow_version 2.x\n",
        "\n",
        "import tensorflow as tf\n",
        "import tensorflow.keras\n",
        "from tensorflow.keras import backend as K\n",
        "from tensorflow.keras import datasets, layers, models\n",
        "\n",
        "# Check the Version of the Tensor Flow. It should be the version 2\n",
        "print(tf.__version__)\n",
        "\n",
        "import sys\n",
        "if not sys.warnoptions:\n",
        "    import warnings\n",
        "    warnings.simplefilter(\"ignore\")\n",
        "import keras\n",
        "keras.__version__\n",
        "import numpy as np\n",
        "import os, shutil\n",
        "#import cv"
      ],
      "execution_count": 0,
      "outputs": [
        {
          "output_type": "stream",
          "text": [
            "2.2.0-rc3\n"
          ],
          "name": "stdout"
        },
        {
          "output_type": "stream",
          "text": [
            "Using TensorFlow backend.\n"
          ],
          "name": "stderr"
        }
      ]
    },
    {
      "cell_type": "code",
      "metadata": {
        "id": "p8dUK1qLk1oK",
        "colab_type": "code",
        "outputId": "1b2bf268-23c9-415d-8bd3-d93e1bd365ae",
        "colab": {
          "base_uri": "https://localhost:8080/",
          "height": 124
        }
      },
      "source": [
        "from google.colab import drive\n",
        "drive.mount('/content/drive')"
      ],
      "execution_count": 0,
      "outputs": [
        {
          "output_type": "stream",
          "text": [
            "Go to this URL in a browser: https://accounts.google.com/o/oauth2/auth?client_id=947318989803-6bn6qk8qdgf4n4g3pfee6491hc0brc4i.apps.googleusercontent.com&redirect_uri=urn%3aietf%3awg%3aoauth%3a2.0%3aoob&response_type=code&scope=email%20https%3a%2f%2fwww.googleapis.com%2fauth%2fdocs.test%20https%3a%2f%2fwww.googleapis.com%2fauth%2fdrive%20https%3a%2f%2fwww.googleapis.com%2fauth%2fdrive.photos.readonly%20https%3a%2f%2fwww.googleapis.com%2fauth%2fpeopleapi.readonly\n",
            "\n",
            "Enter your authorization code:\n",
            "··········\n",
            "Mounted at /content/drive\n"
          ],
          "name": "stdout"
        }
      ]
    },
    {
      "cell_type": "code",
      "metadata": {
        "id": "x-VOpowHk2qc",
        "colab_type": "code",
        "colab": {}
      },
      "source": [
        "# Define directories of where the training, validation and test sets reside\n",
        "# Heather's: \n",
        "base_dir = 'drive/My Drive/Teaching/BST 261/2020/Colab Notebooks/In-class examples/Data/xrays/'\n",
        "# This is the path to where my files are - your path will be different, something like this:\n",
        "# base_dir = 'drive/My Drive/Data/xrays/'"
      ],
      "execution_count": 0,
      "outputs": []
    },
    {
      "cell_type": "code",
      "metadata": {
        "id": "gxssO8zYk3Po",
        "colab_type": "code",
        "colab": {}
      },
      "source": [
        "train_dir = os.path.join(base_dir, 'train_dir')\n",
        "validation_dir = os.path.join(base_dir, 'validation_dir')\n",
        "test_dir = os.path.join(base_dir, 'test_dir')\n",
        "\n",
        "# Training Data\n",
        "train_atelectasis  = os.path.join(train_dir, 'atelectasis')\n",
        "train_effusion     = os.path.join(train_dir, 'effusion')\n",
        "train_infiltration = os.path.join(train_dir, 'infiltration')\n",
        "train_mass         = os.path.join(train_dir, 'mass')\n",
        "train_nodule       = os.path.join(train_dir, 'nodule')\n",
        "train_none         = os.path.join(train_dir, 'none')\n",
        "train_pneumothorax = os.path.join(train_dir, 'pneumothorax')\n",
        "\n",
        "# Validation Data\n",
        "val_atelectasis  = os.path.join(validation_dir, 'atelectasis')\n",
        "val_effusion     = os.path.join(validation_dir, 'effusion')\n",
        "val_infiltration = os.path.join(validation_dir, 'infiltration')\n",
        "val_mass         = os.path.join(validation_dir, 'mass')\n",
        "val_nodule       = os.path.join(validation_dir, 'nodule')\n",
        "val_none         = os.path.join(validation_dir, 'none')\n",
        "val_pneumothorax = os.path.join(validation_dir, 'pneumothorax')\n",
        "\n",
        "# Test Data\n",
        "test_atelectasis  = os.path.join(test_dir, 'atelectasis')\n",
        "test_effusion     = os.path.join(test_dir, 'effusion')\n",
        "test_infiltration = os.path.join(test_dir, 'infiltration')\n",
        "test_mass         = os.path.join(test_dir, 'mass')\n",
        "test_nodule       = os.path.join(test_dir, 'nodule')\n",
        "test_none         = os.path.join(test_dir, 'none')\n",
        "test_pneumothorax = os.path.join(test_dir, 'pneumothorax')"
      ],
      "execution_count": 0,
      "outputs": []
    },
    {
      "cell_type": "markdown",
      "metadata": {
        "id": "FaUgzJ0vsY_F",
        "colab_type": "text"
      },
      "source": [
        "Use the code below to check how many images are available for each class for the 3 sets (training, validation and testing) of images."
      ]
    },
    {
      "cell_type": "code",
      "metadata": {
        "id": "GqKtnQJmjlco",
        "colab_type": "code",
        "outputId": "10d3ab60-39a9-4820-b022-64fbf9c03e11",
        "colab": {
          "base_uri": "https://localhost:8080/",
          "height": 138
        }
      },
      "source": [
        "print('Total training atelectasisat images:', len(os.listdir(train_atelectasis)))\n",
        "print('Total training effusion images:', len(os.listdir(train_effusion)))\n",
        "print('Total training infiltration images:', len(os.listdir(train_infiltration)))\n",
        "print('Total training mass images:', len(os.listdir(train_mass)))\n",
        "print('Total training nodule images:', len(os.listdir(train_nodule)))\n",
        "print('Total training no finding images:', len(os.listdir(train_none)))\n",
        "print('Total training pneumothorax images:', len(os.listdir(train_pneumothorax)))"
      ],
      "execution_count": 0,
      "outputs": [
        {
          "output_type": "stream",
          "text": [
            "Total training atelectasisat images: 400\n",
            "Total training effusion images: 400\n",
            "Total training infiltration images: 400\n",
            "Total training mass images: 200\n",
            "Total training nodule images: 300\n",
            "Total training no finding images: 400\n",
            "Total training pneumothorax images: 300\n"
          ],
          "name": "stdout"
        }
      ]
    },
    {
      "cell_type": "code",
      "metadata": {
        "id": "aWv5V7rwjlcs",
        "colab_type": "code",
        "outputId": "cdf7f6a4-796d-48a6-8128-a943f6846732",
        "colab": {
          "base_uri": "https://localhost:8080/",
          "height": 138
        }
      },
      "source": [
        "print('Total validation atelectasisat images:', len(os.listdir(val_atelectasis)))\n",
        "print('Total validation effusion images:', len(os.listdir(val_effusion)))\n",
        "print('Total validation infiltration images:', len(os.listdir(val_infiltration)))\n",
        "print('Total validation mass images:', len(os.listdir(val_mass)))\n",
        "print('Total validation nodule images:', len(os.listdir(val_nodule)))\n",
        "print('Total validation no finding images:', len(os.listdir(val_none)))\n",
        "print('Total validation pneumothorax images:', len(os.listdir(val_pneumothorax)))"
      ],
      "execution_count": 0,
      "outputs": [
        {
          "output_type": "stream",
          "text": [
            "Total validation atelectasisat images: 100\n",
            "Total validation effusion images: 100\n",
            "Total validation infiltration images: 100\n",
            "Total validation mass images: 55\n",
            "Total validation nodule images: 70\n",
            "Total validation no finding images: 100\n",
            "Total validation pneumothorax images: 70\n"
          ],
          "name": "stdout"
        }
      ]
    },
    {
      "cell_type": "code",
      "metadata": {
        "id": "OLhVm9Wvjlcv",
        "colab_type": "code",
        "outputId": "8c161ff0-673c-40e1-d2b4-992f2ccf657a",
        "colab": {
          "base_uri": "https://localhost:8080/",
          "height": 138
        }
      },
      "source": [
        "print('Total test atelectasisat images:', len(os.listdir(test_atelectasis)))\n",
        "print('Total test effusion images:', len(os.listdir(test_effusion)))\n",
        "print('Total test infiltration images:', len(os.listdir(test_infiltration)))\n",
        "print('Total test mass images:', len(os.listdir(test_mass)))\n",
        "print('Total test nodule images:', len(os.listdir(test_nodule)))\n",
        "print('Total test no finding images:', len(os.listdir(test_none)))\n",
        "print('Total test pneumothorax images:', len(os.listdir(test_pneumothorax)))"
      ],
      "execution_count": 0,
      "outputs": [
        {
          "output_type": "stream",
          "text": [
            "Total test atelectasisat images: 100\n",
            "Total test effusion images: 100\n",
            "Total test infiltration images: 100\n",
            "Total test mass images: 55\n",
            "Total test nodule images: 70\n",
            "Total test no finding images: 100\n",
            "Total test pneumothorax images: 70\n"
          ],
          "name": "stdout"
        }
      ]
    },
    {
      "cell_type": "markdown",
      "metadata": {
        "id": "rENCt559jlcz",
        "colab_type": "text"
      },
      "source": [
        "### A. Build a CNN from scratch\n",
        "Build a shallow (2-4 convolution layers) CNN. You are free to choose any values you wish for the filter size(s), pooling window size(s), and activation function(s). Please use an input shape of 64 x 64 and note that while these images look like greyscale images, they are in fact color images. Include a dense layer on top along with an appropriate output layer (number of neurons and activation function). Be sure to also include the `model.compile` function with an appropriate choice of loss function and performance metric."
      ]
    },
    {
      "cell_type": "code",
      "metadata": {
        "id": "xWyaO3dXjlc1",
        "colab_type": "code",
        "colab": {}
      },
      "source": [
        "# Your code here"
      ],
      "execution_count": 0,
      "outputs": []
    },
    {
      "cell_type": "markdown",
      "metadata": {
        "id": "ITpc9RYQjlc4",
        "colab_type": "text"
      },
      "source": [
        "#### Define the image generator\n",
        "Using the `ImageDataGenerator` function, create `train_datagen` and `test_datagen` generators that rescale the images appropriately. Then define a training set generator and validation set generator using the generators `train_datagen` and `test_datagen` and the `.flow_from_directory` function. Specify the `target_size` (it should match the input size above), set the `batch_size` to 20 and choose an appropriate `class_mode`."
      ]
    },
    {
      "cell_type": "code",
      "metadata": {
        "id": "-2cToJ8Ljlc5",
        "colab_type": "code",
        "outputId": "361866aa-eb8d-453c-fdf1-73bbcfd31fc6",
        "colab": {
          "base_uri": "https://localhost:8080/",
          "height": 52
        }
      },
      "source": [
        "# Your code here\n",
        "from keras.preprocessing.image import ImageDataGenerator\n"
      ],
      "execution_count": 0,
      "outputs": [
        {
          "output_type": "stream",
          "text": [
            "Found 2400 images belonging to 7 classes.\n",
            "Found 595 images belonging to 7 classes.\n"
          ],
          "name": "stdout"
        }
      ]
    },
    {
      "cell_type": "markdown",
      "metadata": {
        "id": "uQCN53NSjlc9",
        "colab_type": "text"
      },
      "source": [
        "Use this code chunck to view the shapes of one batch of your training images and labels."
      ]
    },
    {
      "cell_type": "code",
      "metadata": {
        "id": "J_9IIo_ajlc9",
        "colab_type": "code",
        "outputId": "15c72d13-2f78-431d-e7ff-3a4b29d79c99",
        "colab": {
          "base_uri": "https://localhost:8080/",
          "height": 52
        }
      },
      "source": [
        "for data_batch, labels_batch in train_generator:\n",
        "    print('data batch shape:', data_batch.shape)\n",
        "    print('labels batch shape:', labels_batch.shape)\n",
        "    break"
      ],
      "execution_count": 0,
      "outputs": [
        {
          "output_type": "stream",
          "text": [
            "data batch shape: (20, 64, 64, 3)\n",
            "labels batch shape: (20, 7)\n"
          ],
          "name": "stdout"
        }
      ]
    },
    {
      "cell_type": "markdown",
      "metadata": {
        "id": "LbN0vWB7jldB",
        "colab_type": "text"
      },
      "source": [
        "#### Compile your model\n",
        "Be sure to choose appropriate numbers for the `steps_per_epoch` and `validation_steps` parameters. If one of the numbers is not a multiple of the batch size, round up to the nearest integer. Run this model for 30 epochs. Be sure to save your trained model.\n",
        "\n",
        "**Note: the first epoch will take about 15 minutes to run. The rest of the epochs will only take about a minute each to run.**"
      ]
    },
    {
      "cell_type": "code",
      "metadata": {
        "id": "W1r9Z_CBjldB",
        "colab_type": "code",
        "colab": {}
      },
      "source": [
        "# Your code here"
      ],
      "execution_count": 0,
      "outputs": []
    },
    {
      "cell_type": "markdown",
      "metadata": {
        "id": "CEC2PLFV4yCD",
        "colab_type": "text"
      },
      "source": [
        "### Save your model\n",
        "Use the code below to save your model if you are using colab. If you are using another notebook platform just run `model.save('chest_1.h5')`."
      ]
    },
    {
      "cell_type": "code",
      "metadata": {
        "id": "tAcbBX8Z4s8T",
        "colab_type": "code",
        "colab": {}
      },
      "source": [
        "!pip install -U -q PyDrive\n",
        "from pydrive.auth import GoogleAuth\n",
        "from pydrive.drive import GoogleDrive \n",
        "from google.colab import auth \n",
        "from oauth2client.client import GoogleCredentials\n",
        "\n",
        "auth.authenticate_user()\n",
        "gauth = GoogleAuth()\n",
        "gauth.credentials = GoogleCredentials.get_application_default()\n",
        "drive = GoogleDrive(gauth)"
      ],
      "execution_count": 0,
      "outputs": []
    },
    {
      "cell_type": "code",
      "metadata": {
        "id": "AHt7sdsL4tDt",
        "colab_type": "code",
        "outputId": "a518eb61-a281-4dd4-d6ec-813f3d6e5472",
        "colab": {
          "base_uri": "https://localhost:8080/",
          "height": 34
        }
      },
      "source": [
        "model.save('chest_1.h5')\n",
        "model_file = drive.CreateFile({'chest_1' : 'chest_1.h5'})\n",
        "model_file.SetContentFile('chest_1.h5')\n",
        "model_file.Upload()\n",
        "drive.CreateFile({'id': model_file.get('id')})"
      ],
      "execution_count": 0,
      "outputs": [
        {
          "output_type": "execute_result",
          "data": {
            "text/plain": [
              "GoogleDriveFile({'id': '1Hn-TfTxVa42hWjChhQuQTnm5EzoDYEZN'})"
            ]
          },
          "metadata": {
            "tags": []
          },
          "execution_count": 37
        }
      ]
    },
    {
      "cell_type": "markdown",
      "metadata": {
        "id": "KgYR6vPEjldM",
        "colab_type": "text"
      },
      "source": [
        "### Plot training and validation loss\n",
        "Plot the training and validation loss. Does the model seem to be overfitting?\n"
      ]
    },
    {
      "cell_type": "code",
      "metadata": {
        "id": "0MWUgNBwZG_u",
        "colab_type": "code",
        "colab": {}
      },
      "source": [
        "# Your code here"
      ],
      "execution_count": 0,
      "outputs": []
    },
    {
      "cell_type": "markdown",
      "metadata": {
        "id": "qwDYmfcjjldQ",
        "colab_type": "text"
      },
      "source": [
        "### Test accuracy\n",
        "Calculate and report the test set accuracy using the code below."
      ]
    },
    {
      "cell_type": "code",
      "metadata": {
        "id": "bGHAgREwYahd",
        "colab_type": "code",
        "colab": {}
      },
      "source": [
        "# Your code here"
      ],
      "execution_count": 0,
      "outputs": []
    },
    {
      "cell_type": "markdown",
      "metadata": {
        "id": "2EM1ZMTyjldV",
        "colab_type": "text"
      },
      "source": [
        "### B. Using data augmentation\n",
        "Using the same architecture above, fit the CNN using data augmentation. You are free to choose the type of transformations made to the training images and the batch size (you should increase this for data augmentation). Be sure to include a `Dropout` layer before the first dense layer. Run this model for 30 epochs. Be sure to save your trained model. **Note that this should take about an hour to run.**"
      ]
    },
    {
      "cell_type": "code",
      "metadata": {
        "id": "1JAZU23tjldW",
        "colab_type": "code",
        "colab": {}
      },
      "source": [
        "# Your code here (train_datagen)"
      ],
      "execution_count": 0,
      "outputs": []
    },
    {
      "cell_type": "markdown",
      "metadata": {
        "id": "X7Odbv2zCsLb",
        "colab_type": "text"
      },
      "source": [
        "Check out a few examples of augmented images with the code below."
      ]
    },
    {
      "cell_type": "code",
      "metadata": {
        "id": "nqK1BxSx-qcp",
        "colab_type": "code",
        "outputId": "66dea0be-cdf7-477b-fb41-053618357c18",
        "colab": {
          "base_uri": "https://localhost:8080/",
          "height": 1000
        }
      },
      "source": [
        "%matplotlib inline\n",
        "import matplotlib.pyplot as plt\n",
        "# This is module with image preprocessing utilities\n",
        "from keras.preprocessing import image\n",
        "\n",
        "fnames = [os.path.join(train_nodule, fname) for fname in os.listdir(train_nodule)]\n",
        "\n",
        "# We pick one image to \"augment\"\n",
        "img_path = fnames[3]\n",
        "\n",
        "# Read the image and resize it\n",
        "img = image.load_img(img_path, target_size=(64, 64))\n",
        "\n",
        "# Convert it to a Numpy array with shape (64, 64, 3)\n",
        "x = image.img_to_array(img)\n",
        "\n",
        "# Reshape it to (1, 64, 64, 3)\n",
        "x = x.reshape((1,) + x.shape)\n",
        "\n",
        "# The .flow() command below generates batches of randomly transformed images.\n",
        "# It will loop indefinitely, so we need to `break` the loop at some point!\n",
        "i = 0\n",
        "for batch in train_datagen.flow(x, batch_size=1):\n",
        "    plt.figure(i)\n",
        "    imgplot = plt.imshow(image.array_to_img(batch[0]))\n",
        "    i += 1\n",
        "    if i % 4 == 0:\n",
        "        break\n",
        "\n",
        "plt.show()"
      ],
      "execution_count": 0,
      "outputs": [
        {
          "output_type": "display_data",
          "data": {
            "image/png": "[encoded data removed]",
            "text/plain": [
              "<Figure size 432x288 with 1 Axes>"
            ]
          },
          "metadata": {
            "tags": [],
            "needs_background": "light"
          }
        },
        {
          "output_type": "display_data",
          "data": {
            "image/png": "[encoded data removed]",
            "text/plain": [
              "<Figure size 432x288 with 1 Axes>"
            ]
          },
          "metadata": {
            "tags": [],
            "needs_background": "light"
          }
        },
        {
          "output_type": "display_data",
          "data": {
            "image/png": "[encoded data removed]",
            "text/plain": [
              "<Figure size 432x288 with 1 Axes>"
            ]
          },
          "metadata": {
            "tags": [],
            "needs_background": "light"
          }
        },
        {
          "output_type": "display_data",
          "data": {
            "image/png": "[encoded data removed]",
            "text/plain": [
              "<Figure size 432x288 with 1 Axes>"
            ]
          },
          "metadata": {
            "tags": [],
            "needs_background": "light"
          }
        }
      ]
    },
    {
      "cell_type": "code",
      "metadata": {
        "id": "zNnGfdz3_7H3",
        "colab_type": "code",
        "outputId": "c5723959-cccb-4f99-a8f4-7698e7b14ec6",
        "colab": {
          "base_uri": "https://localhost:8080/",
          "height": 34
        }
      },
      "source": [
        "# Your code here (train_generator)"
      ],
      "execution_count": 0,
      "outputs": [
        {
          "output_type": "stream",
          "text": [
            "Found 2400 images belonging to 7 classes.\n"
          ],
          "name": "stdout"
        }
      ]
    },
    {
      "cell_type": "code",
      "metadata": {
        "id": "THEfdI_X-a1-",
        "colab_type": "code",
        "colab": {}
      },
      "source": [
        "# Your code her (Define model and how to compile model)"
      ],
      "execution_count": 0,
      "outputs": []
    },
    {
      "cell_type": "code",
      "metadata": {
        "id": "P6qxgwKlYlEZ",
        "colab_type": "code",
        "colab": {}
      },
      "source": [
        "# Your code here (Train network)"
      ],
      "execution_count": 0,
      "outputs": []
    },
    {
      "cell_type": "code",
      "metadata": {
        "id": "rwjLLEm3DgJF",
        "colab_type": "code",
        "colab": {}
      },
      "source": [
        "!pip install -U -q PyDrive\n",
        "from pydrive.auth import GoogleAuth\n",
        "from pydrive.drive import GoogleDrive \n",
        "from google.colab import auth \n",
        "from oauth2client.client import GoogleCredentials\n",
        "\n",
        "auth.authenticate_user()\n",
        "gauth = GoogleAuth()\n",
        "gauth.credentials = GoogleCredentials.get_application_default()\n",
        "drive = GoogleDrive(gauth)"
      ],
      "execution_count": 0,
      "outputs": []
    },
    {
      "cell_type": "code",
      "metadata": {
        "id": "OxEk0ggRjldZ",
        "colab_type": "code",
        "outputId": "3f910d30-df69-4fc1-c8e3-47cef6b90e76",
        "colab": {
          "base_uri": "https://localhost:8080/",
          "height": 34
        }
      },
      "source": [
        "# Save your model\n",
        "model.save('chest_2.h5')\n",
        "model_file = drive.CreateFile({'chest_2' : 'chest_2.h5'})\n",
        "model_file.SetContentFile('chest_2.h5')\n",
        "model_file.Upload()\n",
        "drive.CreateFile({'id': model_file.get('id')})"
      ],
      "execution_count": 0,
      "outputs": [
        {
          "output_type": "execute_result",
          "data": {
            "text/plain": [
              "GoogleDriveFile({'id': '1q-7a4qabo9ZITIJ6gTznW3rrsCQiUkYg'})"
            ]
          },
          "metadata": {
            "tags": []
          },
          "execution_count": 26
        }
      ]
    },
    {
      "cell_type": "markdown",
      "metadata": {
        "id": "sHuddxVmjldc",
        "colab_type": "text"
      },
      "source": [
        "#### Plot training and validation loss\n",
        "Plot the training and validation loss. Does the model seem to be overfitting? Did data augmentation do anything to mitigate overfitting of the original model?\n"
      ]
    },
    {
      "cell_type": "code",
      "metadata": {
        "id": "Pnt73U5kYpWK",
        "colab_type": "code",
        "colab": {}
      },
      "source": [
        "# Your code here"
      ],
      "execution_count": 0,
      "outputs": []
    },
    {
      "cell_type": "markdown",
      "metadata": {
        "id": "nQVUJOm1jldf",
        "colab_type": "text"
      },
      "source": [
        "#### Test accuracy\n",
        "Calculate and report the test set accuracy."
      ]
    },
    {
      "cell_type": "code",
      "metadata": {
        "id": "hT9zmqxjYr-I",
        "colab_type": "code",
        "colab": {}
      },
      "source": [
        "# Your code here"
      ],
      "execution_count": 0,
      "outputs": []
    },
    {
      "cell_type": "markdown",
      "metadata": {
        "id": "04LkiOSijldl",
        "colab_type": "text"
      },
      "source": [
        "### C. Using a pretrained CNN without data augmentation\n",
        "\n",
        "Use one of the pre-trained models in Keras that has been trained using the Imagenet data set as a convolutional base. Extract features by running your training set through the base. "
      ]
    },
    {
      "cell_type": "code",
      "metadata": {
        "id": "D7njDkA2YuJU",
        "colab_type": "code",
        "colab": {}
      },
      "source": [
        "# Your code here"
      ],
      "execution_count": 0,
      "outputs": []
    },
    {
      "cell_type": "markdown",
      "metadata": {
        "id": "01wN9SAYjldo",
        "colab_type": "text"
      },
      "source": [
        "Take this output and train a classifier. You may use the classifier from previous parts of this question."
      ]
    },
    {
      "cell_type": "code",
      "metadata": {
        "id": "3NVdpvmEY17z",
        "colab_type": "code",
        "colab": {}
      },
      "source": [
        "# Your code here"
      ],
      "execution_count": 0,
      "outputs": []
    },
    {
      "cell_type": "markdown",
      "metadata": {
        "id": "u3vSumoUIDa0",
        "colab_type": "text"
      },
      "source": [
        "Save your model."
      ]
    },
    {
      "cell_type": "code",
      "metadata": {
        "id": "R5DXEgLvHhdn",
        "colab_type": "code",
        "colab": {}
      },
      "source": [
        "!pip install -U -q PyDrive\n",
        "from pydrive.auth import GoogleAuth\n",
        "from pydrive.drive import GoogleDrive \n",
        "from google.colab import auth \n",
        "from oauth2client.client import GoogleCredentials\n",
        "\n",
        "auth.authenticate_user()\n",
        "gauth = GoogleAuth()\n",
        "gauth.credentials = GoogleCredentials.get_application_default()\n",
        "drive = GoogleDrive(gauth)"
      ],
      "execution_count": 0,
      "outputs": []
    },
    {
      "cell_type": "code",
      "metadata": {
        "id": "pPCZ4t_Jjldr",
        "colab_type": "code",
        "outputId": "0c3e1091-7157-4c0b-807b-a81821ef4780",
        "colab": {
          "base_uri": "https://localhost:8080/",
          "height": 34
        }
      },
      "source": [
        "# Save your model\n",
        "model.save('chest_3.h5')\n",
        "model_file = drive.CreateFile({'chest_3' : 'chest_3.h5'})\n",
        "model_file.SetContentFile('chest_3.h5')\n",
        "model_file.Upload()\n",
        "drive.CreateFile({'id': model_file.get('id')})"
      ],
      "execution_count": 0,
      "outputs": [
        {
          "output_type": "execute_result",
          "data": {
            "text/plain": [
              "GoogleDriveFile({'id': '1d47rKbvYrQfoeboGzT60ygT4AVsKQlL4'})"
            ]
          },
          "metadata": {
            "tags": []
          },
          "execution_count": 40
        }
      ]
    },
    {
      "cell_type": "markdown",
      "metadata": {
        "id": "JD0QJkN5jldt",
        "colab_type": "text"
      },
      "source": [
        "#### Plot training and validation loss\n",
        "Plot the training and validation loss. Does the model seem to be overfitting? Does this model improve on the original model?"
      ]
    },
    {
      "cell_type": "code",
      "metadata": {
        "id": "6x7j7RuYjldu",
        "colab_type": "code",
        "colab": {}
      },
      "source": [
        "# Your code here"
      ],
      "execution_count": 0,
      "outputs": []
    },
    {
      "cell_type": "markdown",
      "metadata": {
        "id": "3anz7YgCjldx",
        "colab_type": "text"
      },
      "source": [
        "#### Test accuracy\n",
        "Calculate and report the test set accuracy."
      ]
    },
    {
      "cell_type": "code",
      "metadata": {
        "id": "UqGEPas7Y5ie",
        "colab_type": "code",
        "colab": {}
      },
      "source": [
        "# Your code here"
      ],
      "execution_count": 0,
      "outputs": []
    },
    {
      "cell_type": "markdown",
      "metadata": {
        "id": "RNjqMX1bjld0",
        "colab_type": "text"
      },
      "source": [
        "### D. Summarize results\n",
        "- Summarize the results from the 3 models you built. Which model would you choose to make future predictions? \n",
        "\n",
        "\n",
        "- List and describe at least reasons for the poor performance of the models.\n",
        "\n"
      ]
    }
  ]
}