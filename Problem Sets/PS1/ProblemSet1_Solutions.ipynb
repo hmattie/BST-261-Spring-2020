{
  "nbformat": 4,
  "nbformat_minor": 0,
  "metadata": {
    "colab": {
      "name": "ProblemSet1_Solutions.ipynb",
      "provenance": [],
      "collapsed_sections": []
    },
    "kernelspec": {
      "name": "python3",
      "display_name": "Python 3"
    }
  },
  "cells": [
    {
      "cell_type": "markdown",
      "metadata": {
        "id": "HhDo_JZP20DZ",
        "colab_type": "text"
      },
      "source": [
        "# Problem Set 1\n",
        "### Due Sunday, April 5th by 11:59pm\n",
        "\n",
        "### Question 1\n",
        "#### 60 points total\n",
        "\n",
        "You will be performing one iteration of the forward pass and backpropagation calculations for a small network using Python. Here we will focus on the calculations for one training example, though in reality your data sets will be much larger and require matrix computation. You will also calculate the associated loss.\n",
        "\n",
        "Let $X_1 = 2$ and $X_2 = -1$ be the feature inputs and initialize the weights to be as shown in the figure below. This is a neural network with a single hidden layer consisting of three nodes. The blue numbers within each node represent the values for the bias terms and the black numbers along the edges represent the weights. The hidden layer outputs a single node, from which your task is binary classification. The label for this particular training example outcome is $y = 1$. \n",
        "\n"
      ]
    },
    {
      "cell_type": "markdown",
      "metadata": {
        "id": "gkhgwFtI3-6x",
        "colab_type": "text"
      },
      "source": [
        "![network](https://drive.google.com/uc?id=1lfmGA56cIu81xD0y1SPKB7VuddS11G5o)\n"
      ]
    },
    {
      "cell_type": "markdown",
      "metadata": {
        "id": "KYD-V1epc8x4",
        "colab_type": "text"
      },
      "source": [
        "Implement a single forward pass of the network. You do not need to implement the network in keras and should instead use numpy operations (either scalar or matrix). Please use the variable names and print statements provided in the code chunks to display results for the TAs. \n",
        "\n",
        "* 20 points total\n",
        "\n",
        "* +5 if variable names provided used\n",
        "* +2 if variable correctly specified (each: hidden layer, output layer, predicted probability, prediction)\n",
        "* +5 for correct probability calculation\n",
        "* +2 for correct final prediction"
      ]
    },
    {
      "cell_type": "code",
      "metadata": {
        "id": "XDvRtn334Isx",
        "colab_type": "code",
        "outputId": "80e9b904-8f0e-4039-e5de-648c5c52adee",
        "colab": {
          "base_uri": "https://localhost:8080/",
          "height": 84
        }
      },
      "source": [
        "# Your code here (forward pass and prediction)\n",
        "\n",
        "import numpy as np\n",
        "x  = np.array([1, 2,-1])                                  # add bias/intercept as first entry\n",
        "w1 = np.matrix([[-1.8,-.4,.96], [1,.2,-.6], [1.1,0,-.3]]) # 3x3 matrix of first-layer biases and weights\n",
        "w2 = np.array([.5,.1,1.3])                                # 1x3 matrix of second-layer biases and weights\n",
        "b2 = 2                                                    # associated hidden bias term\n",
        "\n",
        "hidden = np.matmul(x,w1)           # perform matrix multiplication to get hidden layer\n",
        "output = np.matmul(hidden,w2) + b2 # perform second multiplication to output layer, making sure to add the bias\n",
        "y_hat = 1/(1+np.exp(-output))      # activation function\n",
        "prediction = np.round(y_hat)       # round for prediction\n",
        "\n",
        "print('The values for the hidden layer are:', hidden)\n",
        "print('The value for the output layer is:', output)\n",
        "print('The predicted probability is:', y_hat)\n",
        "print('The prediction is:', prediction)"
      ],
      "execution_count": 0,
      "outputs": [
        {
          "output_type": "stream",
          "text": [
            "The values for the hidden layer are: [[-0.9   0.    0.06]]\n",
            "The value for the output layer is: [[1.628]]\n",
            "The predicted probability is: [[0.83589547]]\n",
            "The prediction is: [[1.]]\n"
          ],
          "name": "stdout"
        }
      ]
    },
    {
      "cell_type": "markdown",
      "metadata": {
        "id": "PqcsmDCc3_Qm",
        "colab_type": "text"
      },
      "source": [
        "Calculate the loss for the training example making sure to select the appropriate loss function.\n",
        "\n",
        "* 10 points total\n",
        "* +5 for using binary cross-entropy\n",
        "* +5 for correct calculation\n",
        "* Note: +5 if used wrong loss function but calculated correctly"
      ]
    },
    {
      "cell_type": "code",
      "metadata": {
        "id": "6nJ15bV_2yrk",
        "colab_type": "code",
        "outputId": "0711bfaa-d558-462c-92c4-039aef799fd2",
        "colab": {
          "base_uri": "https://localhost:8080/",
          "height": 33
        }
      },
      "source": [
        "# Your code here (loss)\n",
        "\n",
        "# We use the predicted probability in the loss function.\n",
        "p_i = y_hat # see chunk above for forward-pass. \n",
        "y_i = 1     # positive outcome as defined in the problem\n",
        "loss_i = -y_i * np.log(p_i) - (1-y_i) * np.log(1-p_i) # BCE loss\n",
        "print('The loss is:',loss_i)"
      ],
      "execution_count": 0,
      "outputs": [
        {
          "output_type": "stream",
          "text": [
            "The loss is: [[0.1792517]]\n"
          ],
          "name": "stdout"
        }
      ]
    },
    {
      "cell_type": "markdown",
      "metadata": {
        "id": "1Z1mnvd6dPEC",
        "colab_type": "text"
      },
      "source": [
        "Implement a single backward pass of the network. Again use numpy and report the values using the print statements provided. Please interpret these values. In other words, what are the values you just calculated used for? \n",
        "\n",
        "* 30 points total\n",
        "* +6 points for each final output\n",
        "* Note: full credit if calculations were correct but used wrong loss function from above\n",
        "* Note: can add the bias term to the last 3 gradient calculations or not (can have 3 numbers for each or 2)\n",
        "* Note: +4 for each if attempted to calculate but calculation is incorrect"
      ]
    },
    {
      "cell_type": "code",
      "metadata": {
        "id": "QxUbVHpQdSvP",
        "colab_type": "code",
        "outputId": "a1cd4377-973d-4f0c-df1b-36b20ea7cefe",
        "colab": {
          "base_uri": "https://localhost:8080/",
          "height": 100
        }
      },
      "source": [
        "# Your code here (backprop)\n",
        "\n",
        "dl_dp = (-y_i/p_i) + (1-y_i)/(1-p_i) # gradient of loss wrt predicted probability (1x1)\n",
        "dp_do = p_i * (1-p_i)                # gradient of predicted probability wrt output layer (1x1)\n",
        "do_dw_h = hidden                     # gradient of output layer wrt hidden layer weights (1x3)\n",
        "do_db_h = 1                          # gradient of output layer wrt hidden layer bias term (1x1)\n",
        "do_dh = w2                           # gradient of output layer wrt to hidden layer inputs (1x3)\n",
        "dh_dw_input = x                      # gradient of hidden layer inputs wrt input layer. (1x3)\n",
        "\n",
        "dl_dw_h = dl_dp * dp_do * do_dw_h                # gradient of loss wrt hidden weights\n",
        "dl_db_h = dl_dp * dp_do * do_db_h                # gradient of loss wrt hidden bias term\n",
        "dl_dw_1 = dl_dp * dp_do * do_dh[0] * dh_dw_input # gradient of loss wrt input weights going to hidden node 1\n",
        "dl_dw_2 = dl_dp * dp_do * do_dh[1] * dh_dw_input # gradient of loss wrt input weights going to hidden node 2\n",
        "dl_dw_3 = dl_dp * dp_do * do_dh[2] * dh_dw_input # gradient of loss wrt input weights going to hidden node 3\n",
        "\n",
        "print('The gradients of the loss wrt to the hidden weights are:', dl_dw_h)\n",
        "print('The gradient of the loss wrt to the hidden bias is:', dl_db_h)\n",
        "print('The gradients of the loss wrt to the input weights going to hidden node 1 are:', dl_dw_1)\n",
        "print('The gradients of the loss wrt to the input weights going to hidden node 2 are:', dl_dw_2)\n",
        "print('The gradients of the loss wrt to the input weights going to hidden node 3 are:', dl_dw_3)"
      ],
      "execution_count": 0,
      "outputs": [
        {
          "output_type": "stream",
          "text": [
            "The gradients of the loss wrt to the hidden weights are: [[ 0.14769407  0.         -0.00984627]]\n",
            "The gradient of the loss wrt to the hidden bias is: [[-0.16410453]]\n",
            "The gradients of the loss wrt to the input weights going to hidden node 1 are: [[-0.08205226 -0.16410453  0.08205226]]\n",
            "The gradients of the loss wrt to the input weights going to hidden node 2 are: [[-0.01641045 -0.03282091  0.01641045]]\n",
            "The gradients of the loss wrt to the input weights going to hidden node 3 are: [[-0.21333588 -0.42667177  0.21333588]]\n"
          ],
          "name": "stdout"
        }
      ]
    },
    {
      "cell_type": "markdown",
      "metadata": {
        "id": "7yhq7yh2dddJ",
        "colab_type": "text"
      },
      "source": [
        "### Question 2\n",
        "#### 40 points total\n",
        "\n",
        "In class we were considering classification problems where the goal was to predict a single discrete label of an input data point. Another common type of machine learning problem is \"regression\", which consists of predicting a continuous value instead of a discrete label. For instance, predicting the temperature tomorrow, given meteorological data, or predicting the time that a software project will take to complete, given its specifications.\n",
        "\n",
        "You will be attempting to predict the median price of homes in a given Boston suburb in the mid-1970s, given a few data points about the suburb at the time, such as the crime rate, the local property tax rate, etc.\n",
        "\n",
        "The dataset you will be using has another interesting difference from our previous examples: it has very few data points, only 506 in total, split between 404 training samples and 102 test samples, and each \"feature\" in the input data (e.g. the crime rate is a feature) has a different scale. For instance some values are proportions, which take a values between 0 and 1, others take values between 1 and 12, others between 0 and 100.\n",
        "\n",
        "The data consists 13 features. The 13 features in the input data are as follows:\n",
        "\n",
        "1. Per capita crime rate.\n",
        "2. Proportion of residential land zoned for lots over 25,000 square feet.\n",
        "3. Proportion of non-retail business acres per town.\n",
        "4. Charles River dummy variable (= 1 if tract bounds river; 0 otherwise).\n",
        "5. Nitric oxides concentration (parts per 10 million).\n",
        "6. Average number of rooms per dwelling.\n",
        "7. Proportion of owner-occupied units built prior to 1940.\n",
        "8. Weighted distances to five Boston employment centres.\n",
        "9. Index of accessibility to radial highways.\n",
        "10. Full-value property-tax rate per $10,000.\n",
        "11. Pupil-teacher ratio by town.\n",
        "12. 1000(Bk - 0.63)^2 where Bk is the proportion of Black people by town.\n",
        "13. % lower SES status of the population.\n",
        "\n",
        "The targets (outcomes, y) are the median values of owner-occupied homes, in thousands of dollars. The prices are typically between 10,000 and 50,000 dollars. If that sounds cheap, remember this was the mid-1970s, and these prices are not inflation-adjusted."
      ]
    },
    {
      "cell_type": "code",
      "metadata": {
        "id": "gvYAHFmJdguK",
        "colab_type": "code",
        "outputId": "976842f5-9fc6-4324-831e-efdf18606794",
        "colab": {
          "base_uri": "https://localhost:8080/",
          "height": 624
        }
      },
      "source": [
        "# Import necessary packages\n",
        "from __future__ import absolute_import, division, print_function, unicode_literals\n",
        "try:\n",
        "  # %tensorflow_version only exists in Colab.\n",
        "  %tensorflow_version 2.x\n",
        "except Exception:\n",
        "  pass\n",
        "import tensorflow as tf\n",
        "import tensorflow_datasets as tfds\n",
        "!pip install tensorflow-hub\n",
        "!pip install tfds-nightly\n",
        "import tensorflow_hub as hub\n",
        "import keras\n",
        "from keras import models\n",
        "from keras import layers\n",
        "import numpy as np"
      ],
      "execution_count": 0,
      "outputs": [
        {
          "output_type": "stream",
          "text": [
            "Requirement already satisfied: tensorflow-hub in /usr/local/lib/python3.6/dist-packages (0.8.0)\n",
            "Requirement already satisfied: protobuf>=3.8.0 in /usr/local/lib/python3.6/dist-packages (from tensorflow-hub) (3.10.0)\n",
            "Requirement already satisfied: six>=1.12.0 in /usr/local/lib/python3.6/dist-packages (from tensorflow-hub) (1.12.0)\n",
            "Requirement already satisfied: numpy>=1.12.0 in /usr/local/lib/python3.6/dist-packages (from tensorflow-hub) (1.18.3)\n",
            "Requirement already satisfied: setuptools in /usr/local/lib/python3.6/dist-packages (from protobuf>=3.8.0->tensorflow-hub) (46.1.3)\n",
            "Collecting tfds-nightly\n",
            "\u001b[?25l  Downloading https://files.pythonhosted.org/packages/02/de/91ed9b4918b26d7910defe682dcc2c76895792b0b8adb98cdf28b1b781ff/tfds_nightly-3.0.0.dev202004280105-py3-none-any.whl (3.3MB)\n",
            "\u001b[K     |████████████████████████████████| 3.3MB 2.7MB/s \n",
            "\u001b[?25hRequirement already satisfied: six in /usr/local/lib/python3.6/dist-packages (from tfds-nightly) (1.12.0)\n",
            "Requirement already satisfied: tensorflow-metadata in /usr/local/lib/python3.6/dist-packages (from tfds-nightly) (0.21.2)\n",
            "Requirement already satisfied: numpy in /usr/local/lib/python3.6/dist-packages (from tfds-nightly) (1.18.3)\n",
            "Requirement already satisfied: promise in /usr/local/lib/python3.6/dist-packages (from tfds-nightly) (2.3)\n",
            "Requirement already satisfied: requests>=2.19.0 in /usr/local/lib/python3.6/dist-packages (from tfds-nightly) (2.21.0)\n",
            "Requirement already satisfied: termcolor in /usr/local/lib/python3.6/dist-packages (from tfds-nightly) (1.1.0)\n",
            "Requirement already satisfied: future in /usr/local/lib/python3.6/dist-packages (from tfds-nightly) (0.16.0)\n",
            "Requirement already satisfied: wrapt in /usr/local/lib/python3.6/dist-packages (from tfds-nightly) (1.12.1)\n",
            "Requirement already satisfied: dill in /usr/local/lib/python3.6/dist-packages (from tfds-nightly) (0.3.1.1)\n",
            "Requirement already satisfied: tqdm in /usr/local/lib/python3.6/dist-packages (from tfds-nightly) (4.38.0)\n",
            "Requirement already satisfied: absl-py in /usr/local/lib/python3.6/dist-packages (from tfds-nightly) (0.9.0)\n",
            "Requirement already satisfied: protobuf>=3.6.1 in /usr/local/lib/python3.6/dist-packages (from tfds-nightly) (3.10.0)\n",
            "Requirement already satisfied: attrs>=18.1.0 in /usr/local/lib/python3.6/dist-packages (from tfds-nightly) (19.3.0)\n",
            "Requirement already satisfied: googleapis-common-protos in /usr/local/lib/python3.6/dist-packages (from tensorflow-metadata->tfds-nightly) (1.51.0)\n",
            "Requirement already satisfied: urllib3<1.25,>=1.21.1 in /usr/local/lib/python3.6/dist-packages (from requests>=2.19.0->tfds-nightly) (1.24.3)\n",
            "Requirement already satisfied: chardet<3.1.0,>=3.0.2 in /usr/local/lib/python3.6/dist-packages (from requests>=2.19.0->tfds-nightly) (3.0.4)\n",
            "Requirement already satisfied: certifi>=2017.4.17 in /usr/local/lib/python3.6/dist-packages (from requests>=2.19.0->tfds-nightly) (2020.4.5.1)\n",
            "Requirement already satisfied: idna<2.9,>=2.5 in /usr/local/lib/python3.6/dist-packages (from requests>=2.19.0->tfds-nightly) (2.8)\n",
            "Requirement already satisfied: setuptools in /usr/local/lib/python3.6/dist-packages (from protobuf>=3.6.1->tfds-nightly) (46.1.3)\n",
            "Installing collected packages: tfds-nightly\n",
            "Successfully installed tfds-nightly-3.0.0.dev202004280105\n"
          ],
          "name": "stdout"
        },
        {
          "output_type": "display_data",
          "data": {
            "application/vnd.colab-display-data+json": {
              "pip_warning": {
                "packages": [
                  "tensorflow_datasets"
                ]
              }
            }
          },
          "metadata": {
            "tags": []
          }
        },
        {
          "output_type": "stream",
          "text": [
            "Using TensorFlow backend.\n"
          ],
          "name": "stderr"
        }
      ]
    },
    {
      "cell_type": "code",
      "metadata": {
        "id": "fGIw3FrDdkvU",
        "colab_type": "code",
        "outputId": "eb2966bb-ae80-4974-ef36-c6ee0dd0cb8a",
        "colab": {
          "base_uri": "https://localhost:8080/",
          "height": 50
        }
      },
      "source": [
        "# Load the data\n",
        "from keras.datasets import boston_housing\n",
        "\n",
        "(train_data, train_targets), (test_data, test_targets) =  boston_housing.load_data()"
      ],
      "execution_count": 0,
      "outputs": [
        {
          "output_type": "stream",
          "text": [
            "Downloading data from https://s3.amazonaws.com/keras-datasets/boston_housing.npz\n",
            "57344/57026 [==============================] - 0s 0us/step\n"
          ],
          "name": "stdout"
        }
      ]
    },
    {
      "cell_type": "markdown",
      "metadata": {
        "id": "rMSqxOTMdssk",
        "colab_type": "text"
      },
      "source": [
        "Print the dimensions of the training set, i.e. its shape\n",
        "* 2 points total (all or nothing)"
      ]
    },
    {
      "cell_type": "code",
      "metadata": {
        "id": "DhGIEEbhdqYN",
        "colab_type": "code",
        "outputId": "8f384d12-2580-415d-ad28-627541533332",
        "colab": {
          "base_uri": "https://localhost:8080/",
          "height": 33
        }
      },
      "source": [
        "# Your code here\n",
        "\n",
        "train_data.shape"
      ],
      "execution_count": 0,
      "outputs": [
        {
          "output_type": "execute_result",
          "data": {
            "text/plain": [
              "(404, 13)"
            ]
          },
          "metadata": {
            "tags": []
          },
          "execution_count": 7
        }
      ]
    },
    {
      "cell_type": "markdown",
      "metadata": {
        "id": "H0NyaW24dzaA",
        "colab_type": "text"
      },
      "source": [
        "Print the dimensions of the test set, i.e. its shape\n",
        "* 2 points total (all or nothing)"
      ]
    },
    {
      "cell_type": "code",
      "metadata": {
        "id": "cn0dcQmzdz2I",
        "colab_type": "code",
        "outputId": "c56444f5-5b18-47f7-bd60-dd58b6e4f7c7",
        "colab": {
          "base_uri": "https://localhost:8080/",
          "height": 33
        }
      },
      "source": [
        "# Your code here\n",
        "\n",
        "test_data.shape"
      ],
      "execution_count": 0,
      "outputs": [
        {
          "output_type": "execute_result",
          "data": {
            "text/plain": [
              "(102, 13)"
            ]
          },
          "metadata": {
            "tags": []
          },
          "execution_count": 8
        }
      ]
    },
    {
      "cell_type": "markdown",
      "metadata": {
        "id": "sE0BC6OAd1Im",
        "colab_type": "text"
      },
      "source": [
        "It would be problematic to feed into a neural network values that all take wildly different ranges. The network might be able to automatically adapt to such heterogeneous data, but it would definitely make learning more difficult. A widespread best practice to deal with such data is to do feature-wise normalization: for each feature in the input data (a column in the input data matrix), we will subtract the mean of the feature and divide by the standard deviation, so that the feature will be centered around 0 and will have a unit standard deviation.\n",
        "\n",
        "Normalize the data. Be sure to normalize the test set with the training set mean and standard deviation.\n",
        "\n",
        "* 5 points total\n",
        "* +3 if attempted but done incorrectly"
      ]
    },
    {
      "cell_type": "code",
      "metadata": {
        "id": "LaLYdnb6d45w",
        "colab_type": "code",
        "outputId": "08b303ff-e1f4-4009-8ac7-2e41b4ae9fd1",
        "colab": {
          "base_uri": "https://localhost:8080/",
          "height": 33
        }
      },
      "source": [
        "# Your code here\n",
        "\n",
        "mean = train_data.mean(axis=0)\n",
        "train_data -= mean\n",
        "std = train_data.std(axis=0)\n",
        "train_data /= std\n",
        "\n",
        "test_data -= mean\n",
        "test_data /= std"
      ],
      "execution_count": 0,
      "outputs": [
        {
          "output_type": "execute_result",
          "data": {
            "text/plain": [
              "13"
            ]
          },
          "metadata": {
            "tags": []
          },
          "execution_count": 9
        }
      ]
    },
    {
      "cell_type": "markdown",
      "metadata": {
        "id": "bmVCNvzJd93b",
        "colab_type": "text"
      },
      "source": [
        "Fit a fully connected neural network with 2 hidden layers and an output layer. Include 64 hidden units in each hidden layer and an appropriate number of units in the output layer. You are free to choose the activation functions. Use the `rmsprop` optimization function, and choose an appropriate loss function and model performance measure. Referring to the table shown in lectures 2 and 3 may help with these choices. Run the network for 50 epochs and use a batch_size of 10.\n",
        "\n",
        "* 15 points total\n",
        "* +10 for correct architecture\n",
        "* +3 for correct `optimizer`, `loss` and `metrics` (can be `mae` or `mse`)\n",
        "* +2 for correct number of `epochs` and `batch_size`"
      ]
    },
    {
      "cell_type": "code",
      "metadata": {
        "id": "f737O4fVd-cf",
        "colab_type": "code",
        "outputId": "36b29f5d-cb25-44d9-b8c5-a198f8442e9b",
        "colab": {
          "base_uri": "https://localhost:8080/",
          "height": 1000
        }
      },
      "source": [
        "# Define model\n",
        "model = tf.keras.models.Sequential([\n",
        "  # Layer 1 (Hidden layer)\n",
        "  tf.keras.layers.Dense(64, activation='relu', input_shape=(train_data.shape[1],)),\n",
        "  # Layer 1 (Hidden layer)\n",
        "  tf.keras.layers.Dense(64, activation='relu'),\n",
        "  # Layer 2 (Output layer)\n",
        "  tf.keras.layers.Dense(1)\n",
        "])\n",
        "\n",
        "# Define how to execute training\n",
        "model.compile(optimizer='rmsprop',\n",
        "              loss='mse',\n",
        "              metrics=['mae'])\n",
        "\n",
        "# Train the network\n",
        "model.fit(train_data, train_targets, epochs=50, batch_size=10)\n"
      ],
      "execution_count": 0,
      "outputs": [
        {
          "output_type": "stream",
          "text": [
            "Epoch 1/50\n",
            "41/41 [==============================] - 0s 2ms/step - loss: 457.4248 - mae: 19.4603\n",
            "Epoch 2/50\n",
            "41/41 [==============================] - 0s 1ms/step - loss: 193.1421 - mae: 11.4705\n",
            "Epoch 3/50\n",
            "41/41 [==============================] - 0s 1ms/step - loss: 57.7316 - mae: 5.6917\n",
            "Epoch 4/50\n",
            "41/41 [==============================] - 0s 1ms/step - loss: 30.1684 - mae: 3.8842\n",
            "Epoch 5/50\n",
            "41/41 [==============================] - 0s 1ms/step - loss: 21.7600 - mae: 3.2585\n",
            "Epoch 6/50\n",
            "41/41 [==============================] - 0s 1ms/step - loss: 18.7365 - mae: 3.0403\n",
            "Epoch 7/50\n",
            "41/41 [==============================] - 0s 1ms/step - loss: 16.6716 - mae: 2.8656\n",
            "Epoch 8/50\n",
            "41/41 [==============================] - 0s 1ms/step - loss: 15.1871 - mae: 2.7117\n",
            "Epoch 9/50\n",
            "41/41 [==============================] - 0s 2ms/step - loss: 14.1992 - mae: 2.6246\n",
            "Epoch 10/50\n",
            "41/41 [==============================] - 0s 2ms/step - loss: 14.2262 - mae: 2.5373\n",
            "Epoch 11/50\n",
            "41/41 [==============================] - 0s 1ms/step - loss: 12.5624 - mae: 2.5265\n",
            "Epoch 12/50\n",
            "41/41 [==============================] - 0s 1ms/step - loss: 11.7692 - mae: 2.4417\n",
            "Epoch 13/50\n",
            "41/41 [==============================] - 0s 1ms/step - loss: 11.3304 - mae: 2.3987\n",
            "Epoch 14/50\n",
            "41/41 [==============================] - 0s 2ms/step - loss: 11.1447 - mae: 2.3471\n",
            "Epoch 15/50\n",
            "41/41 [==============================] - 0s 1ms/step - loss: 10.6879 - mae: 2.3391\n",
            "Epoch 16/50\n",
            "41/41 [==============================] - 0s 1ms/step - loss: 10.3428 - mae: 2.3314\n",
            "Epoch 17/50\n",
            "41/41 [==============================] - 0s 1ms/step - loss: 9.9920 - mae: 2.2505\n",
            "Epoch 18/50\n",
            "41/41 [==============================] - 0s 1ms/step - loss: 9.8536 - mae: 2.2057\n",
            "Epoch 19/50\n",
            "41/41 [==============================] - 0s 1ms/step - loss: 9.7390 - mae: 2.2417\n",
            "Epoch 20/50\n",
            "41/41 [==============================] - 0s 1ms/step - loss: 9.3743 - mae: 2.2076\n",
            "Epoch 21/50\n",
            "41/41 [==============================] - 0s 2ms/step - loss: 9.2720 - mae: 2.1877\n",
            "Epoch 22/50\n",
            "41/41 [==============================] - 0s 1ms/step - loss: 10.6529 - mae: 2.1429\n",
            "Epoch 23/50\n",
            "41/41 [==============================] - 0s 2ms/step - loss: 8.8870 - mae: 2.1513\n",
            "Epoch 24/50\n",
            "41/41 [==============================] - 0s 1ms/step - loss: 8.8201 - mae: 2.1150\n",
            "Epoch 25/50\n",
            "41/41 [==============================] - 0s 1ms/step - loss: 8.6741 - mae: 2.1042\n",
            "Epoch 26/50\n",
            "41/41 [==============================] - 0s 1ms/step - loss: 8.2145 - mae: 2.0574\n",
            "Epoch 27/50\n",
            "41/41 [==============================] - 0s 1ms/step - loss: 8.5014 - mae: 2.0713\n",
            "Epoch 28/50\n",
            "41/41 [==============================] - 0s 1ms/step - loss: 8.2716 - mae: 2.0703\n",
            "Epoch 29/50\n",
            "41/41 [==============================] - 0s 1ms/step - loss: 8.2498 - mae: 2.0761\n",
            "Epoch 30/50\n",
            "41/41 [==============================] - 0s 1ms/step - loss: 7.9373 - mae: 2.0251\n",
            "Epoch 31/50\n",
            "41/41 [==============================] - 0s 2ms/step - loss: 7.8855 - mae: 1.9873\n",
            "Epoch 32/50\n",
            "41/41 [==============================] - 0s 1ms/step - loss: 7.8178 - mae: 1.9867\n",
            "Epoch 33/50\n",
            "41/41 [==============================] - 0s 1ms/step - loss: 7.7522 - mae: 1.9954\n",
            "Epoch 34/50\n",
            "41/41 [==============================] - 0s 2ms/step - loss: 7.4808 - mae: 1.9750\n",
            "Epoch 35/50\n",
            "41/41 [==============================] - 0s 2ms/step - loss: 7.7442 - mae: 1.9427\n",
            "Epoch 36/50\n",
            "41/41 [==============================] - 0s 1ms/step - loss: 7.4496 - mae: 1.9400\n",
            "Epoch 37/50\n",
            "41/41 [==============================] - 0s 1ms/step - loss: 7.3961 - mae: 1.9619\n",
            "Epoch 38/50\n",
            "41/41 [==============================] - 0s 2ms/step - loss: 7.1926 - mae: 1.9082\n",
            "Epoch 39/50\n",
            "41/41 [==============================] - 0s 1ms/step - loss: 7.1349 - mae: 1.9233\n",
            "Epoch 40/50\n",
            "41/41 [==============================] - 0s 1ms/step - loss: 7.1504 - mae: 1.8926\n",
            "Epoch 41/50\n",
            "41/41 [==============================] - 0s 1ms/step - loss: 6.9721 - mae: 1.9026\n",
            "Epoch 42/50\n",
            "41/41 [==============================] - 0s 1ms/step - loss: 6.9811 - mae: 1.8948\n",
            "Epoch 43/50\n",
            "41/41 [==============================] - 0s 1ms/step - loss: 7.0484 - mae: 1.8815\n",
            "Epoch 44/50\n",
            "41/41 [==============================] - 0s 1ms/step - loss: 6.9275 - mae: 1.8585\n",
            "Epoch 45/50\n",
            "41/41 [==============================] - 0s 1ms/step - loss: 6.7781 - mae: 1.7996\n",
            "Epoch 46/50\n",
            "41/41 [==============================] - 0s 1ms/step - loss: 6.6797 - mae: 1.8363\n",
            "Epoch 47/50\n",
            "41/41 [==============================] - 0s 1ms/step - loss: 6.6599 - mae: 1.8101\n",
            "Epoch 48/50\n",
            "41/41 [==============================] - 0s 1ms/step - loss: 6.5304 - mae: 1.8353\n",
            "Epoch 49/50\n",
            "41/41 [==============================] - 0s 1ms/step - loss: 6.3253 - mae: 1.7907\n",
            "Epoch 50/50\n",
            "41/41 [==============================] - 0s 1ms/step - loss: 6.2865 - mae: 1.8288\n"
          ],
          "name": "stdout"
        },
        {
          "output_type": "execute_result",
          "data": {
            "text/plain": [
              "<tensorflow.python.keras.callbacks.History at 0x7fc6b56721d0>"
            ]
          },
          "metadata": {
            "tags": []
          },
          "execution_count": 6
        }
      ]
    },
    {
      "cell_type": "markdown",
      "metadata": {
        "id": "C4vCuvMgeEt-",
        "colab_type": "text"
      },
      "source": [
        "Report the test set accuracy and compare it to the training set accuracy. **Interpret what this means in words, in terms of what you are trying to do with your network**.\n",
        "\n",
        "* 6 points total\n",
        "* +1 for printing test set mae (or mse)\n",
        "* +5 for correct interpretation (+3 for attempt at interpretation if incorrect)\n"
      ]
    },
    {
      "cell_type": "code",
      "metadata": {
        "id": "l6L5KOegeFSA",
        "colab_type": "code",
        "outputId": "335c9be8-90ab-450b-b648-eefba0926a59",
        "colab": {
          "base_uri": "https://localhost:8080/",
          "height": 50
        }
      },
      "source": [
        "# Your code here\n",
        "\n",
        "test_loss, test_acc = model.evaluate(test_data, test_targets)\n",
        "print(test_acc)"
      ],
      "execution_count": 0,
      "outputs": [
        {
          "output_type": "stream",
          "text": [
            "4/4 [==============================] - 0s 2ms/step - loss: 38.7699 - mae: 2.6322\n",
            "2.632237672805786\n"
          ],
          "name": "stdout"
        }
      ]
    },
    {
      "cell_type": "markdown",
      "metadata": {
        "id": "mAsjzPnmeFYW",
        "colab_type": "text"
      },
      "source": [
        "Answer: The test set has a larger error, 2.639 compared to 1.8239. This means that on average, for the test set, our predictions are off by about $2,639.\n",
        "\n",
        "---\n",
        "\n"
      ]
    },
    {
      "cell_type": "markdown",
      "metadata": {
        "id": "WiurzMl4eK_1",
        "colab_type": "text"
      },
      "source": [
        "Now fit the same network as above but with 16 hidden nodes in each hidden layer. **What is the test set accuracy and how does it compare to the first network you created? Which model do you think is better?**\n",
        "\n",
        "* 10 points total\n",
        "* +3 for correct model\n",
        "* +2 for printing test set mae (or mse)\n",
        "* +5 for correct interpretation (Note: depending on initialized weights, model 2 *could* perform better than model 1, but it isn't likely. Full credit if interpretation is correct according to their model performance. +3 if attempted interpretation but is incorrect)"
      ]
    },
    {
      "cell_type": "code",
      "metadata": {
        "id": "-jt993H3eLb9",
        "colab_type": "code",
        "outputId": "a21a1cb2-af7f-4da3-a04c-90d1fd40dc95",
        "colab": {
          "base_uri": "https://localhost:8080/",
          "height": 1000
        }
      },
      "source": [
        "# Your code here\n",
        "# Define model\n",
        "model = tf.keras.models.Sequential([\n",
        "  # Layer 1 (Hidden layer)\n",
        "  tf.keras.layers.Dense(16, activation='relu', input_shape=(train_data.shape[1],)),\n",
        "  # Layer 1 (Hidden layer)\n",
        "  tf.keras.layers.Dense(16, activation='relu'),\n",
        "  # Layer 2 (Output layer)\n",
        "  tf.keras.layers.Dense(1)\n",
        "])\n",
        "\n",
        "# Define how to execute training\n",
        "model.compile(optimizer='rmsprop',\n",
        "              loss='mse',\n",
        "              metrics=['mae'])\n",
        "\n",
        "# Train the network\n",
        "model.fit(train_data, train_targets, epochs=50, batch_size=10)\n",
        "\n",
        "\n",
        "test_loss, test_acc = model.evaluate(test_data, test_targets)\n",
        "print(test_acc)"
      ],
      "execution_count": 0,
      "outputs": [
        {
          "output_type": "stream",
          "text": [
            "Epoch 1/50\n",
            "41/41 [==============================] - 0s 2ms/step - loss: 559.7197 - mae: 21.5644\n",
            "Epoch 2/50\n",
            "41/41 [==============================] - 0s 1ms/step - loss: 508.6738 - mae: 20.3363\n",
            "Epoch 3/50\n",
            "41/41 [==============================] - 0s 2ms/step - loss: 459.2370 - mae: 18.8632\n",
            "Epoch 4/50\n",
            "41/41 [==============================] - 0s 1ms/step - loss: 392.1576 - mae: 17.2056\n",
            "Epoch 5/50\n",
            "41/41 [==============================] - 0s 1ms/step - loss: 320.9544 - mae: 15.3372\n",
            "Epoch 6/50\n",
            "41/41 [==============================] - 0s 1ms/step - loss: 249.4106 - mae: 13.2812\n",
            "Epoch 7/50\n",
            "41/41 [==============================] - 0s 1ms/step - loss: 170.4425 - mae: 10.8541\n",
            "Epoch 8/50\n",
            "41/41 [==============================] - 0s 1ms/step - loss: 109.1861 - mae: 8.2960\n",
            "Epoch 9/50\n",
            "41/41 [==============================] - 0s 1ms/step - loss: 68.1801 - mae: 6.3325\n",
            "Epoch 10/50\n",
            "41/41 [==============================] - 0s 1ms/step - loss: 50.6507 - mae: 5.3764\n",
            "Epoch 11/50\n",
            "41/41 [==============================] - 0s 1ms/step - loss: 42.3778 - mae: 4.7258\n",
            "Epoch 12/50\n",
            "41/41 [==============================] - 0s 2ms/step - loss: 34.3900 - mae: 4.2825\n",
            "Epoch 13/50\n",
            "41/41 [==============================] - 0s 1ms/step - loss: 30.0295 - mae: 3.9212\n",
            "Epoch 14/50\n",
            "41/41 [==============================] - 0s 1ms/step - loss: 26.6287 - mae: 3.6881\n",
            "Epoch 15/50\n",
            "41/41 [==============================] - 0s 1ms/step - loss: 25.0266 - mae: 3.5009\n",
            "Epoch 16/50\n",
            "41/41 [==============================] - 0s 1ms/step - loss: 23.4952 - mae: 3.3655\n",
            "Epoch 17/50\n",
            "41/41 [==============================] - 0s 1ms/step - loss: 22.2712 - mae: 3.2769\n",
            "Epoch 18/50\n",
            "41/41 [==============================] - 0s 1ms/step - loss: 21.1670 - mae: 3.2073\n",
            "Epoch 19/50\n",
            "41/41 [==============================] - 0s 1ms/step - loss: 20.3262 - mae: 3.1582\n",
            "Epoch 20/50\n",
            "41/41 [==============================] - 0s 1ms/step - loss: 19.7638 - mae: 3.0877\n",
            "Epoch 21/50\n",
            "41/41 [==============================] - 0s 1ms/step - loss: 19.0230 - mae: 3.0353\n",
            "Epoch 22/50\n",
            "41/41 [==============================] - 0s 1ms/step - loss: 18.1577 - mae: 2.9803\n",
            "Epoch 23/50\n",
            "41/41 [==============================] - 0s 1ms/step - loss: 17.6002 - mae: 2.9759\n",
            "Epoch 24/50\n",
            "41/41 [==============================] - 0s 1ms/step - loss: 17.1279 - mae: 2.9036\n",
            "Epoch 25/50\n",
            "41/41 [==============================] - 0s 1ms/step - loss: 16.6834 - mae: 2.8669\n",
            "Epoch 26/50\n",
            "41/41 [==============================] - 0s 1ms/step - loss: 16.2990 - mae: 2.8245\n",
            "Epoch 27/50\n",
            "41/41 [==============================] - 0s 1ms/step - loss: 15.9518 - mae: 2.7765\n",
            "Epoch 28/50\n",
            "41/41 [==============================] - 0s 1ms/step - loss: 15.2709 - mae: 2.7634\n",
            "Epoch 29/50\n",
            "41/41 [==============================] - 0s 1ms/step - loss: 14.9620 - mae: 2.7087\n",
            "Epoch 30/50\n",
            "41/41 [==============================] - 0s 1ms/step - loss: 14.6119 - mae: 2.6771\n",
            "Epoch 31/50\n",
            "41/41 [==============================] - 0s 1ms/step - loss: 14.2747 - mae: 2.6414\n",
            "Epoch 32/50\n",
            "41/41 [==============================] - 0s 1ms/step - loss: 13.9698 - mae: 2.6312\n",
            "Epoch 33/50\n",
            "41/41 [==============================] - 0s 1ms/step - loss: 13.6307 - mae: 2.5773\n",
            "Epoch 34/50\n",
            "41/41 [==============================] - 0s 1ms/step - loss: 13.6466 - mae: 2.5624\n",
            "Epoch 35/50\n",
            "41/41 [==============================] - 0s 1ms/step - loss: 13.0593 - mae: 2.5606\n",
            "Epoch 36/50\n",
            "41/41 [==============================] - 0s 1ms/step - loss: 12.9677 - mae: 2.5161\n",
            "Epoch 37/50\n",
            "41/41 [==============================] - 0s 1ms/step - loss: 12.7098 - mae: 2.4767\n",
            "Epoch 38/50\n",
            "41/41 [==============================] - 0s 1ms/step - loss: 12.5184 - mae: 2.4740\n",
            "Epoch 39/50\n",
            "41/41 [==============================] - 0s 1ms/step - loss: 12.3772 - mae: 2.4649\n",
            "Epoch 40/50\n",
            "41/41 [==============================] - 0s 2ms/step - loss: 12.1907 - mae: 2.4504\n",
            "Epoch 41/50\n",
            "41/41 [==============================] - 0s 2ms/step - loss: 11.9839 - mae: 2.4160\n",
            "Epoch 42/50\n",
            "41/41 [==============================] - 0s 1ms/step - loss: 11.8728 - mae: 2.4168\n",
            "Epoch 43/50\n",
            "41/41 [==============================] - 0s 1ms/step - loss: 11.6072 - mae: 2.3762\n",
            "Epoch 44/50\n",
            "41/41 [==============================] - 0s 1ms/step - loss: 11.4375 - mae: 2.3580\n",
            "Epoch 45/50\n",
            "41/41 [==============================] - 0s 1ms/step - loss: 11.6052 - mae: 2.3651\n",
            "Epoch 46/50\n",
            "41/41 [==============================] - 0s 1ms/step - loss: 11.4039 - mae: 2.3560\n",
            "Epoch 47/50\n",
            "41/41 [==============================] - 0s 1ms/step - loss: 11.2269 - mae: 2.3228\n",
            "Epoch 48/50\n",
            "41/41 [==============================] - 0s 1ms/step - loss: 11.2970 - mae: 2.3484\n",
            "Epoch 49/50\n",
            "41/41 [==============================] - 0s 1ms/step - loss: 11.0792 - mae: 2.3302\n",
            "Epoch 50/50\n",
            "41/41 [==============================] - 0s 1ms/step - loss: 11.0465 - mae: 2.3088\n",
            "4/4 [==============================] - 0s 2ms/step - loss: 43.1242 - mae: 3.0831\n",
            "3.0830862522125244\n"
          ],
          "name": "stdout"
        }
      ]
    },
    {
      "cell_type": "markdown",
      "metadata": {
        "id": "xvogMSN_eNPF",
        "colab_type": "text"
      },
      "source": [
        "Answer: The first model has a lower MAE than this model, so the first models performs better. This means the more complex model (64 hidden units in each hidden layer vs 16 hidden units in each hidden layer) is better for this task."
      ]
    }
  ]
}