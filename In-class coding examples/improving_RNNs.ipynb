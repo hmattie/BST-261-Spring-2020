{
  "nbformat": 4,
  "nbformat_minor": 0,
  "metadata": {
    "kernelspec": {
      "display_name": "Python 3",
      "language": "python",
      "name": "python3"
    },
    "language_info": {
      "codemirror_mode": {
        "name": "ipython",
        "version": 3
      },
      "file_extension": ".py",
      "mimetype": "text/x-python",
      "name": "python",
      "nbconvert_exporter": "python",
      "pygments_lexer": "ipython3",
      "version": "3.7.3"
    },
    "colab": {
      "name": "improving_RNNs.ipynb",
      "provenance": [],
      "collapsed_sections": [
        "7fRzt4IjwJtp"
      ]
    }
  },
  "cells": [
    {
      "cell_type": "markdown",
      "metadata": {
        "id": "0gZI0Tf7wJsb",
        "colab_type": "text"
      },
      "source": [
        "# Improving RNN Performance and Generalizability\n",
        "\n",
        "In this notebook, we will review three advanced techniques for improving the performance and generalization power of recurrent neural networks. We will demonstrate all three concepts on a weather forecasting problem, where we have access to a timeseries of data points coming from sensors installed on the roof of a building, such as temperature, air pressure, and humidity, which we use to predict what the temperature will be 24 hours after the last data point collected. This is a fairly challenging problem that exemplifies many common difficulties encountered when working with timeseries.\n",
        "\n",
        "We will cover the following techniques:\n",
        "\n",
        "* *__Recurrent dropout__*, a specific, built-in way to use dropout to fight overfitting in recurrent layers.\n",
        "* *__Stacking recurrent layers__*, to increase the representational power of the network (at the cost of higher computational loads).\n",
        "* *__Bidirectional recurrent layers__*, which presents the same information to a recurrent network in different ways, increasing accuracy and \n",
        "mitigating forgetting issues."
      ]
    },
    {
      "cell_type": "markdown",
      "metadata": {
        "id": "O8QzZuxNwJsb",
        "colab_type": "text"
      },
      "source": [
        "## A temperature forecasting problem\n",
        "\n",
        "Until now, the only sequence data we have covered has been text data, for instance the IMDb dataset. But sequence \n",
        "data is found in many more problems than just language processing. In all of our examples in this section, we will be playing with a weather timeseries dataset recorded at the Weather Station at the Max-Planck-Institute for Biogeochemistry in Jena, Germany: http://www.bgc-jena.mpg.de/wetter/.\n",
        "\n",
        "In this dataset, 14 different quantities (such air temperature, atmospheric pressure, humidity, wind direction, etc.) are recorded every 10 minutes, over several years. The original data goes back to 2003, but we limit ourselves to data from 2009-2016. This dataset is perfect for learning to work with numerical timeseries. We will use it to build a model that takes as input some data from the recent past (a few days worth of data points) and predicts the air temperature 24 hours in the future."
      ]
    },
    {
      "cell_type": "markdown",
      "metadata": {
        "id": "quG66dGDwJsc",
        "colab_type": "text"
      },
      "source": [
        "Let's take a look at the data:"
      ]
    },
    {
      "cell_type": "code",
      "metadata": {
        "id": "pRaENiWVwTqu",
        "colab_type": "code",
        "outputId": "47ace5a0-30b4-4305-861a-3350a36a1314",
        "colab": {
          "base_uri": "https://localhost:8080/",
          "height": 34
        }
      },
      "source": [
        "import numpy as np\n",
        "from sklearn.decomposition import PCA\n",
        "import matplotlib\n",
        "import matplotlib.pyplot as plt\n",
        "import os\n",
        "\n",
        "# Import the TF V2 through this magic command\n",
        "%tensorflow_version 2.x\n",
        "\n",
        "import tensorflow as tf\n",
        "import tensorflow.keras\n",
        "from tensorflow.keras import backend as K\n",
        "\n",
        "# Check the Version of the Tensor Flow. It should be the version 2\n",
        "print(tf.__version__)\n",
        "import keras\n",
        "from keras.datasets import imdb\n",
        "from keras import preprocessing"
      ],
      "execution_count": 0,
      "outputs": [
        {
          "output_type": "stream",
          "text": [
            "2.2.0-rc3\n"
          ],
          "name": "stdout"
        }
      ]
    },
    {
      "cell_type": "code",
      "metadata": {
        "id": "txcag5bdwUig",
        "colab_type": "code",
        "outputId": "f82bdfd2-fcf7-4b4c-d060-16a7eef602b1",
        "colab": {
          "base_uri": "https://localhost:8080/",
          "height": 122
        }
      },
      "source": [
        "# Mount the drive\n",
        "from google.colab import drive\n",
        "drive.mount('/content/drive', force_remount=True)\n",
        "\n",
        "# The first time that you run this cell, you will need to authorize access in your drive. \n",
        "# Go to the link and copy the authorization code"
      ],
      "execution_count": 0,
      "outputs": [
        {
          "output_type": "stream",
          "text": [
            "Go to this URL in a browser: https://accounts.google.com/o/oauth2/auth?client_id=947318989803-6bn6qk8qdgf4n4g3pfee6491hc0brc4i.apps.googleusercontent.com&redirect_uri=urn%3aietf%3awg%3aoauth%3a2.0%3aoob&response_type=code&scope=email%20https%3a%2f%2fwww.googleapis.com%2fauth%2fdocs.test%20https%3a%2f%2fwww.googleapis.com%2fauth%2fdrive%20https%3a%2f%2fwww.googleapis.com%2fauth%2fdrive.photos.readonly%20https%3a%2f%2fwww.googleapis.com%2fauth%2fpeopleapi.readonly\n",
            "\n",
            "Enter your authorization code:\n",
            "··········\n",
            "Mounted at /content/drive\n"
          ],
          "name": "stdout"
        }
      ]
    },
    {
      "cell_type": "code",
      "metadata": {
        "id": "xQuzCF3zwVD_",
        "colab_type": "code",
        "colab": {}
      },
      "source": [
        "fname = 'drive/My Drive/Teaching/BST 261/2020/In progress notebooks/jena_climate_2009_2016.csv'"
      ],
      "execution_count": 0,
      "outputs": []
    },
    {
      "cell_type": "code",
      "metadata": {
        "scrolled": true,
        "id": "-6mhbwq7wJsd",
        "colab_type": "code",
        "outputId": "e6e05fc6-22ad-49a9-d48a-bc955af3327f",
        "colab": {
          "base_uri": "https://localhost:8080/",
          "height": 71
        }
      },
      "source": [
        "f = open(fname)\n",
        "data = f.read()\n",
        "f.close()\n",
        "\n",
        "lines = data.split('\\n')     # Each line is 1 recording\n",
        "header = lines[0].split(',') # Variable names are separated by commas\n",
        "lines = lines[1:]            # Drop first line (it's a header)\n",
        "\n",
        "print(header)\n",
        "print(len(lines))"
      ],
      "execution_count": 0,
      "outputs": [
        {
          "output_type": "stream",
          "text": [
            "['\"Date Time\"', '\"p (mbar)\"', '\"T (degC)\"', '\"Tpot (K)\"', '\"Tdew (degC)\"', '\"rh (%)\"', '\"VPmax (mbar)\"', '\"VPact (mbar)\"', '\"VPdef (mbar)\"', '\"sh (g/kg)\"', '\"H2OC (mmol/mol)\"', '\"rho (g/m**3)\"', '\"wv (m/s)\"', '\"max. wv (m/s)\"', '\"wd (deg)\"']\n",
            "420551\n"
          ],
          "name": "stdout"
        }
      ]
    },
    {
      "cell_type": "markdown",
      "metadata": {
        "id": "F_A2fLd4wJsf",
        "colab_type": "text"
      },
      "source": [
        "Let's convert all of these 420,551 lines of data into a Numpy array:"
      ]
    },
    {
      "cell_type": "code",
      "metadata": {
        "id": "mqJSObrnwJsg",
        "colab_type": "code",
        "outputId": "d1d97e85-835c-45f4-95da-595a88180d6c",
        "colab": {
          "base_uri": "https://localhost:8080/",
          "height": 34
        }
      },
      "source": [
        "import numpy as np\n",
        "\n",
        "float_data = np.zeros((len(lines), len(header) - 1))\n",
        "for i, line in enumerate(lines):\n",
        "    values = [float(x) for x in line.split(',')[1:]]\n",
        "    float_data[i, :] = values\n",
        "print(float_data.shape)"
      ],
      "execution_count": 0,
      "outputs": [
        {
          "output_type": "stream",
          "text": [
            "(420551, 14)\n"
          ],
          "name": "stdout"
        }
      ]
    },
    {
      "cell_type": "markdown",
      "metadata": {
        "id": "bJNKW8tAwJsj",
        "colab_type": "text"
      },
      "source": [
        "For instance, here is the plot of temperature (in degrees Celsius) over time:"
      ]
    },
    {
      "cell_type": "code",
      "metadata": {
        "id": "Rn5bpjbXwJsj",
        "colab_type": "code",
        "outputId": "4b0efaf3-88bd-4953-8cb1-490084114437",
        "colab": {
          "base_uri": "https://localhost:8080/",
          "height": 285
        }
      },
      "source": [
        "from matplotlib import pyplot as plt\n",
        "\n",
        "temp = float_data[:, 1]  # temperature (in degrees Celsius)\n",
        "plt.plot(range(len(temp)), temp)\n",
        "#plt.show()"
      ],
      "execution_count": 0,
      "outputs": [
        {
          "output_type": "execute_result",
          "data": {
            "text/plain": [
              "[<matplotlib.lines.Line2D at 0x7f8e3ec1b358>]"
            ]
          },
          "metadata": {
            "tags": []
          },
          "execution_count": 6
        },
        {
          "output_type": "display_data",
          "data": {
            "image/png": "[encoded data removed]",
            "text/plain": [
              "<Figure size 432x288 with 1 Axes>"
            ]
          },
          "metadata": {
            "tags": [],
            "needs_background": "light"
          }
        }
      ]
    },
    {
      "cell_type": "markdown",
      "metadata": {
        "id": "GP34c7ygwJsm",
        "colab_type": "text"
      },
      "source": [
        "\n",
        "On this plot, you can clearly see the yearly periodicity of temperature.\n",
        "\n",
        "Here is a more narrow plot of the first ten days of temperature data (since the data is recorded every ten minutes, we get 144 data points \n",
        "per day):"
      ]
    },
    {
      "cell_type": "code",
      "metadata": {
        "id": "M1m7idO6wJsm",
        "colab_type": "code",
        "outputId": "309142da-eee5-40ea-89df-ea2769bd4d9a",
        "colab": {
          "base_uri": "https://localhost:8080/",
          "height": 265
        }
      },
      "source": [
        "plt.plot(range(1440), temp[:1440])\n",
        "plt.show()"
      ],
      "execution_count": 0,
      "outputs": [
        {
          "output_type": "display_data",
          "data": {
            "image/png": "[encoded data removed]",
            "text/plain": [
              "<Figure size 432x288 with 1 Axes>"
            ]
          },
          "metadata": {
            "tags": [],
            "needs_background": "light"
          }
        }
      ]
    },
    {
      "cell_type": "markdown",
      "metadata": {
        "id": "28hYPkdBwJsp",
        "colab_type": "text"
      },
      "source": [
        "\n",
        "On this plot, you can see daily periodicity, especially evident for the last 4 days. We can also note that this ten-days period must be \n",
        "coming from a fairly cold winter month.\n",
        "\n",
        "If we were trying to predict average temperature for the next month given a few month of past data, the problem would be easy, due to the \n",
        "reliable year-scale periodicity of the data. But looking at the data over a scale of days, the temperature looks a lot more chaotic. So is \n",
        "this timeseries predictable at a daily scale? Let's find out."
      ]
    },
    {
      "cell_type": "markdown",
      "metadata": {
        "id": "nZXighcIwJsq",
        "colab_type": "text"
      },
      "source": [
        "## Preparing the data\n",
        "\n",
        "\n",
        "The exact formulation of our problem will be the following: given data going as far back as `lookback` timesteps (a timestep is 10 minutes) \n",
        "and sampled every `steps` timesteps, can we predict the temperature in `delay` timesteps?\n",
        "\n",
        "We will use the following parameter values:\n",
        "\n",
        "* `lookback = 1440`, i.e. our observations will go back 10 days.\n",
        "* `steps = 6`, i.e. our observations will be sampled at one data point per hour.\n",
        "* `delay = 144`, i.e. our targets will be 24 hours in the future.\n",
        "\n",
        "To get started, we need to do two things:\n",
        "\n",
        "* Preprocess the data to a format a neural network can ingest. This is easy: the data is already numerical, so we don't need to do any \n",
        "vectorization. However each timeseries in the data is on a different scale (e.g. temperature is typically between -20 and +30, but \n",
        "pressure, measured in mbar, is around 1000). So we will normalize each timeseries independently so that they all take small values on a \n",
        "similar scale.\n",
        "* Write a Python generator that takes our current array of float data and yields batches of data from the recent past, alongside with a \n",
        "target temperature in the future. Since the samples in our dataset are highly redundant (e.g. sample `N` and sample `N + 1` will have most \n",
        "of their timesteps in common), it would be very wasteful to explicitly allocate every sample. Instead, we will generate the samples on the \n",
        "fly using the original data.\n",
        "\n",
        "We preprocess the data by subtracting the mean of each timeseries and dividing by the standard deviation. We plan on using the first \n",
        "200,000 timesteps as training data, so we compute the mean and standard deviation only on this fraction of the data:"
      ]
    },
    {
      "cell_type": "code",
      "metadata": {
        "id": "bgQv31_CwJsr",
        "colab_type": "code",
        "colab": {}
      },
      "source": [
        "mean = float_data[:200000].mean(axis=0)\n",
        "float_data -= mean\n",
        "std = float_data[:200000].std(axis=0)\n",
        "float_data /= std"
      ],
      "execution_count": 0,
      "outputs": []
    },
    {
      "cell_type": "markdown",
      "metadata": {
        "id": "bj8_jjwrwJst",
        "colab_type": "text"
      },
      "source": [
        "\n",
        "Now here is the data generator that we will use. It yields a tuple `(samples, targets)` where `samples` is one batch of input data and \n",
        "`targets` is the corresponding array of target temperatures. It takes the following arguments:\n",
        "\n",
        "* `data`: The original array of floating point data, which we just normalized in the code snippet above.\n",
        "* `lookback`: How many timesteps back should our input data go.\n",
        "* `delay`: How many timesteps in the future should our target be.\n",
        "* `min_index` and `max_index`: Indices in the `data` array that delimit which timesteps to draw from. This is useful for keeping a segment \n",
        "of the data for validation and another one for testing.\n",
        "* `shuffle`: Whether to shuffle our samples or draw them in chronological order.\n",
        "* `batch_size`: The number of samples per batch.\n",
        "* `step`: The period, in timesteps, at which we sample data. We will set it 6 in order to draw one data point every hour."
      ]
    },
    {
      "cell_type": "code",
      "metadata": {
        "id": "YVhY76vxwJsu",
        "colab_type": "code",
        "colab": {}
      },
      "source": [
        "def generator(data, lookback, delay, min_index, max_index,\n",
        "              shuffle=False, batch_size=128, step=6):\n",
        "    if max_index is None:\n",
        "        max_index = len(data) - delay - 1\n",
        "    i = min_index + lookback\n",
        "    while 1:\n",
        "        if shuffle:\n",
        "            rows = np.random.randint(\n",
        "                min_index + lookback, max_index, size=batch_size)\n",
        "        else:\n",
        "            if i + batch_size >= max_index:\n",
        "                i = min_index + lookback\n",
        "            rows = np.arange(i, min(i + batch_size, max_index))\n",
        "            i += len(rows)\n",
        "\n",
        "        samples = np.zeros((len(rows),\n",
        "                           lookback // step,\n",
        "                           data.shape[-1]))\n",
        "        targets = np.zeros((len(rows),))\n",
        "        for j, row in enumerate(rows):\n",
        "            indices = range(rows[j] - lookback, rows[j], step)\n",
        "            samples[j] = data[indices]\n",
        "            targets[j] = data[rows[j] + delay][1]\n",
        "        yield samples, targets"
      ],
      "execution_count": 0,
      "outputs": []
    },
    {
      "cell_type": "markdown",
      "metadata": {
        "id": "3K6vic0KwJsw",
        "colab_type": "text"
      },
      "source": [
        "\n",
        "Now let's use our abstract generator function to instantiate three generators, one for training, one for validation and one for testing. \n",
        "Each will look at different temporal segments of the original data: the training generator looks at the first 200,000 timesteps, the \n",
        "validation generator looks at the following 100,000, and the test generator looks at the remainder."
      ]
    },
    {
      "cell_type": "code",
      "metadata": {
        "id": "BSXBDp-AwJsx",
        "colab_type": "code",
        "outputId": "9ccccf68-17a0-4158-fcdd-835496660fea",
        "colab": {
          "base_uri": "https://localhost:8080/",
          "height": 51
        }
      },
      "source": [
        "lookback = 1440\n",
        "step = 6\n",
        "delay = 144\n",
        "batch_size = 128\n",
        "\n",
        "train_gen = generator(float_data,\n",
        "                      lookback=lookback,\n",
        "                      delay=delay,\n",
        "                      min_index=0,\n",
        "                      max_index=200000,\n",
        "                      shuffle=True,\n",
        "                      step=step, \n",
        "                      batch_size=batch_size)\n",
        "val_gen = generator(float_data,\n",
        "                    lookback=lookback,\n",
        "                    delay=delay,\n",
        "                    min_index=200001,\n",
        "                    max_index=300000,\n",
        "                    step=step,\n",
        "                    batch_size=batch_size)\n",
        "test_gen = generator(float_data,\n",
        "                     lookback=lookback,\n",
        "                     delay=delay,\n",
        "                     min_index=300001,\n",
        "                     max_index=None,\n",
        "                     step=step,\n",
        "                     batch_size=batch_size)\n",
        "\n",
        "# This is how many steps to draw from `val_gen`\n",
        "# in order to see the whole validation set:\n",
        "val_steps = (300000 - 200001 - lookback) // batch_size\n",
        "\n",
        "# This is how many steps to draw from `test_gen`\n",
        "# in order to see the whole test set:\n",
        "test_steps = (len(float_data) - 300001 - lookback) // batch_size\n",
        "\n",
        "print(val_steps)\n",
        "print(test_steps)"
      ],
      "execution_count": 0,
      "outputs": [
        {
          "output_type": "stream",
          "text": [
            "769\n",
            "930\n"
          ],
          "name": "stdout"
        }
      ]
    },
    {
      "cell_type": "markdown",
      "metadata": {
        "id": "zrm_xYLJwJs0",
        "colab_type": "text"
      },
      "source": [
        "## A common sense, non-machine learning baseline\n",
        "\n",
        "\n",
        "Before we start leveraging black-box deep learning models to solve our temperature prediction problem, let's try out a simple common-sense \n",
        "approach. It will serve as a sanity check, and it will establish a baseline that we will have to beat in order to demonstrate the \n",
        "usefulness of more advanced machine learning models. Such common-sense baselines can be very useful when approaching a new problem for \n",
        "which there is no known solution (yet). A classic example is that of unbalanced classification tasks, where some classes can be much more \n",
        "common than others. If your dataset contains 90% of instances of class A and 10% of instances of class B, then a common sense approach to \n",
        "the classification task would be to always predict \"A\" when presented with a new sample. Such a classifier would be 90% accurate overall, \n",
        "and any learning-based approach should therefore beat this 90% score in order to demonstrate usefulness. Sometimes such elementary \n",
        "baseline can prove surprisingly hard to beat.\n",
        "\n",
        "In our case, the temperature timeseries can safely be assumed to be continuous (the temperatures tomorrow are likely to be close to the \n",
        "temperatures today) as well as periodical with a daily period. Thus a common sense approach would be to always predict that the temperature \n",
        "24 hours from now will be equal to the temperature right now. Let's evaluate this approach, using the Mean Absolute Error metric (MAE). \n",
        "Mean Absolute Error is simply equal to `mean(abs(predictions - targets))`."
      ]
    },
    {
      "cell_type": "markdown",
      "metadata": {
        "id": "fLRPdKHrwJs0",
        "colab_type": "text"
      },
      "source": [
        "Here's our evaluation loop:"
      ]
    },
    {
      "cell_type": "code",
      "metadata": {
        "id": "Zjt6wloQwJs0",
        "colab_type": "code",
        "outputId": "41750997-a14e-4722-871a-c274b1998389",
        "colab": {
          "base_uri": "https://localhost:8080/",
          "height": 34
        }
      },
      "source": [
        "def evaluate_naive_method():\n",
        "    batch_maes = []\n",
        "    for step in range(val_steps):\n",
        "        samples, targets = next(val_gen)\n",
        "        preds = samples[:, -1, 1]\n",
        "        mae = np.mean(np.abs(preds - targets))\n",
        "        batch_maes.append(mae)\n",
        "    print(np.mean(batch_maes))\n",
        "    \n",
        "evaluate_naive_method()"
      ],
      "execution_count": 0,
      "outputs": [
        {
          "output_type": "stream",
          "text": [
            "0.2897359729905486\n"
          ],
          "name": "stdout"
        }
      ]
    },
    {
      "cell_type": "markdown",
      "metadata": {
        "id": "6gUfCtlcwJs4",
        "colab_type": "text"
      },
      "source": [
        "It yields a MAE of 0.29. Since our temperature data has been normalized to be centered on 0 and have a standard deviation of one, this \n",
        "number is not immediately interpretable. It translates to an average absolute error of `0.29 * temperature_std` degrees Celsius, i.e. \n",
        "2.57˚C. That's a fairly large average absolute error -- now the game is to leverage our knowledge of deep learning to do better. "
      ]
    },
    {
      "cell_type": "markdown",
      "metadata": {
        "id": "0vaF-AzqwJs5",
        "colab_type": "text"
      },
      "source": [
        "## A basic machine learning approach\n",
        "\n",
        "In the same way that it is useful to establish a common sense baseline before trying machine learning approaches, it is useful to try \n",
        "simple and cheap machine learning models (such as small densely-connected networks) before looking into complicated and computationally \n",
        "expensive models such as RNNs. This is the best way to make sure that any further complexity we throw at the problem later on is legitimate \n",
        "and delivers real benefits.\n",
        "\n",
        "Here is a simply fully-connected model in which we start by flattening the data, then run it through two `Dense` layers. Note the lack of \n",
        "activation function on the last `Dense` layer, which is typical for a regression problem. We use MAE as the loss. Since we are evaluating \n",
        "on the exact same data and with the exact same metric as with our common sense approach, the results will be directly comparable."
      ]
    },
    {
      "cell_type": "code",
      "metadata": {
        "id": "XwO40FKcwJs5",
        "colab_type": "code",
        "outputId": "8c212b56-1038-4336-eb1e-ec5d458120da",
        "colab": {
          "base_uri": "https://localhost:8080/",
          "height": 697
        }
      },
      "source": [
        "model = tf.keras.models.Sequential([\n",
        "  tf.keras.layers.Flatten(input_shape=(lookback // step, float_data.shape[-1])),\n",
        "\n",
        "  tf.keras.layers.Dense(32, activation='relu'),\n",
        "  tf.keras.layers.Dense(1)\n",
        "])\n",
        "\n",
        "model.compile(optimizer = tf.keras.optimizers.RMSprop(), \n",
        "              loss='mae')\n",
        "\n",
        "history = model.fit(train_gen,\n",
        "                    steps_per_epoch=500,\n",
        "                    epochs=20,\n",
        "                    validation_data=val_gen,\n",
        "                    validation_steps=val_steps)"
      ],
      "execution_count": 0,
      "outputs": [
        {
          "output_type": "stream",
          "text": [
            "Epoch 1/20\n",
            "500/500 [==============================] - 14s 28ms/step - loss: 1.2441 - val_loss: 0.6557\n",
            "Epoch 2/20\n",
            "500/500 [==============================] - 13s 27ms/step - loss: 0.4048 - val_loss: 0.3310\n",
            "Epoch 3/20\n",
            "500/500 [==============================] - 13s 27ms/step - loss: 0.2927 - val_loss: 0.3093\n",
            "Epoch 4/20\n",
            "500/500 [==============================] - 14s 27ms/step - loss: 0.2671 - val_loss: 0.3060\n",
            "Epoch 5/20\n",
            "500/500 [==============================] - 13s 27ms/step - loss: 0.2537 - val_loss: 0.3083\n",
            "Epoch 6/20\n",
            "500/500 [==============================] - 13s 27ms/step - loss: 0.2436 - val_loss: 0.3319\n",
            "Epoch 7/20\n",
            "500/500 [==============================] - 13s 27ms/step - loss: 0.2373 - val_loss: 0.3254\n",
            "Epoch 8/20\n",
            "500/500 [==============================] - 13s 27ms/step - loss: 0.2324 - val_loss: 0.3162\n",
            "Epoch 9/20\n",
            "500/500 [==============================] - 14s 28ms/step - loss: 0.2268 - val_loss: 0.3168\n",
            "Epoch 10/20\n",
            "500/500 [==============================] - 14s 27ms/step - loss: 0.2225 - val_loss: 0.3282\n",
            "Epoch 11/20\n",
            "500/500 [==============================] - 16s 31ms/step - loss: 0.2209 - val_loss: 0.3305\n",
            "Epoch 12/20\n",
            "500/500 [==============================] - 14s 28ms/step - loss: 0.2178 - val_loss: 0.3271\n",
            "Epoch 13/20\n",
            "500/500 [==============================] - 14s 27ms/step - loss: 0.2132 - val_loss: 0.3410\n",
            "Epoch 14/20\n",
            "500/500 [==============================] - 13s 27ms/step - loss: 0.2094 - val_loss: 0.3612\n",
            "Epoch 15/20\n",
            "500/500 [==============================] - 13s 27ms/step - loss: 0.2088 - val_loss: 0.3479\n",
            "Epoch 16/20\n",
            "500/500 [==============================] - 14s 28ms/step - loss: 0.2068 - val_loss: 0.3242\n",
            "Epoch 17/20\n",
            "500/500 [==============================] - 14s 27ms/step - loss: 0.2046 - val_loss: 0.3330\n",
            "Epoch 18/20\n",
            "500/500 [==============================] - 17s 33ms/step - loss: 0.2025 - val_loss: 0.3221\n",
            "Epoch 19/20\n",
            "500/500 [==============================] - 16s 32ms/step - loss: 0.2009 - val_loss: 0.3259\n",
            "Epoch 20/20\n",
            "500/500 [==============================] - 14s 27ms/step - loss: 0.1991 - val_loss: 0.3339\n"
          ],
          "name": "stdout"
        }
      ]
    },
    {
      "cell_type": "markdown",
      "metadata": {
        "id": "ajj3UdnrwJs8",
        "colab_type": "text"
      },
      "source": [
        "Let's display the loss curves for validation and training:"
      ]
    },
    {
      "cell_type": "code",
      "metadata": {
        "id": "e2z0prvrwJs8",
        "colab_type": "code",
        "outputId": "65c3052e-7bbe-474d-f5cc-d63877c7b2e1",
        "colab": {
          "base_uri": "https://localhost:8080/",
          "height": 356
        }
      },
      "source": [
        "import seaborn as sns\n",
        "sns.set()\n",
        "\n",
        "train_loss = history.history['loss']\n",
        "val_loss = history.history['val_loss']\n",
        "\n",
        "epochs = range(1, len(train_loss) + 1)\n",
        "\n",
        "plt.plot(epochs, train_loss, label = 'Training Loss')\n",
        "plt.plot(epochs, val_loss, label = 'Validation Loss')\n",
        "plt.xlabel('Epochs')\n",
        "plt.ylabel('Loss')\n",
        "plt.legend()"
      ],
      "execution_count": 0,
      "outputs": [
        {
          "output_type": "stream",
          "text": [
            "/usr/local/lib/python3.6/dist-packages/statsmodels/tools/_testing.py:19: FutureWarning: pandas.util.testing is deprecated. Use the functions in the public API at pandas.testing instead.\n",
            "  import pandas.util.testing as tm\n"
          ],
          "name": "stderr"
        },
        {
          "output_type": "execute_result",
          "data": {
            "text/plain": [
              "<matplotlib.legend.Legend at 0x7f8e33f0d160>"
            ]
          },
          "metadata": {
            "tags": []
          },
          "execution_count": 13
        },
        {
          "output_type": "display_data",
          "data": {
            "image/png": "[encoded data removed]",
            "text/plain": [
              "<Figure size 432x288 with 1 Axes>"
            ]
          },
          "metadata": {
            "tags": []
          }
        }
      ]
    },
    {
      "cell_type": "markdown",
      "metadata": {
        "id": "_2rMOdEwwJs-",
        "colab_type": "text"
      },
      "source": [
        "\n",
        "Some of our validation losses get close to the no-learning baseline, but not very reliably. This goes to show the merit of having had this baseline in the first place: it turns out not to be so easy to outperform. Our \n",
        "common sense contains already a lot of valuable information that a machine learning model does not have access to.\n",
        "\n",
        "You may ask, if there exists a simple, well-performing model to go from the data to the targets (our common sense baseline), why doesn't \n",
        "the model we are training find it and improve on it? Simply put: because this simple solution is not what our training setup is looking \n",
        "for. The space of models in which we are searching for a solution, i.e. our hypothesis space, is the space of all possible 2-layer networks \n",
        "with the configuration that we defined. These networks are already fairly complicated. When looking for a solution with a space of \n",
        "complicated models, the simple well-performing baseline might be unlearnable, even if it's technically part of the hypothesis space. That \n",
        "is a pretty significant limitation of machine learning in general: unless the learning algorithm is hard-coded to look for a specific kind \n",
        "of simple model, parameter learning can sometimes fail to find a simple solution to a simple problem."
      ]
    },
    {
      "cell_type": "markdown",
      "metadata": {
        "id": "aaqe3XWfwJs_",
        "colab_type": "text"
      },
      "source": [
        "## A first recurrent baseline\n",
        "\n",
        "\n",
        "Our first fully-connected approach didn't do so well, but that doesn't mean machine learning is not applicable to our problem. The approach \n",
        "above consisted in first flattening the timeseries, which removed the notion of time from the input data. Let us instead look at our data \n",
        "as what it is: a sequence, where causality and order matter. We will try a recurrent sequence processing model -- it should be the perfect \n",
        "fit for such sequence data, precisely because it does exploit the temporal ordering of data points, unlike our first approach.\n",
        "\n",
        "Instead of the `LSTM` layer introduced in the previous section, we will use the `GRU` layer, developed by Cho et al. in 2014. `GRU` layers \n",
        "(which stands for \"gated recurrent unit\") work by leveraging the same principle as LSTM, but they are somewhat streamlined and thus cheaper \n",
        "to run, albeit they may not have quite as much representational power as LSTM. This trade-off between computational expensiveness and \n",
        "representational power is seen everywhere in machine learning."
      ]
    },
    {
      "cell_type": "code",
      "metadata": {
        "id": "MgMk49AiwJs_",
        "colab_type": "code",
        "outputId": "003900e0-80a7-4cd3-b28c-28fac34d418b",
        "colab": {
          "base_uri": "https://localhost:8080/",
          "height": 697
        }
      },
      "source": [
        "model = tf.keras.models.Sequential([\n",
        "  tf.keras.layers.GRU(32, input_shape=(None, float_data.shape[-1])),\n",
        "\n",
        "  tf.keras.layers.Dense(1)\n",
        "])\n",
        "\n",
        "model.compile(optimizer = tf.keras.optimizers.RMSprop(), \n",
        "              loss='mae')\n",
        "\n",
        "history = model.fit(train_gen,\n",
        "                    steps_per_epoch=500,\n",
        "                    epochs=20,\n",
        "                    validation_data=val_gen,\n",
        "                    validation_steps=val_steps)"
      ],
      "execution_count": 0,
      "outputs": [
        {
          "output_type": "stream",
          "text": [
            "Epoch 1/20\n",
            "500/500 [==============================] - 86s 172ms/step - loss: 0.3163 - val_loss: 0.2723\n",
            "Epoch 2/20\n",
            "500/500 [==============================] - 85s 169ms/step - loss: 0.2826 - val_loss: 0.2780\n",
            "Epoch 3/20\n",
            "500/500 [==============================] - 85s 170ms/step - loss: 0.2768 - val_loss: 0.2654\n",
            "Epoch 4/20\n",
            "500/500 [==============================] - 85s 170ms/step - loss: 0.2736 - val_loss: 0.2647\n",
            "Epoch 5/20\n",
            "500/500 [==============================] - 85s 170ms/step - loss: 0.2690 - val_loss: 0.2632\n",
            "Epoch 6/20\n",
            "500/500 [==============================] - 86s 172ms/step - loss: 0.2660 - val_loss: 0.2614\n",
            "Epoch 7/20\n",
            "500/500 [==============================] - 86s 171ms/step - loss: 0.2627 - val_loss: 0.2633\n",
            "Epoch 8/20\n",
            "500/500 [==============================] - 86s 172ms/step - loss: 0.2570 - val_loss: 0.2672\n",
            "Epoch 9/20\n",
            "500/500 [==============================] - 86s 173ms/step - loss: 0.2535 - val_loss: 0.2632\n",
            "Epoch 10/20\n",
            "500/500 [==============================] - 85s 171ms/step - loss: 0.2490 - val_loss: 0.2700\n",
            "Epoch 11/20\n",
            "500/500 [==============================] - 86s 172ms/step - loss: 0.2446 - val_loss: 0.2739\n",
            "Epoch 12/20\n",
            "500/500 [==============================] - 85s 170ms/step - loss: 0.2412 - val_loss: 0.2762\n",
            "Epoch 13/20\n",
            "500/500 [==============================] - 84s 168ms/step - loss: 0.2377 - val_loss: 0.2803\n",
            "Epoch 14/20\n",
            "500/500 [==============================] - 87s 174ms/step - loss: 0.2309 - val_loss: 0.2788\n",
            "Epoch 15/20\n",
            "500/500 [==============================] - 85s 169ms/step - loss: 0.2306 - val_loss: 0.2838\n",
            "Epoch 16/20\n",
            "500/500 [==============================] - 85s 169ms/step - loss: 0.2273 - val_loss: 0.2905\n",
            "Epoch 17/20\n",
            "500/500 [==============================] - 85s 170ms/step - loss: 0.2231 - val_loss: 0.2927\n",
            "Epoch 18/20\n",
            "500/500 [==============================] - 85s 171ms/step - loss: 0.2191 - val_loss: 0.2958\n",
            "Epoch 19/20\n",
            "500/500 [==============================] - 87s 174ms/step - loss: 0.2155 - val_loss: 0.2951\n",
            "Epoch 20/20\n",
            "500/500 [==============================] - 86s 171ms/step - loss: 0.2145 - val_loss: 0.2983\n"
          ],
          "name": "stdout"
        }
      ]
    },
    {
      "cell_type": "markdown",
      "metadata": {
        "id": "bJBKt0FLwJtB",
        "colab_type": "text"
      },
      "source": [
        "Let look at our results:"
      ]
    },
    {
      "cell_type": "code",
      "metadata": {
        "id": "XSmVZIkXwJtC",
        "colab_type": "code",
        "outputId": "166cce9c-94e5-4a87-e6cc-b2ee54d4bf7c",
        "colab": {
          "base_uri": "https://localhost:8080/",
          "height": 303
        }
      },
      "source": [
        "import seaborn as sns\n",
        "sns.set()\n",
        "\n",
        "train_loss = history.history['loss']\n",
        "val_loss = history.history['val_loss']\n",
        "\n",
        "epochs = range(1, len(train_loss) + 1)\n",
        "\n",
        "plt.plot(epochs, train_loss, label = 'Training Loss')\n",
        "plt.plot(epochs, val_loss, label = 'Validation Loss')\n",
        "plt.xlabel('Epochs')\n",
        "plt.ylabel('Loss')\n",
        "plt.legend()"
      ],
      "execution_count": 0,
      "outputs": [
        {
          "output_type": "execute_result",
          "data": {
            "text/plain": [
              "<matplotlib.legend.Legend at 0x7f8e3263bb00>"
            ]
          },
          "metadata": {
            "tags": []
          },
          "execution_count": 17
        },
        {
          "output_type": "display_data",
          "data": {
            "image/png": "[encoded data removed]",
            "text/plain": [
              "<Figure size 432x288 with 1 Axes>"
            ]
          },
          "metadata": {
            "tags": []
          }
        }
      ]
    },
    {
      "cell_type": "markdown",
      "metadata": {
        "id": "oUNN8c4XwJtE",
        "colab_type": "text"
      },
      "source": [
        "\n",
        "Much better! We are able to significantly beat the common sense baseline, such demonstrating the value of machine learning here, as well as \n",
        "the superiority of recurrent networks compared to sequence-flattening dense networks on this type of task.\n",
        "\n",
        "Our new validation MAE of ~0.265 (before we start significantly overfitting) translates to a mean absolute error of 2.35˚C after \n",
        "de-normalization. That's a solid gain on our initial error of 2.57˚C, but we probably still have a bit of margin for improvement."
      ]
    },
    {
      "cell_type": "markdown",
      "metadata": {
        "id": "F8Qhx3lWwJtE",
        "colab_type": "text"
      },
      "source": [
        "## Using recurrent dropout to fight overfitting\n",
        "\n",
        "\n",
        "It is evident from our training and validation curves that our model is overfitting: the training and validation losses start diverging \n",
        "considerably after a few epochs. You are already familiar with a classic technique for fighting this phenomenon: dropout, consisting in \n",
        "randomly zeroing-out input units of a layer in order to break happenstance correlations in the training data that the layer is exposed to. \n",
        "How to correctly apply dropout in recurrent networks, however, is not a trivial question. It has long been known that applying dropout \n",
        "before a recurrent layer hinders learning rather than helping with regularization. In 2015, Yarin Gal, as part of his Ph.D. thesis on \n",
        "Bayesian deep learning, determined the proper way to use dropout with a recurrent network: the same dropout mask (the same pattern of \n",
        "dropped units) should be applied at every timestep, instead of a dropout mask that would vary randomly from timestep to timestep. What's \n",
        "more: in order to regularize the representations formed by the recurrent gates of layers such as GRU and LSTM, a temporally constant \n",
        "dropout mask should be applied to the inner recurrent activations of the layer (a \"recurrent\" dropout mask). Using the same dropout mask at \n",
        "every timestep allows the network to properly propagate its learning error through time; a temporally random dropout mask would instead \n",
        "disrupt this error signal and be harmful to the learning process.\n",
        "\n",
        "Yarin Gal did his research using Keras and helped build this mechanism directly into Keras recurrent layers. Every recurrent layer in Keras \n",
        "has two dropout-related arguments: `dropout`, a float specifying the dropout rate for input units of the layer, and `recurrent_dropout`, \n",
        "specifying the dropout rate of the recurrent units. Let's add dropout and recurrent dropout to our GRU layer and see how it impacts \n",
        "overfitting. Because networks being regularized with dropout always take longer to fully converge, we train our network for twice as many \n",
        "epochs."
      ]
    },
    {
      "cell_type": "code",
      "metadata": {
        "id": "9cv6qQfEwJtF",
        "colab_type": "code",
        "outputId": "74a8c406-1caa-4b84-89d9-1b8f9b2d984f",
        "colab": {
          "base_uri": "https://localhost:8080/",
          "height": 1000
        }
      },
      "source": [
        "model = tf.keras.models.Sequential([\n",
        "  tf.keras.layers.GRU(32, \n",
        "                      dropout = 0.2,\n",
        "                      recurrent_dropout=0.2,\n",
        "                      input_shape=(None, float_data.shape[-1])),\n",
        "\n",
        "  tf.keras.layers.Dense(1)\n",
        "])\n",
        "\n",
        "model.compile(optimizer = tf.keras.optimizers.RMSprop(), \n",
        "              loss='mae')\n",
        "\n",
        "history = model.fit(train_gen,\n",
        "                    steps_per_epoch=500,\n",
        "                    epochs=40,\n",
        "                    validation_data=val_gen,\n",
        "                    validation_steps=val_steps)"
      ],
      "execution_count": 0,
      "outputs": [
        {
          "output_type": "stream",
          "text": [
            "Epoch 1/40\n",
            "500/500 [==============================] - 151s 302ms/step - loss: 0.3291 - val_loss: 0.2800\n",
            "Epoch 2/40\n",
            "500/500 [==============================] - 150s 300ms/step - loss: 0.3038 - val_loss: 0.2753\n",
            "Epoch 3/40\n",
            "500/500 [==============================] - 150s 300ms/step - loss: 0.3002 - val_loss: 0.2809\n",
            "Epoch 4/40\n",
            "500/500 [==============================] - 151s 302ms/step - loss: 0.2954 - val_loss: 0.2732\n",
            "Epoch 5/40\n",
            "500/500 [==============================] - 151s 301ms/step - loss: 0.2900 - val_loss: 0.2712\n",
            "Epoch 6/40\n",
            "500/500 [==============================] - 151s 301ms/step - loss: 0.2872 - val_loss: 0.2696\n",
            "Epoch 7/40\n",
            "500/500 [==============================] - 151s 302ms/step - loss: 0.2830 - val_loss: 0.2721\n",
            "Epoch 8/40\n",
            "500/500 [==============================] - 151s 302ms/step - loss: 0.2805 - val_loss: 0.2703\n",
            "Epoch 9/40\n",
            "500/500 [==============================] - 151s 301ms/step - loss: 0.2759 - val_loss: 0.2714\n",
            "Epoch 10/40\n",
            "500/500 [==============================] - 151s 302ms/step - loss: 0.2706 - val_loss: 0.2763\n",
            "Epoch 11/40\n",
            "500/500 [==============================] - 150s 301ms/step - loss: 0.2683 - val_loss: 0.2700\n",
            "Epoch 12/40\n",
            "500/500 [==============================] - 151s 301ms/step - loss: 0.2646 - val_loss: 0.2715\n",
            "Epoch 13/40\n",
            "500/500 [==============================] - 153s 305ms/step - loss: 0.2616 - val_loss: 0.2816\n",
            "Epoch 14/40\n",
            "500/500 [==============================] - 156s 311ms/step - loss: 0.2597 - val_loss: 0.2755\n",
            "Epoch 15/40\n",
            "500/500 [==============================] - 153s 306ms/step - loss: 0.2588 - val_loss: 0.2732\n",
            "Epoch 16/40\n",
            "500/500 [==============================] - 153s 305ms/step - loss: 0.2574 - val_loss: 0.2755\n",
            "Epoch 17/40\n",
            "500/500 [==============================] - 153s 305ms/step - loss: 0.2545 - val_loss: 0.2773\n",
            "Epoch 18/40\n",
            "500/500 [==============================] - 156s 313ms/step - loss: 0.2519 - val_loss: 0.2759\n",
            "Epoch 19/40\n",
            "500/500 [==============================] - 152s 303ms/step - loss: 0.2498 - val_loss: 0.2782\n",
            "Epoch 20/40\n",
            "500/500 [==============================] - 153s 306ms/step - loss: 0.2476 - val_loss: 0.2790\n",
            "Epoch 21/40\n",
            "500/500 [==============================] - 152s 304ms/step - loss: 0.2460 - val_loss: 0.2833\n",
            "Epoch 22/40\n",
            "500/500 [==============================] - 157s 314ms/step - loss: 0.2435 - val_loss: 0.2850\n",
            "Epoch 23/40\n",
            "500/500 [==============================] - 152s 304ms/step - loss: 0.2424 - val_loss: 0.2908\n",
            "Epoch 24/40\n",
            "500/500 [==============================] - 153s 306ms/step - loss: 0.2403 - val_loss: 0.2891\n",
            "Epoch 25/40\n",
            "500/500 [==============================] - 152s 304ms/step - loss: 0.2400 - val_loss: 0.2890\n",
            "Epoch 26/40\n",
            "500/500 [==============================] - 151s 302ms/step - loss: 0.2371 - val_loss: 0.2950\n",
            "Epoch 27/40\n",
            "500/500 [==============================] - 151s 303ms/step - loss: 0.2355 - val_loss: 0.2916\n",
            "Epoch 28/40\n",
            "500/500 [==============================] - 151s 302ms/step - loss: 0.2343 - val_loss: 0.2957\n",
            "Epoch 29/40\n",
            "500/500 [==============================] - 150s 300ms/step - loss: 0.2335 - val_loss: 0.3032\n",
            "Epoch 30/40\n",
            "500/500 [==============================] - 150s 301ms/step - loss: 0.2328 - val_loss: 0.2955\n",
            "Epoch 31/40\n",
            "500/500 [==============================] - 150s 301ms/step - loss: 0.2311 - val_loss: 0.2985\n",
            "Epoch 32/40\n",
            "500/500 [==============================] - 151s 301ms/step - loss: 0.2293 - val_loss: 0.2959\n",
            "Epoch 33/40\n",
            "500/500 [==============================] - 150s 300ms/step - loss: 0.2271 - val_loss: 0.2946\n",
            "Epoch 34/40\n",
            "500/500 [==============================] - 150s 301ms/step - loss: 0.2281 - val_loss: 0.2968\n",
            "Epoch 35/40\n",
            "500/500 [==============================] - 150s 301ms/step - loss: 0.2253 - val_loss: 0.3008\n",
            "Epoch 36/40\n",
            "500/500 [==============================] - 156s 312ms/step - loss: 0.2252 - val_loss: 0.2912\n",
            "Epoch 37/40\n",
            "500/500 [==============================] - 153s 306ms/step - loss: 0.2261 - val_loss: 0.2955\n",
            "Epoch 38/40\n",
            "500/500 [==============================] - 154s 308ms/step - loss: 0.2243 - val_loss: 0.2954\n",
            "Epoch 39/40\n",
            "500/500 [==============================] - 152s 305ms/step - loss: 0.2248 - val_loss: 0.2970\n",
            "Epoch 40/40\n",
            "500/500 [==============================] - 157s 313ms/step - loss: 0.2229 - val_loss: 0.2984\n"
          ],
          "name": "stdout"
        }
      ]
    },
    {
      "cell_type": "code",
      "metadata": {
        "id": "8a-ygV8jwJtH",
        "colab_type": "code",
        "outputId": "f365fb8e-7eb6-425e-e755-4d24b2d44a15",
        "colab": {
          "base_uri": "https://localhost:8080/",
          "height": 302
        }
      },
      "source": [
        "import seaborn as sns\n",
        "sns.set()\n",
        "\n",
        "train_loss = history.history['loss']\n",
        "val_loss = history.history['val_loss']\n",
        "\n",
        "epochs = range(1, len(train_loss) + 1)\n",
        "\n",
        "plt.plot(epochs, train_loss, label = 'Training Loss')\n",
        "plt.plot(epochs, val_loss, label = 'Validation Loss')\n",
        "plt.xlabel('Epochs')\n",
        "plt.ylabel('Loss')\n",
        "plt.legend()"
      ],
      "execution_count": 0,
      "outputs": [
        {
          "output_type": "execute_result",
          "data": {
            "text/plain": [
              "<matplotlib.legend.Legend at 0x7f8e31edf748>"
            ]
          },
          "metadata": {
            "tags": []
          },
          "execution_count": 19
        },
        {
          "output_type": "display_data",
          "data": {
            "image/png": "[encoded data removed]",
            "text/plain": [
              "<Figure size 432x288 with 1 Axes>"
            ]
          },
          "metadata": {
            "tags": []
          }
        }
      ]
    },
    {
      "cell_type": "markdown",
      "metadata": {
        "id": "0bUUAMHowJtK",
        "colab_type": "text"
      },
      "source": [
        "Great success; we are no longer overfitting during the first 30 epochs. However, while we have more stable evaluation scores, our best \n",
        "scores are not much lower than they were previously."
      ]
    },
    {
      "cell_type": "markdown",
      "metadata": {
        "id": "GlxCXHyswJtK",
        "colab_type": "text"
      },
      "source": [
        "## Stacking recurrent layers\n",
        "\n",
        "Since we are no longer overfitting yet we seem to have hit a performance bottleneck, we should start considering increasing the capacity of \n",
        "our network. If you remember our description of the \"universal machine learning workflow\": it is a generally a good idea to increase the \n",
        "capacity of your network until overfitting becomes your primary obstacle (assuming that you are already taking basic steps to mitigate \n",
        "overfitting, such as using dropout). As long as you are not overfitting too badly, then you are likely under-capacity.\n",
        "\n",
        "Increasing network capacity is typically done by increasing the number of units in the layers, or adding more layers. Recurrent layer \n",
        "stacking is a classic way to build more powerful recurrent networks: for instance, what currently powers the Google translate algorithm is \n",
        "a stack of seven large LSTM layers -- that's huge.\n",
        "\n",
        "To stack recurrent layers on top of each other in Keras, all intermediate layers should return their full sequence of outputs (a 3D tensor) \n",
        "rather than their output at the last timestep. This is done by specifying `return_sequences=True`: "
      ]
    },
    {
      "cell_type": "code",
      "metadata": {
        "id": "cWQ7O1dywJtL",
        "colab_type": "code",
        "outputId": "e2be4352-f17d-4e4f-815c-5348c5592fa6",
        "colab": {
          "base_uri": "https://localhost:8080/",
          "height": 1000
        }
      },
      "source": [
        "model = tf.keras.models.Sequential([\n",
        "  tf.keras.layers.GRU(32, \n",
        "                      dropout = 0.1,\n",
        "                      recurrent_dropout=0.5,\n",
        "                      return_sequences=True,\n",
        "                      input_shape=(None, float_data.shape[-1])),\n",
        "  tf.keras.layers.GRU(64, activation='relu',\n",
        "                      dropout = 0.1,\n",
        "                      recurrent_dropout=0.5),\n",
        "  tf.keras.layers.Dense(1)\n",
        "])\n",
        "\n",
        "model.compile(optimizer = tf.keras.optimizers.RMSprop(), \n",
        "              loss='mae')\n",
        "\n",
        "history = model.fit(train_gen,\n",
        "                    steps_per_epoch=500,\n",
        "                    epochs=40,\n",
        "                    validation_data=val_gen,\n",
        "                    validation_steps=val_steps)"
      ],
      "execution_count": 0,
      "outputs": [
        {
          "output_type": "stream",
          "text": [
            "Epoch 1/40\n",
            "500/500 [==============================] - 404s 808ms/step - loss: 0.3207 - val_loss: 0.2847\n",
            "Epoch 2/40\n",
            "500/500 [==============================] - 413s 827ms/step - loss: 0.3048 - val_loss: 0.2773\n",
            "Epoch 3/40\n",
            "500/500 [==============================] - 410s 820ms/step - loss: 0.2957 - val_loss: 0.2687\n",
            "Epoch 4/40\n",
            "500/500 [==============================] - 407s 814ms/step - loss: 0.2889 - val_loss: 0.2663\n",
            "Epoch 5/40\n",
            "500/500 [==============================] - 410s 820ms/step - loss: 0.2822 - val_loss: 0.2749\n",
            "Epoch 6/40\n",
            "500/500 [==============================] - 408s 815ms/step - loss: 0.2753 - val_loss: 0.2773\n",
            "Epoch 7/40\n",
            "500/500 [==============================] - 408s 816ms/step - loss: 0.2718 - val_loss: 0.2703\n",
            "Epoch 8/40\n",
            "500/500 [==============================] - 413s 826ms/step - loss: 0.2669 - val_loss: 0.2810\n",
            "Epoch 9/40\n",
            "500/500 [==============================] - 416s 832ms/step - loss: 0.2627 - val_loss: 0.2799\n",
            "Epoch 10/40\n",
            "500/500 [==============================] - 419s 839ms/step - loss: 0.2582 - val_loss: 0.2768\n",
            "Epoch 11/40\n",
            "500/500 [==============================] - 419s 839ms/step - loss: 0.2547 - val_loss: 0.2857\n",
            "Epoch 12/40\n",
            "500/500 [==============================] - 413s 826ms/step - loss: 0.2501 - val_loss: 0.2832\n",
            "Epoch 13/40\n",
            "500/500 [==============================] - 414s 827ms/step - loss: 0.2462 - val_loss: 0.2982\n",
            "Epoch 14/40\n",
            "500/500 [==============================] - 414s 827ms/step - loss: 0.2403 - val_loss: 0.2920\n",
            "Epoch 15/40\n",
            "500/500 [==============================] - 414s 828ms/step - loss: 0.2366 - val_loss: 0.2945\n",
            "Epoch 16/40\n",
            "500/500 [==============================] - 413s 826ms/step - loss: 0.2338 - val_loss: 0.2976\n",
            "Epoch 17/40\n",
            "500/500 [==============================] - 413s 826ms/step - loss: 0.2303 - val_loss: 0.3072\n",
            "Epoch 18/40\n",
            "500/500 [==============================] - 413s 826ms/step - loss: 0.2263 - val_loss: 0.3091\n",
            "Epoch 19/40\n",
            "500/500 [==============================] - 421s 842ms/step - loss: 0.2243 - val_loss: 0.3062\n",
            "Epoch 20/40\n",
            "500/500 [==============================] - 422s 843ms/step - loss: 0.2210 - val_loss: 0.3122\n",
            "Epoch 21/40\n",
            "500/500 [==============================] - 414s 827ms/step - loss: 0.2179 - val_loss: 0.3234\n",
            "Epoch 22/40\n",
            "500/500 [==============================] - 413s 827ms/step - loss: 0.2151 - val_loss: 0.3145\n",
            "Epoch 23/40\n",
            "500/500 [==============================] - 415s 829ms/step - loss: 0.2120 - val_loss: 0.3206\n",
            "Epoch 24/40\n",
            "500/500 [==============================] - 421s 842ms/step - loss: 0.2106 - val_loss: 0.3190\n",
            "Epoch 25/40\n",
            "500/500 [==============================] - 417s 834ms/step - loss: 0.2082 - val_loss: 0.3213\n",
            "Epoch 26/40\n",
            "500/500 [==============================] - 412s 824ms/step - loss: 0.2055 - val_loss: 0.3275\n",
            "Epoch 27/40\n",
            "500/500 [==============================] - 418s 837ms/step - loss: 0.2048 - val_loss: 0.3274\n",
            "Epoch 28/40\n",
            "500/500 [==============================] - 416s 832ms/step - loss: 0.2031 - val_loss: 0.3286\n",
            "Epoch 29/40\n",
            "500/500 [==============================] - 419s 838ms/step - loss: 0.2005 - val_loss: 0.3196\n",
            "Epoch 30/40\n",
            "500/500 [==============================] - 422s 845ms/step - loss: 0.1984 - val_loss: 0.3225\n",
            "Epoch 31/40\n",
            "500/500 [==============================] - 414s 828ms/step - loss: 0.1972 - val_loss: 0.3330\n",
            "Epoch 32/40\n",
            "500/500 [==============================] - 413s 826ms/step - loss: 0.1950 - val_loss: 0.3285\n",
            "Epoch 33/40\n",
            "500/500 [==============================] - 416s 831ms/step - loss: 0.1941 - val_loss: 0.3350\n",
            "Epoch 34/40\n",
            "500/500 [==============================] - 419s 839ms/step - loss: 0.1929 - val_loss: 0.3282\n",
            "Epoch 35/40\n",
            "500/500 [==============================] - 418s 836ms/step - loss: 0.1907 - val_loss: 0.3382\n",
            "Epoch 36/40\n",
            "500/500 [==============================] - 424s 848ms/step - loss: 0.1890 - val_loss: 0.3361\n",
            "Epoch 37/40\n",
            "500/500 [==============================] - 422s 844ms/step - loss: 0.1885 - val_loss: 0.3363\n",
            "Epoch 38/40\n",
            "500/500 [==============================] - 416s 833ms/step - loss: 0.1881 - val_loss: 0.3399\n",
            "Epoch 39/40\n",
            "500/500 [==============================] - 420s 839ms/step - loss: 0.1857 - val_loss: 0.3325\n",
            "Epoch 40/40\n",
            "500/500 [==============================] - 419s 838ms/step - loss: 0.1843 - val_loss: 0.3383\n"
          ],
          "name": "stdout"
        }
      ]
    },
    {
      "cell_type": "markdown",
      "metadata": {
        "id": "UHGN8gwPwJtN",
        "colab_type": "text"
      },
      "source": [
        "Let's take a look at our results:"
      ]
    },
    {
      "cell_type": "code",
      "metadata": {
        "id": "BkKvyU0_wJtN",
        "colab_type": "code",
        "outputId": "695ee354-897d-45ae-9c13-d93ecd9e7755",
        "colab": {
          "base_uri": "https://localhost:8080/",
          "height": 302
        }
      },
      "source": [
        "import seaborn as sns\n",
        "sns.set()\n",
        "\n",
        "train_loss = history.history['loss']\n",
        "val_loss = history.history['val_loss']\n",
        "\n",
        "epochs = range(1, len(train_loss) + 1)\n",
        "\n",
        "plt.plot(epochs, train_loss, label = 'Training Loss')\n",
        "plt.plot(epochs, val_loss, label = 'Validation Loss')\n",
        "plt.xlabel('Epochs')\n",
        "plt.ylabel('Loss')\n",
        "plt.legend()"
      ],
      "execution_count": 0,
      "outputs": [
        {
          "output_type": "execute_result",
          "data": {
            "text/plain": [
              "<matplotlib.legend.Legend at 0x7f8e310747f0>"
            ]
          },
          "metadata": {
            "tags": []
          },
          "execution_count": 21
        },
        {
          "output_type": "display_data",
          "data": {
            "image/png": "[encoded data removed]",
            "text/plain": [
              "<Figure size 432x288 with 1 Axes>"
            ]
          },
          "metadata": {
            "tags": []
          }
        }
      ]
    },
    {
      "cell_type": "markdown",
      "metadata": {
        "id": "Z6_EQ7clwJtP",
        "colab_type": "text"
      },
      "source": [
        "The overfitting becomes worse, signaling the network capacity is too high, i.e. the model is too complex and has too many parameters. We shouldn't add layers in this case."
      ]
    },
    {
      "cell_type": "markdown",
      "metadata": {
        "id": "uXG9u-nVwJtQ",
        "colab_type": "text"
      },
      "source": [
        "## Using bidirectional RNNs\n",
        "\n",
        "\n",
        "The last technique that we will introduce in this section is called \"bidirectional RNNs\". A bidirectional RNN is common RNN variant which \n",
        "can offer higher performance than a regular RNN on certain tasks. It is frequently used in natural language processing -- you could call it \n",
        "the Swiss army knife of deep learning for NLP.\n",
        "\n",
        "RNNs are notably order-dependent, or time-dependent: they process the timesteps of their input sequences in order, and shuffling or \n",
        "reversing the timesteps can completely change the representations that the RNN will extract from the sequence. This is precisely the reason \n",
        "why they perform well on problems where order is meaningful, such as our temperature forecasting problem. A bidirectional RNN exploits \n",
        "the order-sensitivity of RNNs: it simply consists of two regular RNNs, such as the GRU or LSTM layers that you are already familiar with, \n",
        "each processing input sequence in one direction (chronologically and antichronologically), then merging their representations. By \n",
        "processing a sequence both way, a bidirectional RNN is able to catch patterns that may have been overlooked by a one-direction RNN.\n",
        "\n",
        "Remarkably, the fact that the RNN layers in this section have so far processed sequences in chronological order (older timesteps first) may \n",
        "have been an arbitrary decision. At least, it's a decision we made no attempt at questioning so far. Could it be that our RNNs could have \n",
        "performed well enough if it were processing input sequences in antichronological order, for instance (newer timesteps first)? Let's try \n",
        "this in practice and see what we get. All we need to do is write a variant of our data generator, where the input sequences get reverted \n",
        "along the time dimension (replace the last line with `yield samples[:, ::-1, :], targets`). Training the same one-GRU-layer network as we \n",
        "used in the first experiment in this section, we get the following results:"
      ]
    },
    {
      "cell_type": "code",
      "metadata": {
        "id": "0CEPJ7CGwJtQ",
        "colab_type": "code",
        "colab": {}
      },
      "source": [
        "def reverse_order_generator(data, lookback, delay, min_index, max_index,\n",
        "                            shuffle=False, batch_size=128, step=6):\n",
        "    if max_index is None:\n",
        "        max_index = len(data) - delay - 1\n",
        "    i = min_index + lookback\n",
        "    while 1:\n",
        "        if shuffle:\n",
        "            rows = np.random.randint(\n",
        "                min_index + lookback, max_index, size=batch_size)\n",
        "        else:\n",
        "            if i + batch_size >= max_index:\n",
        "                i = min_index + lookback\n",
        "            rows = np.arange(i, min(i + batch_size, max_index))\n",
        "            i += len(rows)\n",
        "\n",
        "        samples = np.zeros((len(rows),\n",
        "                           lookback // step,\n",
        "                           data.shape[-1]))\n",
        "        targets = np.zeros((len(rows),))\n",
        "        for j, row in enumerate(rows):\n",
        "            indices = range(rows[j] - lookback, rows[j], step)\n",
        "            samples[j] = data[indices]\n",
        "            targets[j] = data[rows[j] + delay][1]\n",
        "        yield samples[:, ::-1, :], targets\n",
        "        \n",
        "train_gen_reverse = reverse_order_generator(\n",
        "    float_data,\n",
        "    lookback=lookback,\n",
        "    delay=delay,\n",
        "    min_index=0,\n",
        "    max_index=200000,\n",
        "    shuffle=True,\n",
        "    step=step, \n",
        "    batch_size=batch_size)\n",
        "val_gen_reverse = reverse_order_generator(\n",
        "    float_data,\n",
        "    lookback=lookback,\n",
        "    delay=delay,\n",
        "    min_index=200001,\n",
        "    max_index=300000,\n",
        "    step=step,\n",
        "    batch_size=batch_size)"
      ],
      "execution_count": 0,
      "outputs": []
    },
    {
      "cell_type": "code",
      "metadata": {
        "id": "YvxG4VaWwJtS",
        "colab_type": "code",
        "outputId": "0fbfb640-febd-49d7-87ae-48a407acf790",
        "colab": {
          "base_uri": "https://localhost:8080/",
          "height": 697
        }
      },
      "source": [
        "model = tf.keras.models.Sequential([\n",
        "  tf.keras.layers.GRU(32, input_shape=(None, float_data.shape[-1])),\n",
        "\n",
        "  tf.keras.layers.Dense(1)\n",
        "])\n",
        "\n",
        "model.compile(optimizer = tf.keras.optimizers.RMSprop(), \n",
        "              loss='mae')\n",
        "\n",
        "history = model.fit(train_gen_reverse,\n",
        "                    steps_per_epoch=500,\n",
        "                    epochs=20,\n",
        "                    validation_data=val_gen_reverse,\n",
        "                    validation_steps=val_steps)"
      ],
      "execution_count": 0,
      "outputs": [
        {
          "output_type": "stream",
          "text": [
            "Epoch 1/20\n",
            "500/500 [==============================] - 79s 158ms/step - loss: 0.4772 - val_loss: 0.4842\n",
            "Epoch 2/20\n",
            "500/500 [==============================] - 78s 156ms/step - loss: 0.4360 - val_loss: 0.4664\n",
            "Epoch 3/20\n",
            "500/500 [==============================] - 78s 157ms/step - loss: 0.3868 - val_loss: 0.4598\n",
            "Epoch 4/20\n",
            "500/500 [==============================] - 78s 157ms/step - loss: 0.3542 - val_loss: 0.4327\n",
            "Epoch 5/20\n",
            "500/500 [==============================] - 78s 157ms/step - loss: 0.3323 - val_loss: 0.4135\n",
            "Epoch 6/20\n",
            "500/500 [==============================] - 80s 159ms/step - loss: 0.3158 - val_loss: 0.4202\n",
            "Epoch 7/20\n",
            "500/500 [==============================] - 82s 164ms/step - loss: 0.3020 - val_loss: 0.4010\n",
            "Epoch 8/20\n",
            "500/500 [==============================] - 80s 161ms/step - loss: 0.2930 - val_loss: 0.4045\n",
            "Epoch 9/20\n",
            "500/500 [==============================] - 79s 159ms/step - loss: 0.2812 - val_loss: 0.4065\n",
            "Epoch 10/20\n",
            "500/500 [==============================] - 79s 159ms/step - loss: 0.2746 - val_loss: 0.3990\n",
            "Epoch 11/20\n",
            "500/500 [==============================] - 79s 157ms/step - loss: 0.2665 - val_loss: 0.3955\n",
            "Epoch 12/20\n",
            "500/500 [==============================] - 79s 157ms/step - loss: 0.2609 - val_loss: 0.3963\n",
            "Epoch 13/20\n",
            "500/500 [==============================] - 79s 157ms/step - loss: 0.2556 - val_loss: 0.3849\n",
            "Epoch 14/20\n",
            "500/500 [==============================] - 80s 160ms/step - loss: 0.2505 - val_loss: 0.3910\n",
            "Epoch 15/20\n",
            "500/500 [==============================] - 78s 157ms/step - loss: 0.2442 - val_loss: 0.3893\n",
            "Epoch 16/20\n",
            "500/500 [==============================] - 79s 157ms/step - loss: 0.2394 - val_loss: 0.3920\n",
            "Epoch 17/20\n",
            "500/500 [==============================] - 78s 157ms/step - loss: 0.2351 - val_loss: 0.4045\n",
            "Epoch 18/20\n",
            "500/500 [==============================] - 78s 156ms/step - loss: 0.2309 - val_loss: 0.4092\n",
            "Epoch 19/20\n",
            "500/500 [==============================] - 78s 156ms/step - loss: 0.2267 - val_loss: 0.4052\n",
            "Epoch 20/20\n",
            "500/500 [==============================] - 80s 159ms/step - loss: 0.2218 - val_loss: 0.4041\n"
          ],
          "name": "stdout"
        }
      ]
    },
    {
      "cell_type": "code",
      "metadata": {
        "id": "Iey882DNwJtb",
        "colab_type": "code",
        "outputId": "1e163576-7da1-434b-fd24-cb99a9b4759f",
        "colab": {
          "base_uri": "https://localhost:8080/",
          "height": 356
        }
      },
      "source": [
        "import seaborn as sns\n",
        "sns.set()\n",
        "\n",
        "train_loss = history.history['loss']\n",
        "val_loss = history.history['val_loss']\n",
        "\n",
        "epochs = range(1, len(train_loss) + 1)\n",
        "\n",
        "plt.plot(epochs, train_loss, label = 'Training Loss')\n",
        "plt.plot(epochs, val_loss, label = 'Validation Loss')\n",
        "plt.xlabel('Epochs')\n",
        "plt.ylabel('Loss')\n",
        "plt.legend()"
      ],
      "execution_count": 0,
      "outputs": [
        {
          "output_type": "stream",
          "text": [
            "/usr/local/lib/python3.6/dist-packages/statsmodels/tools/_testing.py:19: FutureWarning: pandas.util.testing is deprecated. Use the functions in the public API at pandas.testing instead.\n",
            "  import pandas.util.testing as tm\n"
          ],
          "name": "stderr"
        },
        {
          "output_type": "execute_result",
          "data": {
            "text/plain": [
              "<matplotlib.legend.Legend at 0x7f16c1c635f8>"
            ]
          },
          "metadata": {
            "tags": []
          },
          "execution_count": 11
        },
        {
          "output_type": "display_data",
          "data": {
            "image/png": "[encoded data removed]",
            "text/plain": [
              "<Figure size 432x288 with 1 Axes>"
            ]
          },
          "metadata": {
            "tags": []
          }
        }
      ]
    },
    {
      "cell_type": "markdown",
      "metadata": {
        "id": "f6AO3cFRwJtf",
        "colab_type": "text"
      },
      "source": [
        "\n",
        "So the reversed-order GRU strongly underperforms even the common-sense baseline, indicating that the in our case chronological processing is very \n",
        "important to the success of our approach. This makes perfect sense: the underlying GRU layer will typically be better at remembering the \n",
        "recent past than the distant past, and naturally the more recent weather data points are more predictive than older data points in our \n",
        "problem (that's precisely what makes the common-sense baseline a fairly strong baseline). Thus the chronological version of the layer is \n",
        "bound to outperform the reversed-order version. Importantly, this is generally not true for many other problems, including natural \n",
        "language: intuitively, the importance of a word in understanding a sentence is not usually dependent on its position in the sentence. Let's \n",
        "try the same trick on the LSTM IMDB example from the previous section:"
      ]
    },
    {
      "cell_type": "code",
      "metadata": {
        "id": "Foa4TMs-wJtf",
        "colab_type": "code",
        "outputId": "5fcd5eb9-fc07-4dab-af83-99d58c0ad512",
        "colab": {
          "base_uri": "https://localhost:8080/",
          "height": 391
        }
      },
      "source": [
        "from keras.datasets import imdb\n",
        "from keras.preprocessing import sequence\n",
        "\n",
        "# Number of words to consider as features\n",
        "max_features = 10000\n",
        "# Cut texts after this number of words (among top max_features most common words)\n",
        "maxlen = 500\n",
        "\n",
        "# Load data\n",
        "(x_train, y_train), (x_test, y_test) = imdb.load_data(num_words = max_features)\n",
        "\n",
        "# Reverse sequences\n",
        "x_train = [x[::-1] for x in x_train]\n",
        "x_test = [x[::-1] for x in x_test]\n",
        "\n",
        "# Pad sequences\n",
        "x_train = sequence.pad_sequences(x_train, maxlen=maxlen)\n",
        "x_test = sequence.pad_sequences(x_test, maxlen=maxlen)\n",
        "\n",
        "\n",
        "model = tf.keras.models.Sequential([\n",
        "  tf.keras.layers.Embedding(max_features, 128),\n",
        "  tf.keras.layers.LSTM(32),\n",
        "\n",
        "  tf.keras.layers.Dense(1, activation='sigmoid')\n",
        "])\n",
        "\n",
        "model.compile(optimizer = tf.keras.optimizers.RMSprop(), \n",
        "              loss='binary_crossentropy',\n",
        "              metrics = 'accuracy')\n",
        "\n",
        "history = model.fit(x_train, y_train,\n",
        "                    epochs=10,\n",
        "                    batch_size=128,\n",
        "                    validation_split=0.2)"
      ],
      "execution_count": 0,
      "outputs": [
        {
          "output_type": "stream",
          "text": [
            "Downloading data from https://s3.amazonaws.com/text-datasets/imdb.npz\n",
            "17465344/17464789 [==============================] - 2s 0us/step\n",
            "Epoch 1/10\n",
            "157/157 [==============================] - 68s 436ms/step - loss: 0.4836 - accuracy: 0.7722 - val_loss: 0.3705 - val_accuracy: 0.8510\n",
            "Epoch 2/10\n",
            "157/157 [==============================] - 70s 448ms/step - loss: 0.3090 - accuracy: 0.8845 - val_loss: 0.3042 - val_accuracy: 0.8838\n",
            "Epoch 3/10\n",
            "157/157 [==============================] - 71s 450ms/step - loss: 0.2515 - accuracy: 0.9047 - val_loss: 0.3087 - val_accuracy: 0.8732\n",
            "Epoch 4/10\n",
            "157/157 [==============================] - 70s 447ms/step - loss: 0.2093 - accuracy: 0.9266 - val_loss: 0.4059 - val_accuracy: 0.8226\n",
            "Epoch 5/10\n",
            "157/157 [==============================] - 71s 451ms/step - loss: 0.1929 - accuracy: 0.9313 - val_loss: 0.3465 - val_accuracy: 0.8538\n",
            "Epoch 6/10\n",
            "157/157 [==============================] - 71s 450ms/step - loss: 0.1691 - accuracy: 0.9410 - val_loss: 0.3443 - val_accuracy: 0.8754\n",
            "Epoch 7/10\n",
            "157/157 [==============================] - 71s 450ms/step - loss: 0.1496 - accuracy: 0.9502 - val_loss: 0.3809 - val_accuracy: 0.8696\n",
            "Epoch 8/10\n",
            "157/157 [==============================] - 71s 450ms/step - loss: 0.1435 - accuracy: 0.9527 - val_loss: 0.3653 - val_accuracy: 0.8778\n",
            "Epoch 9/10\n",
            "157/157 [==============================] - 71s 452ms/step - loss: 0.1238 - accuracy: 0.9567 - val_loss: 0.4149 - val_accuracy: 0.8706\n",
            "Epoch 10/10\n",
            "157/157 [==============================] - 71s 451ms/step - loss: 0.1165 - accuracy: 0.9613 - val_loss: 0.8022 - val_accuracy: 0.7982\n"
          ],
          "name": "stdout"
        }
      ]
    },
    {
      "cell_type": "markdown",
      "metadata": {
        "id": "L-Vo5UAOwJth",
        "colab_type": "text"
      },
      "source": [
        "\n",
        "We get near-identical performance as the chronological-order LSTM we tried in the previous section.\n",
        "\n",
        "Thus, remarkably, on such a text dataset, reversed-order processing works just as well as chronological processing, confirming our \n",
        "hypothesis that, albeit word order *does* matter in understanding language, *which* order you use isn't crucial. Importantly, a RNN trained \n",
        "on reversed sequences will learn different representations than one trained on the original sequences, in much the same way that you would \n",
        "have quite different mental models if time flowed backwards in the real world -- if you lived a life where you died on your first day and \n",
        "you were born on your last day. In machine learning, representations that are *different* yet *useful* are always worth exploiting, and the \n",
        "more they differ the better: they offer a new angle from which to look at your data, capturing aspects of the data that were missed by other \n",
        "approaches, and thus they can allow to boost performance on a task. This is the intuition behind \"ensembling\", a concept that we will \n",
        "introduce in the next chapter.\n",
        "\n",
        "A bidirectional RNN exploits this idea to improve upon the performance of chronological-order RNNs: it looks at its inputs sequence both \n",
        "ways, obtaining potentially richer representations and capturing patterns that may have been missed by the chronological-order version alone."
      ]
    },
    {
      "cell_type": "markdown",
      "metadata": {
        "id": "k4jzURnnwJth",
        "colab_type": "text"
      },
      "source": [
        "![bidirectional rnn](https://s3.amazonaws.com/book.keras.io/img/ch6/bidirectional_rnn.png)"
      ]
    },
    {
      "cell_type": "markdown",
      "metadata": {
        "id": "k_8ofl3owJti",
        "colab_type": "text"
      },
      "source": [
        "To instantiate a bidirectional RNN in Keras, one would use the `Bidirectional` layer, which takes as first argument a recurrent layer \n",
        "instance. `Bidirectional` will create a second, separate instance of this recurrent layer, and will use one instance for processing the \n",
        "input sequences in chronological order and the other instance for processing the input sequences in reversed order. Let's try it on the \n",
        "IMDB sentiment analysis task:"
      ]
    },
    {
      "cell_type": "code",
      "metadata": {
        "id": "2D6yITQDwJti",
        "colab_type": "code",
        "colab": {}
      },
      "source": [
        "from keras import backend as K\n",
        "K.clear_session()"
      ],
      "execution_count": 0,
      "outputs": []
    },
    {
      "cell_type": "code",
      "metadata": {
        "id": "1H0ebqrqwJtk",
        "colab_type": "code",
        "outputId": "c6bd8afb-5644-4c3e-faef-5fde815309d7",
        "colab": {
          "base_uri": "https://localhost:8080/",
          "height": 357
        }
      },
      "source": [
        "model = tf.keras.models.Sequential([\n",
        "  tf.keras.layers.Embedding(max_features, 32),\n",
        "  tf.keras.layers.Bidirectional(tf.keras.layers.LSTM(32)),\n",
        "\n",
        "  tf.keras.layers.Dense(1, activation='sigmoid')\n",
        "])\n",
        "\n",
        "model.compile(optimizer = tf.keras.optimizers.RMSprop(), \n",
        "              loss = 'binary_crossentropy', \n",
        "              metrics = ['accuracy'])\n",
        "\n",
        "history = model.fit(x_train, y_train, \n",
        "                    epochs=10, \n",
        "                    batch_size=128, \n",
        "                    validation_split=0.2)"
      ],
      "execution_count": 0,
      "outputs": [
        {
          "output_type": "stream",
          "text": [
            "Epoch 1/10\n",
            "157/157 [==============================] - 91s 581ms/step - loss: 0.5761 - accuracy: 0.7066 - val_loss: 0.4418 - val_accuracy: 0.8224\n",
            "Epoch 2/10\n",
            "157/157 [==============================] - 91s 578ms/step - loss: 0.3811 - accuracy: 0.8461 - val_loss: 0.3679 - val_accuracy: 0.8456\n",
            "Epoch 3/10\n",
            "157/157 [==============================] - 94s 598ms/step - loss: 0.2875 - accuracy: 0.8906 - val_loss: 0.3669 - val_accuracy: 0.8584\n",
            "Epoch 4/10\n",
            "157/157 [==============================] - 89s 569ms/step - loss: 0.2405 - accuracy: 0.9136 - val_loss: 0.3651 - val_accuracy: 0.8688\n",
            "Epoch 5/10\n",
            "157/157 [==============================] - 89s 569ms/step - loss: 0.2105 - accuracy: 0.9251 - val_loss: 0.5800 - val_accuracy: 0.7850\n",
            "Epoch 6/10\n",
            "157/157 [==============================] - 89s 569ms/step - loss: 0.1914 - accuracy: 0.9323 - val_loss: 0.3342 - val_accuracy: 0.8858\n",
            "Epoch 7/10\n",
            "157/157 [==============================] - 89s 569ms/step - loss: 0.1711 - accuracy: 0.9420 - val_loss: 0.4049 - val_accuracy: 0.8602\n",
            "Epoch 8/10\n",
            "157/157 [==============================] - 89s 564ms/step - loss: 0.1512 - accuracy: 0.9472 - val_loss: 0.4015 - val_accuracy: 0.8698\n",
            "Epoch 9/10\n",
            "157/157 [==============================] - 89s 564ms/step - loss: 0.1391 - accuracy: 0.9527 - val_loss: 0.3621 - val_accuracy: 0.8836\n",
            "Epoch 10/10\n",
            "157/157 [==============================] - 93s 595ms/step - loss: 0.1322 - accuracy: 0.9547 - val_loss: 0.3684 - val_accuracy: 0.8496\n"
          ],
          "name": "stdout"
        }
      ]
    },
    {
      "cell_type": "markdown",
      "metadata": {
        "id": "xp1_ismYwJtm",
        "colab_type": "text"
      },
      "source": [
        "It performs slightly better than the regular LSTM we tried in the previous section, going above 88% validation accuracy. It also seems to \n",
        "overfit faster, which is unsurprising since a bidirectional layer has twice more parameters than a chronological LSTM. With some \n",
        "regularization, the bidirectional approach would likely be a strong performer on this task.\n",
        "\n",
        "Now let's try the same approach on the weather prediction task:"
      ]
    },
    {
      "cell_type": "code",
      "metadata": {
        "id": "MBH7z5yRwJtn",
        "colab_type": "code",
        "outputId": "06f6635b-f2d3-45ab-b3bb-8aba5ae73dc9",
        "colab": {
          "base_uri": "https://localhost:8080/",
          "height": 1000
        }
      },
      "source": [
        "model = tf.keras.models.Sequential([\n",
        "  tf.keras.layers.Bidirectional(tf.keras.layers.GRU(32),\n",
        "                                input_shape=(None, float_data.shape[-1])),\n",
        "\n",
        "  tf.keras.layers.Dense(1)\n",
        "])\n",
        "\n",
        "model.compile(optimizer = tf.keras.optimizers.RMSprop(), \n",
        "              loss='mae')\n",
        "history = model.fit(train_gen,\n",
        "                    steps_per_epoch=500,\n",
        "                    epochs=40,\n",
        "                    validation_data=val_gen,\n",
        "                    validation_steps=val_steps)"
      ],
      "execution_count": 0,
      "outputs": [
        {
          "output_type": "stream",
          "text": [
            "Epoch 1/40\n",
            "500/500 [==============================] - 141s 282ms/step - loss: 0.2939 - val_loss: 0.2699\n",
            "Epoch 2/40\n",
            "500/500 [==============================] - 139s 277ms/step - loss: 0.2764 - val_loss: 0.2665\n",
            "Epoch 3/40\n",
            "500/500 [==============================] - 139s 278ms/step - loss: 0.2691 - val_loss: 0.2640\n",
            "Epoch 4/40\n",
            "500/500 [==============================] - 140s 279ms/step - loss: 0.2631 - val_loss: 0.2695\n",
            "Epoch 5/40\n",
            "500/500 [==============================] - 140s 279ms/step - loss: 0.2582 - val_loss: 0.2647\n",
            "Epoch 6/40\n",
            "500/500 [==============================] - 139s 278ms/step - loss: 0.2519 - val_loss: 0.2697\n",
            "Epoch 7/40\n",
            "500/500 [==============================] - 139s 278ms/step - loss: 0.2452 - val_loss: 0.2667\n",
            "Epoch 8/40\n",
            "500/500 [==============================] - 139s 278ms/step - loss: 0.2398 - val_loss: 0.2753\n",
            "Epoch 9/40\n",
            "500/500 [==============================] - 141s 281ms/step - loss: 0.2354 - val_loss: 0.2789\n",
            "Epoch 10/40\n",
            "500/500 [==============================] - 139s 278ms/step - loss: 0.2267 - val_loss: 0.2885\n",
            "Epoch 11/40\n",
            "500/500 [==============================] - 139s 277ms/step - loss: 0.2221 - val_loss: 0.2857\n",
            "Epoch 12/40\n",
            "500/500 [==============================] - 141s 281ms/step - loss: 0.2167 - val_loss: 0.2884\n",
            "Epoch 13/40\n",
            "500/500 [==============================] - 141s 283ms/step - loss: 0.2106 - val_loss: 0.2979\n",
            "Epoch 14/40\n",
            "500/500 [==============================] - 141s 281ms/step - loss: 0.2040 - val_loss: 0.3025\n",
            "Epoch 15/40\n",
            "500/500 [==============================] - 141s 281ms/step - loss: 0.2001 - val_loss: 0.3057\n",
            "Epoch 16/40\n",
            "500/500 [==============================] - 140s 281ms/step - loss: 0.1945 - val_loss: 0.3127\n",
            "Epoch 17/40\n",
            "500/500 [==============================] - 141s 283ms/step - loss: 0.1897 - val_loss: 0.3102\n",
            "Epoch 18/40\n",
            "500/500 [==============================] - 141s 282ms/step - loss: 0.1841 - val_loss: 0.3199\n",
            "Epoch 19/40\n",
            "500/500 [==============================] - 142s 284ms/step - loss: 0.1809 - val_loss: 0.3248\n",
            "Epoch 20/40\n",
            "500/500 [==============================] - 141s 283ms/step - loss: 0.1757 - val_loss: 0.3190\n",
            "Epoch 21/40\n",
            "500/500 [==============================] - 144s 287ms/step - loss: 0.1723 - val_loss: 0.3315\n",
            "Epoch 22/40\n",
            "500/500 [==============================] - 148s 296ms/step - loss: 0.1677 - val_loss: 0.3271\n",
            "Epoch 23/40\n",
            "500/500 [==============================] - 145s 290ms/step - loss: 0.1656 - val_loss: 0.3222\n",
            "Epoch 24/40\n",
            "500/500 [==============================] - 146s 291ms/step - loss: 0.1627 - val_loss: 0.3277\n",
            "Epoch 25/40\n",
            "500/500 [==============================] - 147s 294ms/step - loss: 0.1593 - val_loss: 0.3293\n",
            "Epoch 26/40\n",
            "500/500 [==============================] - 153s 305ms/step - loss: 0.1566 - val_loss: 0.3302\n",
            "Epoch 27/40\n",
            "500/500 [==============================] - 147s 294ms/step - loss: 0.1534 - val_loss: 0.3277\n",
            "Epoch 28/40\n",
            "500/500 [==============================] - 145s 289ms/step - loss: 0.1513 - val_loss: 0.3308\n",
            "Epoch 29/40\n",
            "500/500 [==============================] - 146s 292ms/step - loss: 0.1505 - val_loss: 0.3338\n",
            "Epoch 30/40\n",
            "500/500 [==============================] - 145s 290ms/step - loss: 0.1476 - val_loss: 0.3368\n",
            "Epoch 31/40\n",
            "500/500 [==============================] - 144s 289ms/step - loss: 0.1459 - val_loss: 0.3337\n",
            "Epoch 32/40\n",
            "500/500 [==============================] - 144s 287ms/step - loss: 0.1439 - val_loss: 0.3343\n",
            "Epoch 33/40\n",
            "500/500 [==============================] - 145s 290ms/step - loss: 0.1429 - val_loss: 0.3338\n",
            "Epoch 34/40\n",
            "500/500 [==============================] - 143s 286ms/step - loss: 0.1404 - val_loss: 0.3326\n",
            "Epoch 35/40\n",
            "500/500 [==============================] - 143s 286ms/step - loss: 0.1399 - val_loss: 0.3353\n",
            "Epoch 36/40\n",
            "500/500 [==============================] - 142s 285ms/step - loss: 0.1376 - val_loss: 0.3316\n",
            "Epoch 37/40\n",
            "500/500 [==============================] - 143s 286ms/step - loss: 0.1367 - val_loss: 0.3328\n",
            "Epoch 38/40\n",
            "500/500 [==============================] - 144s 288ms/step - loss: 0.1352 - val_loss: 0.3353\n",
            "Epoch 39/40\n",
            "500/500 [==============================] - 144s 287ms/step - loss: 0.1333 - val_loss: 0.3352\n",
            "Epoch 40/40\n",
            "500/500 [==============================] - 146s 291ms/step - loss: 0.1328 - val_loss: 0.3360\n"
          ],
          "name": "stdout"
        }
      ]
    },
    {
      "cell_type": "markdown",
      "metadata": {
        "id": "ryxCC3T1wJtp",
        "colab_type": "text"
      },
      "source": [
        "\n",
        "It performs about as well as the regular GRU layer. It's easy to understand why: all of the predictive capacity must be coming from the \n",
        "chronological half of the network, since the anti-chronological half is known to be severely underperforming on this task (again, because \n",
        "the recent past matters much more than the distant past in this case)."
      ]
    },
    {
      "cell_type": "markdown",
      "metadata": {
        "id": "7fRzt4IjwJtp",
        "colab_type": "text"
      },
      "source": [
        "\n",
        "## Going even further\n",
        "\n",
        "At this stage, there are still many other things you could try in order to improve performance on our weather forecasting problem:\n",
        "\n",
        "* Adjust the number of units in each recurrent layer in the stacked setup. Our current choices are largely arbitrary and thus likely \n",
        "suboptimal.\n",
        "* Adjust the learning rate used by our `RMSprop` optimizer.\n",
        "* Try using `LSTM` layers instead of `GRU` layers.\n",
        "* Try using a bigger densely-connected regressor on top of the recurrent layers, i.e. a bigger `Dense` layer or even a stack of `Dense` \n",
        "layers.\n",
        "* Don't forget to eventually run the best performing models (in terms of validation MAE) on the test set! Least you start developing \n",
        "architectures that are overfitting to the validation set.   \n",
        "\n",
        "As usual: deep learning is more an art than a science, and while we can provide guidelines as to what is likely to work or not work on a \n",
        "given problem, ultimately every problem is unique and you will have to try and evaluate different strategies empirically. There is \n",
        "currently no theory that will tell you in advance precisely what you should do to optimally solve a problem. You must try and iterate.\n"
      ]
    },
    {
      "cell_type": "markdown",
      "metadata": {
        "id": "sNY-Xu2ywJtp",
        "colab_type": "text"
      },
      "source": [
        "# Sequence processing with convnets\n",
        "## Implementing a 1D convnet\n",
        "\n",
        "In Keras, you would use a 1D convnet via the `Conv1D` layer, which has a very similar interface to `Conv2D`. It takes as input 3D tensors \n",
        "with shape `(samples, time, features)` and also returns similarly-shaped 3D tensors. The convolution window is a 1D window on the temporal \n",
        "axis, axis 1 in the input tensor.\n",
        "\n",
        "Let's build a simple 2-layer 1D convnet and apply it to the IMDB sentiment classification task that you are already familiar with.\n",
        "\n",
        "As a reminder, this is the code for obtaining and preprocessing the data:"
      ]
    },
    {
      "cell_type": "code",
      "metadata": {
        "id": "FsvaBiacwJtq",
        "colab_type": "code",
        "outputId": "5a3f08a4-4110-456b-c78c-2550572bd48c",
        "colab": {
          "base_uri": "https://localhost:8080/",
          "height": 119
        }
      },
      "source": [
        "from keras.datasets import imdb\n",
        "from keras.preprocessing import sequence\n",
        "\n",
        "max_features = 10000  # number of words to consider as features\n",
        "max_len = 500  # cut texts after this number of words (among top max_features most common words)\n",
        "\n",
        "print('Loading data...')\n",
        "(x_train, y_train), (x_test, y_test) = imdb.load_data(num_words=max_features)\n",
        "print(len(x_train), 'train sequences')\n",
        "print(len(x_test), 'test sequences')\n",
        "\n",
        "print('Pad sequences (samples x time)')\n",
        "x_train = sequence.pad_sequences(x_train, maxlen=max_len)\n",
        "x_test = sequence.pad_sequences(x_test, maxlen=max_len)\n",
        "print('x_train shape:', x_train.shape)\n",
        "print('x_test shape:', x_test.shape)"
      ],
      "execution_count": 0,
      "outputs": [
        {
          "output_type": "stream",
          "text": [
            "Loading data...\n",
            "25000 train sequences\n",
            "25000 test sequences\n",
            "Pad sequences (samples x time)\n",
            "x_train shape: (25000, 500)\n",
            "x_test shape: (25000, 500)\n"
          ],
          "name": "stdout"
        }
      ]
    },
    {
      "cell_type": "markdown",
      "metadata": {
        "id": "QBN86L_lwJts",
        "colab_type": "text"
      },
      "source": [
        "1D convnets are structured in the same way as their 2D counter-parts that you have used in Chapter 5: they consist of a stack of `Conv1D` \n",
        "and `MaxPooling1D` layers, eventually ending in either a global pooling layer or a `Flatten` layer, turning the 3D outputs into 2D outputs, \n",
        "allowing to add one or more `Dense` layers to the model, for classification or regression.\n",
        "\n",
        "One difference, though, is the fact that we can afford to use larger convolution windows with 1D convnets. Indeed, with a 2D convolution \n",
        "layer, a 3x3 convolution window contains 3*3 = 9 feature vectors, but with a 1D convolution layer, a convolution window of size 3 would \n",
        "only contain 3 feature vectors. We can thus easily afford 1D convolution windows of size 7 or 9.\n",
        "\n",
        "This is our example 1D convnet for the IMDB dataset:"
      ]
    },
    {
      "cell_type": "code",
      "metadata": {
        "id": "2HriCFcOwJts",
        "colab_type": "code",
        "outputId": "4482544a-0716-41f2-bd07-3170a2bd86c7",
        "colab": {
          "base_uri": "https://localhost:8080/",
          "height": 697
        }
      },
      "source": [
        "model = tf.keras.models.Sequential([\n",
        "  tf.keras.layers.Embedding(max_features, 128, input_length=max_len),\n",
        "  tf.keras.layers.Conv1D(32, 7, activation='relu'),\n",
        "  tf.keras.layers.MaxPooling1D(5),\n",
        "  tf.keras.layers.Conv1D(32, 7, activation='relu'),\n",
        "  tf.keras.layers.GlobalMaxPooling1D(),\n",
        "  tf.keras.layers.Dense(1)\n",
        "])\n",
        "\n",
        "model.summary()\n",
        "\n",
        "model.compile(optimizer = tf.keras.optimizers.RMSprop(lr=1e-4),\n",
        "              loss = 'binary_crossentropy',\n",
        "              metrics = ['accuracy'])\n",
        "\n",
        "history = model.fit(x_train, y_train,\n",
        "                    epochs = 10,\n",
        "                    batch_size = 128,\n",
        "                    validation_split = 0.2)"
      ],
      "execution_count": 0,
      "outputs": [
        {
          "output_type": "stream",
          "text": [
            "Model: \"sequential_3\"\n",
            "_________________________________________________________________\n",
            "Layer (type)                 Output Shape              Param #   \n",
            "=================================================================\n",
            "embedding_3 (Embedding)      (None, 500, 128)          1280000   \n",
            "_________________________________________________________________\n",
            "conv1d (Conv1D)              (None, 494, 32)           28704     \n",
            "_________________________________________________________________\n",
            "max_pooling1d (MaxPooling1D) (None, 98, 32)            0         \n",
            "_________________________________________________________________\n",
            "conv1d_1 (Conv1D)            (None, 92, 32)            7200      \n",
            "_________________________________________________________________\n",
            "global_max_pooling1d (Global (None, 32)                0         \n",
            "_________________________________________________________________\n",
            "dense_3 (Dense)              (None, 1)                 33        \n",
            "=================================================================\n",
            "Total params: 1,315,937\n",
            "Trainable params: 1,315,937\n",
            "Non-trainable params: 0\n",
            "_________________________________________________________________\n",
            "Epoch 1/10\n",
            "157/157 [==============================] - 71s 455ms/step - loss: 0.7635 - accuracy: 0.5257 - val_loss: 0.6851 - val_accuracy: 0.5776\n",
            "Epoch 2/10\n",
            "157/157 [==============================] - 71s 454ms/step - loss: 0.6649 - accuracy: 0.6587 - val_loss: 0.6602 - val_accuracy: 0.6760\n",
            "Epoch 3/10\n",
            "157/157 [==============================] - 71s 453ms/step - loss: 0.6180 - accuracy: 0.7637 - val_loss: 0.6049 - val_accuracy: 0.7562\n",
            "Epoch 4/10\n",
            "157/157 [==============================] - 72s 456ms/step - loss: 0.5249 - accuracy: 0.8170 - val_loss: 0.4968 - val_accuracy: 0.8004\n",
            "Epoch 5/10\n",
            "157/157 [==============================] - 71s 455ms/step - loss: 0.4122 - accuracy: 0.8499 - val_loss: 0.4449 - val_accuracy: 0.8212\n",
            "Epoch 6/10\n",
            "157/157 [==============================] - 71s 452ms/step - loss: 0.3404 - accuracy: 0.8770 - val_loss: 0.4150 - val_accuracy: 0.8512\n",
            "Epoch 7/10\n",
            "157/157 [==============================] - 75s 477ms/step - loss: 0.3028 - accuracy: 0.8946 - val_loss: 0.4097 - val_accuracy: 0.8568\n",
            "Epoch 8/10\n",
            "157/157 [==============================] - 72s 456ms/step - loss: 0.2682 - accuracy: 0.9080 - val_loss: 0.4267 - val_accuracy: 0.8608\n",
            "Epoch 9/10\n",
            "157/157 [==============================] - 71s 454ms/step - loss: 0.2441 - accuracy: 0.9180 - val_loss: 0.4641 - val_accuracy: 0.8614\n",
            "Epoch 10/10\n",
            "157/157 [==============================] - 71s 452ms/step - loss: 0.2217 - accuracy: 0.9272 - val_loss: 0.4560 - val_accuracy: 0.8690\n"
          ],
          "name": "stdout"
        }
      ]
    },
    {
      "cell_type": "markdown",
      "metadata": {
        "id": "7ahq8mMCwJtu",
        "colab_type": "text"
      },
      "source": [
        "Here are our training and validation results: validation accuracy is somewhat lower than that of the LSTM we used two sections ago, but \n",
        "runtime is faster, both on CPU and GPU (albeit the exact speedup will vary greatly depending on your exact configuration). At that point, \n",
        "we could re-train this model for the right number of epochs (8), and run it on the test set. This is a convincing demonstration that a 1D \n",
        "convnet can offer a fast, cheap alternative to a recurrent network on a word-level sentiment classification task."
      ]
    },
    {
      "cell_type": "code",
      "metadata": {
        "id": "vcWXTNUuwJtv",
        "colab_type": "code",
        "outputId": "1d5dc6e5-846d-4f31-b389-aa561bfe344c",
        "colab": {
          "base_uri": "https://localhost:8080/",
          "height": 302
        }
      },
      "source": [
        "import seaborn as sns\n",
        "sns.set()\n",
        "\n",
        "train_acc  = history.history['accuracy']\n",
        "train_loss = history.history['loss']\n",
        "val_acc  = history.history['val_accuracy']\n",
        "val_loss = history.history['val_loss']\n",
        "\n",
        "epochs = range(1, len(train_loss) + 1)\n",
        "\n",
        "plt.plot(epochs, train_loss, label = 'Training Loss')\n",
        "plt.plot(epochs, val_loss, label = 'Validation Loss')\n",
        "plt.xlabel('Epochs')\n",
        "plt.ylabel('Loss')\n",
        "plt.legend()"
      ],
      "execution_count": 0,
      "outputs": [
        {
          "output_type": "execute_result",
          "data": {
            "text/plain": [
              "<matplotlib.legend.Legend at 0x7f16bf2f89e8>"
            ]
          },
          "metadata": {
            "tags": []
          },
          "execution_count": 22
        },
        {
          "output_type": "display_data",
          "data": {
            "image/png": "[encoded data removed]",
            "text/plain": [
              "<Figure size 432x288 with 1 Axes>"
            ]
          },
          "metadata": {
            "tags": []
          }
        }
      ]
    },
    {
      "cell_type": "code",
      "metadata": {
        "id": "YAF72Ydzd1YU",
        "colab_type": "code",
        "outputId": "b644d233-7df2-474d-a9ca-15920665d03a",
        "colab": {
          "base_uri": "https://localhost:8080/",
          "height": 302
        }
      },
      "source": [
        "plt.plot(epochs, train_acc, label = 'Training Accuracy')\n",
        "plt.plot(epochs, val_acc, label = 'Validation Accuracy')\n",
        "plt.xlabel('Epochs')\n",
        "plt.ylabel('Accuracy')\n",
        "plt.legend()"
      ],
      "execution_count": 0,
      "outputs": [
        {
          "output_type": "execute_result",
          "data": {
            "text/plain": [
              "<matplotlib.legend.Legend at 0x7f16bf2d5780>"
            ]
          },
          "metadata": {
            "tags": []
          },
          "execution_count": 23
        },
        {
          "output_type": "display_data",
          "data": {
            "image/png": "[encoded data removed]",
            "text/plain": [
              "<Figure size 432x288 with 1 Axes>"
            ]
          },
          "metadata": {
            "tags": []
          }
        }
      ]
    },
    {
      "cell_type": "markdown",
      "metadata": {
        "id": "IK-9t68BwJtx",
        "colab_type": "text"
      },
      "source": [
        "## Combining CNNs and RNNs to process long sequences\n",
        "\n",
        "\n",
        "Because 1D convnets process input patches independently, they are not sensitive to the order of the timesteps (beyond a local scale, the \n",
        "size of the convolution windows), unlike RNNs. Of course, in order to be able to recognize longer-term patterns, one could stack many \n",
        "convolution layers and pooling layers, resulting in upper layers that would \"see\" long chunks of the original inputs -- but that's still a \n",
        "fairly weak way to induce order-sensitivity. One way to evidence this weakness is to try 1D convnets on the temperature forecasting problem \n",
        "from the previous section, where order-sensitivity was key to produce good predictions. Let's see:"
      ]
    },
    {
      "cell_type": "code",
      "metadata": {
        "id": "JFhH3pNaZWfS",
        "colab_type": "code",
        "outputId": "31b564fb-6fa8-43ee-87ad-36b1afbb0884",
        "colab": {
          "base_uri": "https://localhost:8080/",
          "height": 34
        }
      },
      "source": [
        "# Mount the drive\n",
        "from google.colab import drive\n",
        "drive.mount('/content/drive', force_remount=True)\n",
        "\n",
        "# The first time that you run this cell, you will need to authorize access in your drive. \n",
        "# Go to the link and copy the authorization code"
      ],
      "execution_count": 0,
      "outputs": [
        {
          "output_type": "stream",
          "text": [
            "Mounted at /content/drive\n"
          ],
          "name": "stdout"
        }
      ]
    },
    {
      "cell_type": "code",
      "metadata": {
        "id": "gr6VdMUdwJtx",
        "colab_type": "code",
        "colab": {}
      },
      "source": [
        "# We reuse the following variables defined in the last section:\n",
        "# float_data, train_gen, val_gen, val_steps\n",
        "\n",
        "import os\n",
        "import numpy as np\n",
        "\n",
        "# Change to your directory\n",
        "data_dir = 'drive/My Drive/Teaching/BST 261/2020/In progress notebooks'\n",
        "fname = os.path.join(data_dir, 'jena_climate_2009_2016.csv')\n",
        "\n",
        "f = open(fname)\n",
        "data = f.read()\n",
        "f.close()\n",
        "\n",
        "lines = data.split('\\n')\n",
        "header = lines[0].split(',')\n",
        "lines = lines[1:]\n",
        "\n",
        "float_data = np.zeros((len(lines), len(header) - 1))\n",
        "for i, line in enumerate(lines):\n",
        "    values = [float(x) for x in line.split(',')[1:]]\n",
        "    float_data[i, :] = values\n",
        "    \n",
        "mean = float_data[:200000].mean(axis=0)\n",
        "float_data -= mean\n",
        "std = float_data[:200000].std(axis=0)\n",
        "float_data /= std\n",
        "\n",
        "def generator(data, lookback, delay, min_index, max_index,\n",
        "              shuffle=False, batch_size=128, step=6):\n",
        "    if max_index is None:\n",
        "        max_index = len(data) - delay - 1\n",
        "    i = min_index + lookback\n",
        "    while 1:\n",
        "        if shuffle:\n",
        "            rows = np.random.randint(\n",
        "                min_index + lookback, max_index, size=batch_size)\n",
        "        else:\n",
        "            if i + batch_size >= max_index:\n",
        "                i = min_index + lookback\n",
        "            rows = np.arange(i, min(i + batch_size, max_index))\n",
        "            i += len(rows)\n",
        "\n",
        "        samples = np.zeros((len(rows),\n",
        "                           lookback // step,\n",
        "                           data.shape[-1]))\n",
        "        targets = np.zeros((len(rows),))\n",
        "        for j, row in enumerate(rows):\n",
        "            indices = range(rows[j] - lookback, rows[j], step)\n",
        "            samples[j] = data[indices]\n",
        "            targets[j] = data[rows[j] + delay][1]\n",
        "        yield samples, targets\n",
        "        \n",
        "lookback = 1440\n",
        "step = 6\n",
        "delay = 144\n",
        "batch_size = 128\n",
        "\n",
        "train_gen = generator(float_data,\n",
        "                      lookback=lookback,\n",
        "                      delay=delay,\n",
        "                      min_index=0,\n",
        "                      max_index=200000,\n",
        "                      shuffle=True,\n",
        "                      step=step, \n",
        "                      batch_size=batch_size)\n",
        "val_gen = generator(float_data,\n",
        "                    lookback=lookback,\n",
        "                    delay=delay,\n",
        "                    min_index=200001,\n",
        "                    max_index=300000,\n",
        "                    step=step,\n",
        "                    batch_size=batch_size)\n",
        "test_gen = generator(float_data,\n",
        "                     lookback=lookback,\n",
        "                     delay=delay,\n",
        "                     min_index=300001,\n",
        "                     max_index=None,\n",
        "                     step=step,\n",
        "                     batch_size=batch_size)\n",
        "\n",
        "# This is how many steps to draw from `val_gen`\n",
        "# in order to see the whole validation set:\n",
        "val_steps = (300000 - 200001 - lookback) // batch_size\n",
        "\n",
        "# This is how many steps to draw from `test_gen`\n",
        "# in order to see the whole test set:\n",
        "test_steps = (len(float_data) - 300001 - lookback) // batch_size"
      ],
      "execution_count": 0,
      "outputs": []
    },
    {
      "cell_type": "code",
      "metadata": {
        "id": "DEYfwk67wJtz",
        "colab_type": "code",
        "outputId": "6276b53c-640f-435d-9dec-03e5e3d799ac",
        "colab": {
          "base_uri": "https://localhost:8080/",
          "height": 697
        }
      },
      "source": [
        "model = tf.keras.models.Sequential([\n",
        "  tf.keras.layers.Conv1D(32, 5, activation='relu',\n",
        "                        input_shape=(None, float_data.shape[-1])),\n",
        "  tf.keras.layers.MaxPooling1D(3),\n",
        "  tf.keras.layers.Conv1D(32, 5, activation='relu'),\n",
        "  tf.keras.layers.MaxPooling1D(3),\n",
        "  tf.keras.layers.Conv1D(32, 5, activation='relu'),\n",
        "  tf.keras.layers.GlobalMaxPooling1D(),\n",
        "  tf.keras.layers.Dense(1)\n",
        "])\n",
        "\n",
        "model.compile(optimizer = tf.keras.optimizers.RMSprop(),\n",
        "              loss = 'mae')\n",
        "\n",
        "history = model.fit(train_gen,\n",
        "                    steps_per_epoch = 500,\n",
        "                    epochs = 20,\n",
        "                    validation_data=val_gen,\n",
        "                    validation_steps=val_steps)"
      ],
      "execution_count": 0,
      "outputs": [
        {
          "output_type": "stream",
          "text": [
            "Epoch 1/20\n",
            "500/500 [==============================] - 38s 77ms/step - loss: 0.4149 - val_loss: 0.4784\n",
            "Epoch 2/20\n",
            "500/500 [==============================] - 38s 77ms/step - loss: 0.3577 - val_loss: 0.4238\n",
            "Epoch 3/20\n",
            "500/500 [==============================] - 42s 84ms/step - loss: 0.3353 - val_loss: 0.4178\n",
            "Epoch 4/20\n",
            "500/500 [==============================] - 38s 76ms/step - loss: 0.3156 - val_loss: 0.4405\n",
            "Epoch 5/20\n",
            "500/500 [==============================] - 39s 77ms/step - loss: 0.3027 - val_loss: 0.4272\n",
            "Epoch 6/20\n",
            "500/500 [==============================] - 38s 77ms/step - loss: 0.2932 - val_loss: 0.4394\n",
            "Epoch 7/20\n",
            "500/500 [==============================] - 38s 76ms/step - loss: 0.2854 - val_loss: 0.4516\n",
            "Epoch 8/20\n",
            "500/500 [==============================] - 38s 76ms/step - loss: 0.2799 - val_loss: 0.4291\n",
            "Epoch 9/20\n",
            "500/500 [==============================] - 38s 76ms/step - loss: 0.2745 - val_loss: 0.4457\n",
            "Epoch 10/20\n",
            "500/500 [==============================] - 38s 77ms/step - loss: 0.2683 - val_loss: 0.4379\n",
            "Epoch 11/20\n",
            "500/500 [==============================] - 38s 76ms/step - loss: 0.2658 - val_loss: 0.4423\n",
            "Epoch 12/20\n",
            "500/500 [==============================] - 38s 76ms/step - loss: 0.2609 - val_loss: 0.4320\n",
            "Epoch 13/20\n",
            "500/500 [==============================] - 38s 76ms/step - loss: 0.2581 - val_loss: 0.4435\n",
            "Epoch 14/20\n",
            "500/500 [==============================] - 38s 76ms/step - loss: 0.2552 - val_loss: 0.4539\n",
            "Epoch 15/20\n",
            "500/500 [==============================] - 38s 75ms/step - loss: 0.2514 - val_loss: 0.4608\n",
            "Epoch 16/20\n",
            "500/500 [==============================] - 38s 76ms/step - loss: 0.2490 - val_loss: 0.4485\n",
            "Epoch 17/20\n",
            "500/500 [==============================] - 38s 75ms/step - loss: 0.2460 - val_loss: 0.4494\n",
            "Epoch 18/20\n",
            "500/500 [==============================] - 38s 75ms/step - loss: 0.2447 - val_loss: 0.4468\n",
            "Epoch 19/20\n",
            "500/500 [==============================] - 42s 83ms/step - loss: 0.2417 - val_loss: 0.4501\n",
            "Epoch 20/20\n",
            "500/500 [==============================] - 38s 75ms/step - loss: 0.2390 - val_loss: 0.4812\n"
          ],
          "name": "stdout"
        }
      ]
    },
    {
      "cell_type": "code",
      "metadata": {
        "id": "pexYycafwJt1",
        "colab_type": "code",
        "outputId": "94da179a-c793-4999-dee2-e5b27ad6a0d2",
        "colab": {
          "base_uri": "https://localhost:8080/",
          "height": 302
        }
      },
      "source": [
        "import seaborn as sns\n",
        "sns.set()\n",
        "\n",
        "train_loss = history.history['loss']\n",
        "val_loss = history.history['val_loss']\n",
        "\n",
        "epochs = range(1, len(train_loss) + 1)\n",
        "\n",
        "plt.plot(epochs, train_loss, label = 'Training Loss')\n",
        "plt.plot(epochs, val_loss, label = 'Validation Loss')\n",
        "plt.xlabel('Epochs')\n",
        "plt.ylabel('Loss')\n",
        "plt.legend()"
      ],
      "execution_count": 0,
      "outputs": [
        {
          "output_type": "execute_result",
          "data": {
            "text/plain": [
              "<matplotlib.legend.Legend at 0x7f16becfdef0>"
            ]
          },
          "metadata": {
            "tags": []
          },
          "execution_count": 30
        },
        {
          "output_type": "display_data",
          "data": {
            "image/png": "[encoded data removed]",
            "text/plain": [
              "<Figure size 432x288 with 1 Axes>"
            ]
          },
          "metadata": {
            "tags": []
          }
        }
      ]
    },
    {
      "cell_type": "markdown",
      "metadata": {
        "id": "7NjweQUgwJt3",
        "colab_type": "text"
      },
      "source": [
        "The validation MAE stays in the low 0.40s: we cannot even beat our common-sense baseline using the small convnet. Again, this is because \n",
        "our convnet looks for patterns anywhere in the input timeseries, and has no knowledge of the temporal position of a pattern it sees (e.g. \n",
        "towards the beginning, towards the end, etc.). Since more recent datapoints should be interpreted differently from older datapoints in the \n",
        "case of this specific forecasting problem, the convnet fails at producing meaningful results here. This limitation of convnets was not an \n",
        "issue on IMDB, because patterns of keywords that are associated with a positive or a negative sentiment will be informative independently \n",
        "of where they are found in the input sentences.\n",
        "\n",
        "One strategy to combine the speed and lightness of convnets with the order-sensitivity of RNNs is to use a 1D convnet as a preprocessing \n",
        "step before a RNN. This is especially beneficial when dealing with sequences that are so long that they couldn't realistically be processed \n",
        "with RNNs, e.g. sequences with thousands of steps. The convnet will turn the long input sequence into much shorter (downsampled) sequences \n",
        "of higher-level features. This sequence of extracted features then becomes the input to the RNN part of the network.\n",
        "\n",
        "\n",
        "This technique is not seen very often in research papers and practical applications, possibly because it is not very well known. It is very \n",
        "effective and ought to be more common. Let's try this out on the temperature forecasting dataset. Because this strategy allows us to \n",
        "manipulate much longer sequences, we could either look at data from further back (by increasing the `lookback` parameter of the data \n",
        "generator), or look at high-resolution timeseries (by decreasing the `step` parameter of the generator). Here, we will chose (somewhat \n",
        "arbitrarily) to use a `step` twice smaller, resulting in twice longer timeseries, where the weather data is being sampled at a rate of one \n",
        "point per 30 minutes."
      ]
    },
    {
      "cell_type": "code",
      "metadata": {
        "id": "OYWb9eaJwJt3",
        "colab_type": "code",
        "colab": {}
      },
      "source": [
        "# This was previously set to 6 (one point per hour).\n",
        "# Now 3 (one point per 30 min).\n",
        "step = 3\n",
        "lookback = 720  # Unchanged\n",
        "delay = 144 # Unchanged\n",
        "\n",
        "train_gen = generator(float_data,\n",
        "                      lookback=lookback,\n",
        "                      delay=delay,\n",
        "                      min_index=0,\n",
        "                      max_index=200000,\n",
        "                      shuffle=True,\n",
        "                      step=step)\n",
        "val_gen = generator(float_data,\n",
        "                    lookback=lookback,\n",
        "                    delay=delay,\n",
        "                    min_index=200001,\n",
        "                    max_index=300000,\n",
        "                    step=step)\n",
        "test_gen = generator(float_data,\n",
        "                     lookback=lookback,\n",
        "                     delay=delay,\n",
        "                     min_index=300001,\n",
        "                     max_index=None,\n",
        "                     step=step)\n",
        "val_steps = (300000 - 200001 - lookback) // 128\n",
        "test_steps = (len(float_data) - 300001 - lookback) // 128"
      ],
      "execution_count": 0,
      "outputs": []
    },
    {
      "cell_type": "markdown",
      "metadata": {
        "id": "oiu3BXHQwJt6",
        "colab_type": "text"
      },
      "source": [
        "This is our model, starting with two `Conv1D` layers and following-up with a `GRU` layer:"
      ]
    },
    {
      "cell_type": "code",
      "metadata": {
        "id": "-LewwdY9wJt6",
        "colab_type": "code",
        "outputId": "65c65efe-b77e-45c9-fc6a-3fff93cb3215",
        "colab": {
          "base_uri": "https://localhost:8080/",
          "height": 1000
        }
      },
      "source": [
        "model = tf.keras.models.Sequential([\n",
        "  tf.keras.layers.Conv1D(32, 5, activation='relu',\n",
        "                        input_shape=(None, float_data.shape[-1])),\n",
        "  tf.keras.layers.MaxPooling1D(3),\n",
        "  tf.keras.layers.Conv1D(32, 5, activation='relu'),\n",
        "  tf.keras.layers.GRU(32, dropout=0.1, recurrent_dropout=0.5),\n",
        "  tf.keras.layers.Dense(1)\n",
        "])\n",
        "\n",
        "model.summary()\n",
        "\n",
        "model.compile(optimizer = tf.keras.optimizers.RMSprop(),\n",
        "              loss = 'mae')\n",
        "\n",
        "history = model.fit(train_gen,\n",
        "                    steps_per_epoch = 500,\n",
        "                    epochs = 20,\n",
        "                    validation_data=val_gen,\n",
        "                    validation_steps=val_steps)"
      ],
      "execution_count": 0,
      "outputs": [
        {
          "output_type": "stream",
          "text": [
            "Model: \"sequential_6\"\n",
            "_________________________________________________________________\n",
            "Layer (type)                 Output Shape              Param #   \n",
            "=================================================================\n",
            "conv1d_8 (Conv1D)            (None, None, 32)          2272      \n",
            "_________________________________________________________________\n",
            "max_pooling1d_5 (MaxPooling1 (None, None, 32)          0         \n",
            "_________________________________________________________________\n",
            "conv1d_9 (Conv1D)            (None, None, 32)          5152      \n",
            "_________________________________________________________________\n",
            "gru_2 (GRU)                  (None, 32)                6336      \n",
            "_________________________________________________________________\n",
            "dense_6 (Dense)              (None, 1)                 33        \n",
            "=================================================================\n",
            "Total params: 13,793\n",
            "Trainable params: 13,793\n",
            "Non-trainable params: 0\n",
            "_________________________________________________________________\n",
            "Epoch 1/20\n",
            "500/500 [==============================] - 82s 164ms/step - loss: 0.3314 - val_loss: 0.3161\n",
            "Epoch 2/20\n",
            "500/500 [==============================] - 82s 163ms/step - loss: 0.2976 - val_loss: 0.2891\n",
            "Epoch 3/20\n",
            "500/500 [==============================] - 82s 163ms/step - loss: 0.2838 - val_loss: 0.2817\n",
            "Epoch 4/20\n",
            "500/500 [==============================] - 82s 163ms/step - loss: 0.2727 - val_loss: 0.2935\n",
            "Epoch 5/20\n",
            "500/500 [==============================] - 82s 163ms/step - loss: 0.2663 - val_loss: 0.2837\n",
            "Epoch 6/20\n",
            "500/500 [==============================] - 82s 163ms/step - loss: 0.2613 - val_loss: 0.2821\n",
            "Epoch 7/20\n",
            "500/500 [==============================] - 81s 163ms/step - loss: 0.2537 - val_loss: 0.2884\n",
            "Epoch 8/20\n",
            "500/500 [==============================] - 82s 164ms/step - loss: 0.2476 - val_loss: 0.2943\n",
            "Epoch 9/20\n",
            "500/500 [==============================] - 83s 165ms/step - loss: 0.2424 - val_loss: 0.3057\n",
            "Epoch 10/20\n",
            "500/500 [==============================] - 83s 165ms/step - loss: 0.2364 - val_loss: 0.2881\n",
            "Epoch 11/20\n",
            "500/500 [==============================] - 82s 164ms/step - loss: 0.2316 - val_loss: 0.2919\n",
            "Epoch 12/20\n",
            "500/500 [==============================] - 83s 166ms/step - loss: 0.2280 - val_loss: 0.2981\n",
            "Epoch 13/20\n",
            "500/500 [==============================] - 84s 168ms/step - loss: 0.2224 - val_loss: 0.3007\n",
            "Epoch 14/20\n",
            "500/500 [==============================] - 85s 170ms/step - loss: 0.2193 - val_loss: 0.3089\n",
            "Epoch 15/20\n",
            "500/500 [==============================] - 85s 171ms/step - loss: 0.2144 - val_loss: 0.3056\n",
            "Epoch 16/20\n",
            "500/500 [==============================] - 85s 170ms/step - loss: 0.2126 - val_loss: 0.3087\n",
            "Epoch 17/20\n",
            "500/500 [==============================] - 85s 170ms/step - loss: 0.2089 - val_loss: 0.3188\n",
            "Epoch 18/20\n",
            "500/500 [==============================] - 84s 168ms/step - loss: 0.2057 - val_loss: 0.3131\n",
            "Epoch 19/20\n",
            "500/500 [==============================] - 84s 169ms/step - loss: 0.2036 - val_loss: 0.3155\n",
            "Epoch 20/20\n",
            "500/500 [==============================] - 85s 169ms/step - loss: 0.2016 - val_loss: 0.3269\n"
          ],
          "name": "stdout"
        }
      ]
    },
    {
      "cell_type": "code",
      "metadata": {
        "id": "FIIGCpaZwJt9",
        "colab_type": "code",
        "outputId": "89b67a3b-38be-40ed-9493-a3341442e0b5",
        "colab": {
          "base_uri": "https://localhost:8080/",
          "height": 302
        }
      },
      "source": [
        "import seaborn as sns\n",
        "sns.set()\n",
        "\n",
        "train_loss = history.history['loss']\n",
        "val_loss = history.history['val_loss']\n",
        "\n",
        "epochs = range(1, len(train_loss) + 1)\n",
        "\n",
        "plt.plot(epochs, train_loss, label = 'Training Loss')\n",
        "plt.plot(epochs, val_loss, label = 'Validation Loss')\n",
        "plt.xlabel('Epochs')\n",
        "plt.ylabel('Loss')\n",
        "plt.legend()"
      ],
      "execution_count": 0,
      "outputs": [
        {
          "output_type": "execute_result",
          "data": {
            "text/plain": [
              "<matplotlib.legend.Legend at 0x7f16be9d1ef0>"
            ]
          },
          "metadata": {
            "tags": []
          },
          "execution_count": 34
        },
        {
          "output_type": "display_data",
          "data": {
            "image/png": "[encoded data removed]",
            "text/plain": [
              "<Figure size 432x288 with 1 Axes>"
            ]
          },
          "metadata": {
            "tags": []
          }
        }
      ]
    },
    {
      "cell_type": "markdown",
      "metadata": {
        "id": "4jJq2JSFwJt_",
        "colab_type": "text"
      },
      "source": [
        "Judging from the validation loss, this setup is not quite as good as the regularized GRU alone, but it's significantly faster. It is \n",
        "looking at twice more data, which in this case doesn't appear to be hugely helpful, but may be important for other datasets."
      ]
    },
    {
      "cell_type": "markdown",
      "metadata": {
        "id": "IWIbuaA5wJt_",
        "colab_type": "text"
      },
      "source": [
        "## Wrapping up\n",
        "\n",
        "Here's what you should take away from this section:\n",
        "\n",
        "* In the same way that 2D convnets perform well for processing visual patterns in 2D space, 1D convnets perform well for processing \n",
        "temporal patterns. They offer a faster alternative to RNNs on some problems, in particular NLP tasks.\n",
        "* Typically 1D convnets are structured much like their 2D equivalents from the world of computer vision: they consist of stacks of `Conv1D` \n",
        "layers and `MaxPooling1D` layers, eventually ending in a global pooling operation or flattening operation.\n",
        "* Because RNNs are extremely expensive for processing very long sequences, but 1D convnets are cheap, it can be a good idea to use a 1D \n",
        "convnet as a preprocessing step before a RNN, shortening the sequence and extracting useful representations for the RNN to process.\n"
      ]
    }
  ]
}