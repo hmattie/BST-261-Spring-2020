{
  "nbformat": 4,
  "nbformat_minor": 0,
  "metadata": {
    "kernelspec": {
      "display_name": "Python 3",
      "language": "python",
      "name": "python3"
    },
    "language_info": {
      "codemirror_mode": {
        "name": "ipython",
        "version": 3
      },
      "file_extension": ".py",
      "mimetype": "text/x-python",
      "name": "python",
      "nbconvert_exporter": "python",
      "pygments_lexer": "ipython3",
      "version": "3.6.5"
    },
    "colab": {
      "name": "IMDb_RNNs.ipynb",
      "provenance": [],
      "collapsed_sections": []
    }
  },
  "cells": [
    {
      "cell_type": "markdown",
      "metadata": {
        "id": "pwDldgaPInXI",
        "colab_type": "text"
      },
      "source": [
        "# RNNs: IMDb Example\n",
        "\n",
        "## Word Embeddings\n",
        "The simplest way to associate a dense vector to a word would be to pick the vector at random. The problem with this approach is that the resulting embedding space would have no structure: for instance, the words \"accurate\" and \"exact\" may end up with completely different embeddings, even though they are interchangeable in most sentences. It would be very difficult for a deep neural network to make sense of such a noisy, unstructured embedding space.\n",
        "\n",
        "To get a bit more abstract: the geometric relationships between word vectors should reflect the semantic relationships between these words. Word embeddings are meant to map human language into a geometric space. For instance, in a reasonable embedding space, we would expect synonyms to be embedded into similar word vectors, and in general we would expect the geometric distance (e.g. L2 distance) between any two word vectors to relate to the semantic distance of the associated words (words meaning very different things would be embedded to points far away from each other, while related words would be closer). Even beyond mere distance, we may want specific directions in the embedding space to be meaningful.\n",
        "\n",
        "It is thus reasonable to learn a new embedding space with every new task. Thankfully, backpropagation makes this really easy, and Keras makes it even easier. It's just about learning the weights of a layer: the `Embedding` layer."
      ]
    },
    {
      "cell_type": "markdown",
      "metadata": {
        "id": "RRGtOpyTInXJ",
        "colab_type": "text"
      },
      "source": [
        "The `Embedding` layer is best understood as a dictionary mapping integer indices (which stand for specific words) to dense vectors. It takes as input integers, it looks up these integers in an internal dictionary, and it returns the associated vectors. It's effectively a dictionary lookup.\n",
        "\n",
        "The `Embedding` layer takes as input a 2D tensor of integers, of shape (`samples`, `sequence_length`), where each entry is a sequence of integers. It can embed sequences of variable lengths, so for instance we could feed into our embedding layer above batches that could have shapes `(32, 10)` (batch of 32 sequences of length 10) or `(64, 15)` (batch of 64 sequences of length 15). **All sequences in a batch must have the same length**, though (since we need to pack them into a single tensor), so sequences that are shorter than others should be padded with zeros, and sequences that are longer should be truncated.\n",
        "\n",
        "This layer returns a 3D floating point tensor, of shape (`samples`, `sequence_length`, `embedding_dimensionality`). Such a 3D tensor can then be processed by a RNN layer or a 1D convolution layer (which we'll cover in a later lecture).\n",
        "\n",
        "When you instantiate an `Embedding` layer, its weights (its internal dictionary of token vectors) are initially random, just like with any other layer. During training, these word vectors will be gradually adjusted via backpropagation, structuring the space into something that the downstream model can exploit. Once fully trained, your embedding space will show a lot of structure -- a kind of structure specialized for the specific problem you were training your model for.\n",
        "\n",
        "### IMDb Example\n",
        "Let's apply this idea to the IMDB movie review sentiment prediction task that you are already familiar with. Let's quickly prepare the data. We will restrict the movie reviews to the top 10,000 most common words (like we did the first time we worked with this dataset), and cut the reviews after only 20 words. Our network will simply learn 8-dimensional embeddings for each of the 10,000 words, turn the input integer sequences (2D integer tensor) into embedded sequences (3D float tensor), flatten the tensor to 2D, and train a single Dense layer on top for classification."
      ]
    },
    {
      "cell_type": "code",
      "metadata": {
        "id": "5hildluLhxJN",
        "colab_type": "code",
        "outputId": "c329ceee-1847-4180-b69a-7f24b0290948",
        "colab": {
          "base_uri": "https://localhost:8080/",
          "height": 50
        }
      },
      "source": [
        "import numpy as np\n",
        "from sklearn.decomposition import PCA\n",
        "import matplotlib\n",
        "import matplotlib.pyplot as plt\n",
        "import os\n",
        "\n",
        "# Import the TF V2 through this magic command\n",
        "%tensorflow_version 2.x\n",
        "\n",
        "import tensorflow as tf\n",
        "import tensorflow.keras\n",
        "from tensorflow.keras import backend as K\n",
        "\n",
        "# Check the Version of the Tensor Flow. It should be the version 2\n",
        "print(tf.__version__)\n",
        "import keras\n",
        "from keras.datasets import imdb\n",
        "from keras import preprocessing"
      ],
      "execution_count": 0,
      "outputs": [
        {
          "output_type": "stream",
          "text": [
            "2.2.0-rc3\n"
          ],
          "name": "stdout"
        },
        {
          "output_type": "stream",
          "text": [
            "Using TensorFlow backend.\n"
          ],
          "name": "stderr"
        }
      ]
    },
    {
      "cell_type": "code",
      "metadata": {
        "id": "P2XwDnxbInXK",
        "colab_type": "code",
        "outputId": "69cfde70-723e-4646-cd4c-8f9a366a094c",
        "colab": {
          "base_uri": "https://localhost:8080/",
          "height": 50
        }
      },
      "source": [
        "# Number of words to consider as features\n",
        "max_features = 10000\n",
        "\n",
        "# Cut texts after this number of words \n",
        "# (among top max_features most common words)\n",
        "maxlen = 20\n",
        "\n",
        "# Load the data as lists of integers.\n",
        "(x_train, y_train), (x_test, y_test) = imdb.load_data(num_words=max_features)\n",
        "\n",
        "# This turns our lists of integers into a 2D integer tensor \n",
        "# of shape (samples, maxlen)\n",
        "x_train = preprocessing.sequence.pad_sequences(x_train, maxlen=maxlen)\n",
        "x_test = preprocessing.sequence.pad_sequences(x_test, maxlen=maxlen)"
      ],
      "execution_count": 0,
      "outputs": [
        {
          "output_type": "stream",
          "text": [
            "Downloading data from https://s3.amazonaws.com/text-datasets/imdb.npz\n",
            "17465344/17464789 [==============================] - 2s 0us/step\n"
          ],
          "name": "stdout"
        }
      ]
    },
    {
      "cell_type": "code",
      "metadata": {
        "id": "M9tzxpgkInXP",
        "colab_type": "code",
        "outputId": "807aa714-71ef-4b9a-de60-38dff9fe0272",
        "colab": {
          "base_uri": "https://localhost:8080/",
          "height": 357
        }
      },
      "source": [
        "model = tf.keras.models.Sequential([\n",
        "  # We specify the maximum input length to our Embedding layer\n",
        "  # so we can later flatten the embedded inputs\n",
        "  tf.keras.layers.Embedding(10000, 8, input_length = maxlen),\n",
        "  \n",
        "  # After the Embedding layer, \n",
        "  # our activations have shape (samples, maxlen, 8).\n",
        "\n",
        "  # We flatten the 3D tensor of embeddings \n",
        "  # into a 2D tensor of shape (samples, maxlen * 8)\n",
        "  tf.keras.layers.Flatten(),\n",
        "\n",
        "  # We add the classifier on top\n",
        "  tf.keras.layers.Dense(1, activation='sigmoid')\n",
        "])\n",
        "\n",
        "model.compile(loss = 'binary_crossentropy',\n",
        "              optimizer = tf.keras.optimizers.RMSprop(),\n",
        "              metrics = ['accuracy'])\n",
        "\n",
        "\n",
        "history = model.fit(x_train, y_train,\n",
        "                    epochs = 10,\n",
        "                    batch_size = 32,\n",
        "                    validation_split = 0.2)"
      ],
      "execution_count": 0,
      "outputs": [
        {
          "output_type": "stream",
          "text": [
            "Epoch 1/10\n",
            "625/625 [==============================] - 1s 2ms/step - loss: 0.6609 - accuracy: 0.6412 - val_loss: 0.6035 - val_accuracy: 0.7084\n",
            "Epoch 2/10\n",
            "625/625 [==============================] - 1s 2ms/step - loss: 0.5300 - accuracy: 0.7546 - val_loss: 0.5208 - val_accuracy: 0.7334\n",
            "Epoch 3/10\n",
            "625/625 [==============================] - 1s 2ms/step - loss: 0.4563 - accuracy: 0.7903 - val_loss: 0.4987 - val_accuracy: 0.7470\n",
            "Epoch 4/10\n",
            "625/625 [==============================] - 1s 2ms/step - loss: 0.4194 - accuracy: 0.8100 - val_loss: 0.4927 - val_accuracy: 0.7546\n",
            "Epoch 5/10\n",
            "625/625 [==============================] - 1s 2ms/step - loss: 0.3932 - accuracy: 0.8245 - val_loss: 0.4944 - val_accuracy: 0.7572\n",
            "Epoch 6/10\n",
            "625/625 [==============================] - 1s 2ms/step - loss: 0.3719 - accuracy: 0.8370 - val_loss: 0.4962 - val_accuracy: 0.7594\n",
            "Epoch 7/10\n",
            "625/625 [==============================] - 1s 2ms/step - loss: 0.3518 - accuracy: 0.8458 - val_loss: 0.5014 - val_accuracy: 0.7614\n",
            "Epoch 8/10\n",
            "625/625 [==============================] - 1s 2ms/step - loss: 0.3331 - accuracy: 0.8569 - val_loss: 0.5074 - val_accuracy: 0.7604\n",
            "Epoch 9/10\n",
            "625/625 [==============================] - 1s 2ms/step - loss: 0.3153 - accuracy: 0.8680 - val_loss: 0.5156 - val_accuracy: 0.7574\n",
            "Epoch 10/10\n",
            "625/625 [==============================] - 1s 2ms/step - loss: 0.2976 - accuracy: 0.8774 - val_loss: 0.5254 - val_accuracy: 0.7536\n"
          ],
          "name": "stdout"
        }
      ]
    },
    {
      "cell_type": "markdown",
      "metadata": {
        "id": "n1Kw2OalInXU",
        "colab_type": "text"
      },
      "source": [
        "We get to a validation accuracy of ~75%, which is pretty good considering that we only look at the first 20 words in every review. But note that merely flattening the embedded sequences and training a single `Dense` layer on top leads to a model that treats each word in the input sequence separately, without considering inter-word relationships and structure sentence (e.g. it would likely treat both \"this movie is shit\" and \"this movie is the shit\" as being negative \"reviews\"). It would be much better to add recurrent layers or 1D convolutional layers on top of the embedded sequences to learn features that take into account each sequence as a whole. That's what we will focus on next.\n",
        "\n",
        "## Using pre-trained word embeddings\n",
        "Sometimes, you have so little training data available that you could never use your data alone to learn an appropriate task-specific embedding of your vocabulary. What to do then?\n",
        "\n",
        "Instead of learning word embeddings jointly with the problem you want to solve, you could be loading embedding vectors from a pre-computed embedding space known to be highly structured and to exhibit useful properties -- that captures generic aspects of language structure. The rationale behind using pre-trained word embeddings in natural language processing is very much the same as for using pre-trained convnets in image classification: we don't have enough data available to learn truly powerful features on our own, but we expect the features that we need to be fairly generic, i.e. common visual features or semantic features. In this case it makes sense to reuse features learned on a different problem.\n",
        "\n",
        "Such word embeddings are generally computed using word occurrence statistics (observations about what words co-occur in sentences or documents), using a variety of techniques, some involving neural networks, others not. The idea of a dense, low-dimensional embedding space for words, computed in an unsupervised way, was initially explored by Bengio et al. in the early 2000s, but it only started really taking off in research and industry applications after the release of one of the most famous and successful word embedding scheme: the Word2Vec algorithm, developed by Mikolov at Google in 2013. Word2Vec dimensions capture specific semantic properties, e.g. gender.\n",
        "\n",
        "There are various pre-computed databases of word embeddings that can download and start using in a Keras `Embedding` layer. Word2Vec is one of them. Another popular one is called \"GloVe\", developed by Stanford researchers in 2014. It stands for \"Global Vectors for Word Representation\", and it is an embedding technique based on factorizing a matrix of word co-occurrence statistics. Its developers have made available pre-computed embeddings for millions of English tokens, obtained from Wikipedia data or from Common Crawl data.\n",
        "\n",
        "Let's take a look at how you can get started using GloVe embeddings in a Keras model. The same method will of course be valid for Word2Vec embeddings or any other word embedding database that you can download. \n",
        "\n",
        "### From raw text to word embeddings\n",
        "We will be using a model similar to the one we just went over -- embedding sentences in sequences of vectors, flattening them and training a Dense layer on top. But we will do it using pre-trained word embeddings, and instead of using the pre-tokenized IMDB data packaged in Keras, we will start from scratch, by downloading the original text data.\n",
        "\n",
        "Download the IMDB data as raw text\n",
        "First, head to [here](http://ai.stanford.edu/~amaas/data/sentiment/) and download the raw IMDB dataset (if the URL isn't working anymore, just Google \"IMDB dataset\"). Uncompress it.\n",
        "\n",
        "Now let's collect the individual training reviews into a list of strings, one string per review, and let's also collect the review labels (positive / negative) into a labels list:"
      ]
    },
    {
      "cell_type": "code",
      "metadata": {
        "id": "pEJ7Zoj_G778",
        "colab_type": "code",
        "outputId": "b4961887-5288-4caf-cc04-33eec48e4cbe",
        "colab": {
          "base_uri": "https://localhost:8080/",
          "height": 118
        }
      },
      "source": [
        "# Mount the drive\n",
        "from google.colab import drive\n",
        "drive.mount('/content/drive', force_remount=True)\n",
        "\n",
        "# The first time that you run this cell, you will need to authorize access in your drive. \n",
        "# Go to the link and copy the authorization code"
      ],
      "execution_count": 0,
      "outputs": [
        {
          "output_type": "stream",
          "text": [
            "Go to this URL in a browser: https://accounts.google.com/o/oauth2/auth?client_id=947318989803-6bn6qk8qdgf4n4g3pfee6491hc0brc4i.apps.googleusercontent.com&redirect_uri=urn%3aietf%3awg%3aoauth%3a2.0%3aoob&response_type=code&scope=email%20https%3a%2f%2fwww.googleapis.com%2fauth%2fdocs.test%20https%3a%2f%2fwww.googleapis.com%2fauth%2fdrive%20https%3a%2f%2fwww.googleapis.com%2fauth%2fdrive.photos.readonly%20https%3a%2f%2fwww.googleapis.com%2fauth%2fpeopleapi.readonly\n",
            "\n",
            "Enter your authorization code:\n",
            "··········\n",
            "Mounted at /content/drive\n"
          ],
          "name": "stdout"
        }
      ]
    },
    {
      "cell_type": "code",
      "metadata": {
        "id": "9mbQw3srInXU",
        "colab_type": "code",
        "colab": {}
      },
      "source": [
        "imdb_dir = 'drive/My Drive/Teaching/BST 261/2020/In progress notebooks/imdb_rnns'\n",
        "train_dir = os.path.join(imdb_dir, 'train')\n",
        "\n",
        "labels = []\n",
        "texts = []\n",
        "\n",
        "for label_type in ['neg', 'pos']:\n",
        "    dir_name = os.path.join(train_dir, label_type)\n",
        "    for fname in os.listdir(dir_name):\n",
        "        if fname[-4:] == '.txt':\n",
        "            f = open(os.path.join(dir_name, fname))\n",
        "            texts.append(f.read())\n",
        "            f.close()\n",
        "            if label_type == 'neg':\n",
        "                labels.append(0)\n",
        "            else:\n",
        "                labels.append(1)"
      ],
      "execution_count": 0,
      "outputs": []
    },
    {
      "cell_type": "markdown",
      "metadata": {
        "id": "3YMB3sSDInXY",
        "colab_type": "text"
      },
      "source": [
        "### Tokenize the data\n",
        "\n",
        "Let's vectorize the texts we collected, and prepare a training and validation split.\n",
        "\n",
        "Because pre-trained word embeddings are meant to be particularly useful on problems where little training data is available (otherwise, task-specific embeddings are likely to outperform them), we will add the following twist: we restrict the training data to its first 200 samples. So we will be learning to classify movie reviews after looking at just 200 examples."
      ]
    },
    {
      "cell_type": "code",
      "metadata": {
        "id": "TDZ6sxDWInXZ",
        "colab_type": "code",
        "outputId": "725ae54b-aba5-4fc4-e9e0-5a96e2eb9ece",
        "colab": {
          "base_uri": "https://localhost:8080/",
          "height": 66
        }
      },
      "source": [
        "from keras.preprocessing.text import Tokenizer\n",
        "from keras.preprocessing.sequence import pad_sequences\n",
        "import numpy as np\n",
        "\n",
        "maxlen = 100                # We will cut reviews after 100 words\n",
        "training_samples = 200      # We will be training on 200 samples\n",
        "validation_samples = 10000  # We will be validating on 10000 samples\n",
        "max_words = 10000           # We will only consider the top 10,000 words in the dataset\n",
        "\n",
        "tokenizer = Tokenizer(num_words=max_words)\n",
        "tokenizer.fit_on_texts(texts)\n",
        "sequences = tokenizer.texts_to_sequences(texts)\n",
        "\n",
        "word_index = tokenizer.word_index\n",
        "print('Found %s unique tokens.' % len(word_index))\n",
        "\n",
        "data = pad_sequences(sequences, maxlen=maxlen)\n",
        "\n",
        "labels = np.asarray(labels)\n",
        "print('Shape of data tensor:', data.shape)\n",
        "print('Shape of label tensor:', labels.shape)\n",
        "\n",
        "# Split the data into a training set and a validation set\n",
        "# But first, shuffle the data, since we started from data\n",
        "# where sample are ordered (all negative first, then all positive).\n",
        "indices = np.arange(data.shape[0])\n",
        "np.random.shuffle(indices)\n",
        "data = data[indices]\n",
        "labels = labels[indices]\n",
        "\n",
        "x_train = data[:training_samples]\n",
        "y_train = labels[:training_samples]\n",
        "x_val = data[training_samples: training_samples + validation_samples]\n",
        "y_val = labels[training_samples: training_samples + validation_samples]"
      ],
      "execution_count": 0,
      "outputs": [
        {
          "output_type": "stream",
          "text": [
            "Found 88582 unique tokens.\n",
            "Shape of data tensor: (25030, 100)\n",
            "Shape of label tensor: (25030,)\n"
          ],
          "name": "stdout"
        }
      ]
    },
    {
      "cell_type": "markdown",
      "metadata": {
        "id": "KV2oA21WInXc",
        "colab_type": "text"
      },
      "source": [
        "### Download the GloVe word embeddings\n",
        "\n",
        "Head [here](https://nlp.stanford.edu/projects/glove/) (where you can learn more about the GloVe algorithm), and download the pre-computed embeddings from 2014 English Wikipedia. It's a 822MB zip file named `glove.6B.zip`, containing 100-dimensional embedding vectors for 400,000 words (or non-word tokens). Un-zip it.\n",
        "\n",
        "### Pre-process the embeddings\n",
        "\n",
        "Let's parse the un-zipped file (it's a `txt` file) to build an index mapping words (as strings) to their vector representation (as number vectors)."
      ]
    },
    {
      "cell_type": "code",
      "metadata": {
        "id": "gbzLkJhrInXd",
        "colab_type": "code",
        "outputId": "7c0a11c9-3f77-4efb-e3ca-0970c06aca3c",
        "colab": {
          "base_uri": "https://localhost:8080/",
          "height": 33
        }
      },
      "source": [
        "glove_dir = 'drive/My Drive/Teaching/BST 261/2020/In progress notebooks/glove/'\n",
        "\n",
        "embeddings_index = {}\n",
        "f = open(os.path.join(glove_dir, 'glove.6B.100d.txt'))\n",
        "for line in f:\n",
        "    values = line.split()\n",
        "    word = values[0]\n",
        "    coefs = np.asarray(values[1:], dtype='float32')\n",
        "    embeddings_index[word] = coefs\n",
        "f.close()\n",
        "\n",
        "print('Found %s word vectors.' % len(embeddings_index))"
      ],
      "execution_count": 0,
      "outputs": [
        {
          "output_type": "stream",
          "text": [
            "Found 400000 word vectors.\n"
          ],
          "name": "stdout"
        }
      ]
    },
    {
      "cell_type": "markdown",
      "metadata": {
        "id": "Gp3eDMsDInXn",
        "colab_type": "text"
      },
      "source": [
        "Now let's build an embedding matrix that we will be able to load into an `Embedding` layer. It must be a matrix of shape `(max_words, embedding_dim)`, where each entry `i` contains the `embedding_dim`-dimensional vector for the word of index `i` in our reference word index (built during tokenization). Note that the index `0` is not supposed to stand for any word or token -- it's a placeholder."
      ]
    },
    {
      "cell_type": "code",
      "metadata": {
        "id": "DnJPD4oAInXo",
        "colab_type": "code",
        "colab": {}
      },
      "source": [
        "embedding_dim = 100\n",
        "\n",
        "embedding_matrix = np.zeros((max_words, embedding_dim))\n",
        "for word, i in word_index.items():\n",
        "    embedding_vector = embeddings_index.get(word)\n",
        "    if i < max_words:\n",
        "        if embedding_vector is not None:\n",
        "            # Words not found in embedding index will be all-zeros.\n",
        "            embedding_matrix[i] = embedding_vector"
      ],
      "execution_count": 0,
      "outputs": []
    },
    {
      "cell_type": "markdown",
      "metadata": {
        "id": "IG7bBl4wInXs",
        "colab_type": "text"
      },
      "source": [
        "### Define a model\n",
        "\n",
        "We will be using the same model architecture as before:"
      ]
    },
    {
      "cell_type": "code",
      "metadata": {
        "id": "YzJPqXjCInXu",
        "colab_type": "code",
        "outputId": "d1bf7fe9-2a09-4f47-ce94-719ce891a713",
        "colab": {
          "base_uri": "https://localhost:8080/",
          "height": 277
        }
      },
      "source": [
        "model = tf.keras.models.Sequential([\n",
        "  # We specify the maximum input length to our Embedding layer\n",
        "  # so we can later flatten the embedded inputs\n",
        "  tf.keras.layers.Embedding(max_words, embedding_dim, input_length = maxlen),\n",
        "\n",
        "  tf.keras.layers.Flatten(),\n",
        "\n",
        "  # We add the classifier on top\n",
        "  tf.keras.layers.Dense(32, activation='relu'),\n",
        "  tf.keras.layers.Dense(1, activation='sigmoid')\n",
        "])\n",
        "\n",
        "model.summary()"
      ],
      "execution_count": 0,
      "outputs": [
        {
          "output_type": "stream",
          "text": [
            "Model: \"sequential\"\n",
            "_________________________________________________________________\n",
            "Layer (type)                 Output Shape              Param #   \n",
            "=================================================================\n",
            "embedding (Embedding)        (None, 100, 100)          1000000   \n",
            "_________________________________________________________________\n",
            "flatten (Flatten)            (None, 10000)             0         \n",
            "_________________________________________________________________\n",
            "dense (Dense)                (None, 32)                320032    \n",
            "_________________________________________________________________\n",
            "dense_1 (Dense)              (None, 1)                 33        \n",
            "=================================================================\n",
            "Total params: 1,320,065\n",
            "Trainable params: 1,320,065\n",
            "Non-trainable params: 0\n",
            "_________________________________________________________________\n"
          ],
          "name": "stdout"
        }
      ]
    },
    {
      "cell_type": "markdown",
      "metadata": {
        "id": "IIareJ-zInXy",
        "colab_type": "text"
      },
      "source": [
        "### Load the GloVe embeddings in the model\n",
        "\n",
        "The `Embedding` layer has a single weight matrix: a 2D float matrix where each entry `i` is the word vector meant to be associated with index `i`. Simple enough. Let's just load the GloVe matrix we prepared into our `Embedding` layer, the first layer in our model:"
      ]
    },
    {
      "cell_type": "code",
      "metadata": {
        "id": "IpSKXJ0MInXy",
        "colab_type": "code",
        "colab": {}
      },
      "source": [
        "model.layers[0].set_weights([embedding_matrix])\n",
        "model.layers[0].trainable = False"
      ],
      "execution_count": 0,
      "outputs": []
    },
    {
      "cell_type": "markdown",
      "metadata": {
        "id": "KnjPr_MPInX1",
        "colab_type": "text"
      },
      "source": [
        "Additionally, we freeze the embedding layer (we set its `trainable` attribute to `False`), following the same rationale as what you are already familiar with in the context of pre-trained convnet features: when parts of a model are pre-trained (like our `Embedding` layer), and parts are randomly initialized (like our classifier), the pre-trained parts should not be updated during training to avoid forgetting what they already know. The large gradient update triggered by the randomly initialized layers would be very disruptive to the already learned features.\n",
        "\n",
        "### Train and evaluate\n",
        "\n",
        "Let's compile our model and train it:"
      ]
    },
    {
      "cell_type": "code",
      "metadata": {
        "id": "utGhmSaxInX2",
        "colab_type": "code",
        "outputId": "0d80d150-0b3e-4b1d-80a7-2182fa910d53",
        "colab": {
          "base_uri": "https://localhost:8080/",
          "height": 342
        }
      },
      "source": [
        "model.compile(optimizer = tf.keras.optimizers.RMSprop(),\n",
        "              loss = 'binary_crossentropy',\n",
        "              metrics = ['accuracy'])\n",
        "\n",
        "history = model.fit(x_train, y_train,\n",
        "                    epochs=10,\n",
        "                    batch_size=32,\n",
        "                    validation_data=(x_val, y_val))"
      ],
      "execution_count": 0,
      "outputs": [
        {
          "output_type": "stream",
          "text": [
            "Epoch 1/10\n",
            "7/7 [==============================] - 1s 106ms/step - loss: 1.4063 - accuracy: 0.4950 - val_loss: 1.1212 - val_accuracy: 0.4991\n",
            "Epoch 2/10\n",
            "7/7 [==============================] - 1s 81ms/step - loss: 0.9577 - accuracy: 0.5650 - val_loss: 0.7946 - val_accuracy: 0.4993\n",
            "Epoch 3/10\n",
            "7/7 [==============================] - 1s 86ms/step - loss: 0.3863 - accuracy: 0.8300 - val_loss: 1.5403 - val_accuracy: 0.4993\n",
            "Epoch 4/10\n",
            "7/7 [==============================] - 1s 82ms/step - loss: 0.3872 - accuracy: 0.8250 - val_loss: 0.8061 - val_accuracy: 0.5378\n",
            "Epoch 5/10\n",
            "7/7 [==============================] - 1s 82ms/step - loss: 0.1278 - accuracy: 0.9800 - val_loss: 1.1532 - val_accuracy: 0.5046\n",
            "Epoch 6/10\n",
            "7/7 [==============================] - 1s 83ms/step - loss: 0.3122 - accuracy: 0.8550 - val_loss: 0.7104 - val_accuracy: 0.5812\n",
            "Epoch 7/10\n",
            "7/7 [==============================] - 1s 82ms/step - loss: 0.0544 - accuracy: 1.0000 - val_loss: 0.7359 - val_accuracy: 0.5812\n",
            "Epoch 8/10\n",
            "7/7 [==============================] - 1s 82ms/step - loss: 0.0313 - accuracy: 1.0000 - val_loss: 0.9138 - val_accuracy: 0.5426\n",
            "Epoch 9/10\n",
            "7/7 [==============================] - 1s 81ms/step - loss: 0.0268 - accuracy: 1.0000 - val_loss: 0.9114 - val_accuracy: 0.5518\n",
            "Epoch 10/10\n",
            "7/7 [==============================] - 1s 81ms/step - loss: 0.0410 - accuracy: 1.0000 - val_loss: 2.0620 - val_accuracy: 0.5010\n"
          ],
          "name": "stdout"
        }
      ]
    },
    {
      "cell_type": "code",
      "metadata": {
        "id": "tL_U3EycInX5",
        "colab_type": "code",
        "outputId": "a2a602aa-6181-4763-b36e-e16961a8a8b9",
        "colab": {
          "base_uri": "https://localhost:8080/",
          "height": 301
        }
      },
      "source": [
        "import seaborn as sns\n",
        "sns.set()\n",
        "\n",
        "train_acc  = history.history['accuracy']\n",
        "train_loss = history.history['loss']\n",
        "val_acc  = history.history['val_accuracy']\n",
        "val_loss = history.history['val_loss']\n",
        "\n",
        "epochs = range(1, len(train_acc) + 1)\n",
        "\n",
        "plt.plot(epochs, train_loss, label = 'Training Loss')\n",
        "plt.plot(epochs, val_loss, label = 'Validation Loss')\n",
        "plt.xlabel('Epochs')\n",
        "plt.ylabel('Loss')\n",
        "plt.legend()"
      ],
      "execution_count": 0,
      "outputs": [
        {
          "output_type": "execute_result",
          "data": {
            "text/plain": [
              "<matplotlib.legend.Legend at 0x7f588a641978>"
            ]
          },
          "metadata": {
            "tags": []
          },
          "execution_count": 14
        },
        {
          "output_type": "display_data",
          "data": {
            "image/png": "[encoded data removed]",
            "text/plain": [
              "<Figure size 432x288 with 1 Axes>"
            ]
          },
          "metadata": {
            "tags": []
          }
        }
      ]
    },
    {
      "cell_type": "code",
      "metadata": {
        "id": "0bNb9xPfHM2z",
        "colab_type": "code",
        "outputId": "45b3003a-0e56-4d4a-8445-ba5a006a1b59",
        "colab": {
          "base_uri": "https://localhost:8080/",
          "height": 301
        }
      },
      "source": [
        "plt.plot(epochs, train_acc, label = 'Training Accuracy')\n",
        "plt.plot(epochs, val_acc, label = 'Validation Accuracy')\n",
        "plt.xlabel('Epochs')\n",
        "plt.ylabel('Accuracy')\n",
        "plt.legend()"
      ],
      "execution_count": 0,
      "outputs": [
        {
          "output_type": "execute_result",
          "data": {
            "text/plain": [
              "<matplotlib.legend.Legend at 0x7f588388e8d0>"
            ]
          },
          "metadata": {
            "tags": []
          },
          "execution_count": 15
        },
        {
          "output_type": "display_data",
          "data": {
            "image/png": "[encoded data removed]",
            "text/plain": [
              "<Figure size 432x288 with 1 Axes>"
            ]
          },
          "metadata": {
            "tags": []
          }
        }
      ]
    },
    {
      "cell_type": "markdown",
      "metadata": {
        "id": "XaxmHL7XInX9",
        "colab_type": "text"
      },
      "source": [
        "The model quickly starts overfitting, unsurprisingly given the small number of training samples. Validation accuracy has high variance for the same reason, but seems to reach high 50s.\n",
        "\n",
        "Note that your mileage may vary: since we have so few training samples, performance is heavily dependent on which exact 200 samples we picked, and we picked them at random. If it worked really poorly for you, try picking a different random set of 200 samples, just for the sake of the exercise (in real life you don't get to pick your training data).\n",
        "\n",
        "We can also try to train the same model without loading the pre-trained word embeddings and without freezing the embedding layer. In that case, we would be learning a task-specific embedding of our input tokens, which is generally more powerful than pre-trained word embeddings when lots of data is available. However, in our case, we have only 200 training samples. Let's try it:"
      ]
    },
    {
      "cell_type": "code",
      "metadata": {
        "id": "yqu2ZlXXInX-",
        "colab_type": "code",
        "outputId": "ff9930ac-7bc2-4a5b-dba8-7e66b3434841",
        "colab": {
          "base_uri": "https://localhost:8080/",
          "height": 342
        }
      },
      "source": [
        "model2 = tf.keras.models.Sequential([\n",
        "  # We specify the maximum input length to our Embedding layer\n",
        "  # so we can later flatten the embedded inputs\n",
        "  tf.keras.layers.Embedding(max_words, embedding_dim, input_length = maxlen),\n",
        "\n",
        "  tf.keras.layers.Flatten(),\n",
        "\n",
        "  # We add the classifier on top\n",
        "  tf.keras.layers.Dense(32, activation='relu'),\n",
        "  tf.keras.layers.Dense(1, activation='sigmoid')\n",
        "])\n",
        "\n",
        "model2.compile(optimizer = tf.keras.optimizers.RMSprop(),\n",
        "               loss = 'binary_crossentropy',\n",
        "               metrics = ['accuracy'])\n",
        "\n",
        "history2 = model2.fit(x_train, y_train,\n",
        "                      epochs=10,\n",
        "                      batch_size=32,\n",
        "                      validation_data=(x_val, y_val))"
      ],
      "execution_count": 0,
      "outputs": [
        {
          "output_type": "stream",
          "text": [
            "Epoch 1/10\n",
            "7/7 [==============================] - 1s 96ms/step - loss: 0.6950 - accuracy: 0.4800 - val_loss: 0.6977 - val_accuracy: 0.5081\n",
            "Epoch 2/10\n",
            "7/7 [==============================] - 1s 89ms/step - loss: 0.4979 - accuracy: 0.9750 - val_loss: 0.6965 - val_accuracy: 0.5097\n",
            "Epoch 3/10\n",
            "7/7 [==============================] - 1s 88ms/step - loss: 0.2771 - accuracy: 1.0000 - val_loss: 0.6989 - val_accuracy: 0.5270\n",
            "Epoch 4/10\n",
            "7/7 [==============================] - 1s 88ms/step - loss: 0.1178 - accuracy: 1.0000 - val_loss: 0.6976 - val_accuracy: 0.5298\n",
            "Epoch 5/10\n",
            "7/7 [==============================] - 1s 86ms/step - loss: 0.0551 - accuracy: 1.0000 - val_loss: 0.7171 - val_accuracy: 0.5257\n",
            "Epoch 6/10\n",
            "7/7 [==============================] - 1s 86ms/step - loss: 0.0285 - accuracy: 1.0000 - val_loss: 0.7108 - val_accuracy: 0.5309\n",
            "Epoch 7/10\n",
            "7/7 [==============================] - 1s 90ms/step - loss: 0.0159 - accuracy: 1.0000 - val_loss: 0.7135 - val_accuracy: 0.5275\n",
            "Epoch 8/10\n",
            "7/7 [==============================] - 1s 86ms/step - loss: 0.0096 - accuracy: 1.0000 - val_loss: 0.7201 - val_accuracy: 0.5254\n",
            "Epoch 9/10\n",
            "7/7 [==============================] - 1s 89ms/step - loss: 0.0055 - accuracy: 1.0000 - val_loss: 0.7284 - val_accuracy: 0.5342\n",
            "Epoch 10/10\n",
            "7/7 [==============================] - 1s 88ms/step - loss: 0.0034 - accuracy: 1.0000 - val_loss: 0.7306 - val_accuracy: 0.5324\n"
          ],
          "name": "stdout"
        }
      ]
    },
    {
      "cell_type": "code",
      "metadata": {
        "id": "Cs09GHkcInYB",
        "colab_type": "code",
        "outputId": "9ade8bc8-c266-46ca-8302-a71eaa42836c",
        "colab": {
          "base_uri": "https://localhost:8080/",
          "height": 301
        }
      },
      "source": [
        "import seaborn as sns\n",
        "sns.set()\n",
        "\n",
        "train_acc  = history2.history['accuracy']\n",
        "train_loss = history2.history['loss']\n",
        "val_acc  = history2.history['val_accuracy']\n",
        "val_loss = history2.history['val_loss']\n",
        "\n",
        "epochs = range(1, len(train_acc) + 1)\n",
        "\n",
        "plt.plot(epochs, train_loss, label = 'Training Loss')\n",
        "plt.plot(epochs, val_loss, label = 'Validation Loss')\n",
        "plt.xlabel('Epochs')\n",
        "plt.ylabel('Loss')\n",
        "plt.legend()"
      ],
      "execution_count": 0,
      "outputs": [
        {
          "output_type": "execute_result",
          "data": {
            "text/plain": [
              "<matplotlib.legend.Legend at 0x7f5882621390>"
            ]
          },
          "metadata": {
            "tags": []
          },
          "execution_count": 17
        },
        {
          "output_type": "display_data",
          "data": {
            "image/png": "[encoded data removed]",
            "text/plain": [
              "<Figure size 432x288 with 1 Axes>"
            ]
          },
          "metadata": {
            "tags": []
          }
        }
      ]
    },
    {
      "cell_type": "code",
      "metadata": {
        "id": "tmDILdlMHXGB",
        "colab_type": "code",
        "outputId": "6b31a2b8-6122-47c9-f627-6994cccd7e8a",
        "colab": {
          "base_uri": "https://localhost:8080/",
          "height": 301
        }
      },
      "source": [
        "plt.plot(epochs, train_acc, label = 'Training Accuracy')\n",
        "plt.plot(epochs, val_acc, label = 'Validation Accuracy')\n",
        "plt.xlabel('Epochs')\n",
        "plt.ylabel('Accuracy')\n",
        "plt.legend()"
      ],
      "execution_count": 0,
      "outputs": [
        {
          "output_type": "execute_result",
          "data": {
            "text/plain": [
              "<matplotlib.legend.Legend at 0x7f58836aa4e0>"
            ]
          },
          "metadata": {
            "tags": []
          },
          "execution_count": 18
        },
        {
          "output_type": "display_data",
          "data": {
            "image/png": "[encoded data removed]",
            "text/plain": [
              "<Figure size 432x288 with 1 Axes>"
            ]
          },
          "metadata": {
            "tags": []
          }
        }
      ]
    },
    {
      "cell_type": "markdown",
      "metadata": {
        "id": "p4NrIOB2InYD",
        "colab_type": "text"
      },
      "source": [
        "Validation accuracy stalls in the low 50s. So in our case, pre-trained word embeddings does outperform jointly learned embeddings. If you increase the number of training samples, this will quickly stop being the case -- try it as an exercise.\n",
        "\n",
        "Finally, let's evaluate the model on the test data. First, we will need to tokenize the test data:"
      ]
    },
    {
      "cell_type": "code",
      "metadata": {
        "id": "9zVW73aLMDgd",
        "colab_type": "code",
        "colab": {}
      },
      "source": [
        "test_dir = os.path.join(imdb_dir, 'test')\n",
        "\n",
        "labels = []\n",
        "texts = []\n",
        "\n",
        "for label_type in ['neg', 'pos']:\n",
        "    dir_name = os.path.join(test_dir, label_type)\n",
        "    for fname in sorted(os.listdir(dir_name)):\n",
        "        if fname[-4:] == '.txt':\n",
        "            f = open(os.path.join(dir_name, fname))\n",
        "            texts.append(f.read())\n",
        "            f.close()\n",
        "            if label_type == 'neg':\n",
        "                labels.append(0)\n",
        "            else:\n",
        "                labels.append(1)\n",
        "\n",
        "sequences = tokenizer.texts_to_sequences(texts)\n",
        "x_test = pad_sequences(sequences, maxlen=maxlen)\n",
        "y_test = np.asarray(labels)"
      ],
      "execution_count": 0,
      "outputs": []
    },
    {
      "cell_type": "code",
      "metadata": {
        "id": "2DHHfOQcInYJ",
        "colab_type": "code",
        "outputId": "ede4fd8b-bdde-4409-b8a4-e080de6a5fbe",
        "colab": {}
      },
      "source": [
        "#model.load_weights('pre_trained_glove_model.h5')\n",
        "model.evaluate(x_test, y_test)"
      ],
      "execution_count": 0,
      "outputs": [
        {
          "output_type": "stream",
          "text": [
            "25000/25000 [==============================] - 1s 37us/step\n"
          ],
          "name": "stdout"
        },
        {
          "output_type": "execute_result",
          "data": {
            "text/plain": [
              "[0.7772021975708008, 0.5656]"
            ]
          },
          "metadata": {
            "tags": []
          },
          "execution_count": 16
        }
      ]
    },
    {
      "cell_type": "markdown",
      "metadata": {
        "id": "sdNwkqE6InYM",
        "colab_type": "text"
      },
      "source": [
        "We get an appalling test accuracy of 56%. Working with just a handful of training samples is hard!\n",
        "\n",
        "\n",
        "## Building a simple RNN\n",
        "\n",
        "We'll first use the `SimpleRNN` layer. Like all recurrent layers in Keras, `SimpleRNN` can be run in two different modes: it can return either the full sequences of successive outputs for each timestep (a 3D tensor of shape `(batch_size, timesteps, output_features)`), or it can return only the last output for each input sequence (a 2D tensor of shape `(batch_size, output_features)`). These two modes are controlled by the `return_sequences` constructor argument. Let's take a look at an example:"
      ]
    },
    {
      "cell_type": "code",
      "metadata": {
        "id": "EsukdyT3InYN",
        "colab_type": "code",
        "outputId": "d9cf3df7-26af-4f42-fba1-9b462f09be23",
        "colab": {
          "base_uri": "https://localhost:8080/",
          "height": 212
        }
      },
      "source": [
        "model = tf.keras.models.Sequential([\n",
        "  tf.keras.layers.Embedding(10000, 32),\n",
        "\n",
        "  tf.keras.layers.SimpleRNN(32),\n",
        "])\n",
        "\n",
        "model.summary()"
      ],
      "execution_count": 0,
      "outputs": [
        {
          "output_type": "stream",
          "text": [
            "Model: \"sequential_2\"\n",
            "_________________________________________________________________\n",
            "Layer (type)                 Output Shape              Param #   \n",
            "=================================================================\n",
            "embedding_2 (Embedding)      (None, None, 32)          320000    \n",
            "_________________________________________________________________\n",
            "simple_rnn (SimpleRNN)       (None, 32)                2080      \n",
            "=================================================================\n",
            "Total params: 322,080\n",
            "Trainable params: 322,080\n",
            "Non-trainable params: 0\n",
            "_________________________________________________________________\n"
          ],
          "name": "stdout"
        }
      ]
    },
    {
      "cell_type": "code",
      "metadata": {
        "id": "BMO3y5gZInYR",
        "colab_type": "code",
        "colab": {}
      },
      "source": [
        "model = tf.keras.models.Sequential([\n",
        "  tf.keras.layers.Embedding(10000, 32),\n",
        "\n",
        "  tf.keras.layers.SimpleRNN(32, return_sequences=True),\n",
        "])"
      ],
      "execution_count": 0,
      "outputs": []
    },
    {
      "cell_type": "markdown",
      "metadata": {
        "id": "YKAah_LOInYT",
        "colab_type": "text"
      },
      "source": [
        "It is sometimes useful to stack several recurrent layers one after the other in order to increase the representational power of a network. In such a setup, you have to get all intermediate layers to return full sequences:"
      ]
    },
    {
      "cell_type": "code",
      "metadata": {
        "id": "MvpeJnIJInYU",
        "colab_type": "code",
        "outputId": "cac0115a-6743-4a3f-d423-fb8b10cd9f3d",
        "colab": {
          "base_uri": "https://localhost:8080/",
          "height": 310
        }
      },
      "source": [
        "model = tf.keras.models.Sequential([\n",
        "  tf.keras.layers.Embedding(10000, 32),\n",
        "\n",
        "  tf.keras.layers.SimpleRNN(32, return_sequences=True),\n",
        "  tf.keras.layers.SimpleRNN(32, return_sequences=True),\n",
        "  tf.keras.layers.SimpleRNN(32, return_sequences=True),\n",
        "  tf.keras.layers.SimpleRNN(32), # This last layer only returns the last outputs.\n",
        "])\n",
        "\n",
        "model.summary()"
      ],
      "execution_count": 0,
      "outputs": [
        {
          "output_type": "stream",
          "text": [
            "Model: \"sequential_4\"\n",
            "_________________________________________________________________\n",
            "Layer (type)                 Output Shape              Param #   \n",
            "=================================================================\n",
            "embedding_4 (Embedding)      (None, None, 32)          320000    \n",
            "_________________________________________________________________\n",
            "simple_rnn_2 (SimpleRNN)     (None, None, 32)          2080      \n",
            "_________________________________________________________________\n",
            "simple_rnn_3 (SimpleRNN)     (None, None, 32)          2080      \n",
            "_________________________________________________________________\n",
            "simple_rnn_4 (SimpleRNN)     (None, None, 32)          2080      \n",
            "_________________________________________________________________\n",
            "simple_rnn_5 (SimpleRNN)     (None, 32)                2080      \n",
            "=================================================================\n",
            "Total params: 328,320\n",
            "Trainable params: 328,320\n",
            "Non-trainable params: 0\n",
            "_________________________________________________________________\n"
          ],
          "name": "stdout"
        }
      ]
    },
    {
      "cell_type": "markdown",
      "metadata": {
        "id": "rpQJEr69InYX",
        "colab_type": "text"
      },
      "source": [
        "Now let's try this on the IMDb data."
      ]
    },
    {
      "cell_type": "code",
      "metadata": {
        "id": "wvX9N7-4InYX",
        "colab_type": "code",
        "outputId": "602c6045-4e4a-4d64-8587-1a7eee42b650",
        "colab": {
          "base_uri": "https://localhost:8080/",
          "height": 115
        }
      },
      "source": [
        "from keras.datasets import imdb\n",
        "from keras.preprocessing import sequence\n",
        "\n",
        "max_features = 10000  # number of words to consider as features\n",
        "maxlen = 500          # cut texts after this number of words (among top max_features most common words)\n",
        "batch_size = 32\n",
        "\n",
        "print('Loading data...')\n",
        "(input_train, y_train), (input_test, y_test) = imdb.load_data(num_words=max_features)\n",
        "print(len(input_train), 'train sequences')\n",
        "print(len(input_test), 'test sequences')\n",
        "\n",
        "print('Pad sequences (samples x time)')\n",
        "input_train = sequence.pad_sequences(input_train, maxlen=maxlen)\n",
        "input_test = sequence.pad_sequences(input_test, maxlen=maxlen)\n",
        "print('input_train shape:', input_train.shape)\n",
        "print('input_test shape:', input_test.shape)"
      ],
      "execution_count": 0,
      "outputs": [
        {
          "output_type": "stream",
          "text": [
            "Loading data...\n",
            "25000 train sequences\n",
            "25000 test sequences\n",
            "Pad sequences (samples x time)\n",
            "input_train shape: (25000, 500)\n",
            "input_test shape: (25000, 500)\n"
          ],
          "name": "stdout"
        }
      ]
    },
    {
      "cell_type": "markdown",
      "metadata": {
        "id": "FsjflwpSInYZ",
        "colab_type": "text"
      },
      "source": [
        "Let's train a simple recurrent network using an `Embedding` layer and a `SimpleRNN` layer:"
      ]
    },
    {
      "cell_type": "code",
      "metadata": {
        "id": "AdQBT9wEInYa",
        "colab_type": "code",
        "outputId": "8ae1a2f1-f9f2-4b19-dd72-41910a70de74",
        "colab": {
          "base_uri": "https://localhost:8080/",
          "height": 342
        }
      },
      "source": [
        "model = tf.keras.models.Sequential([\n",
        "  tf.keras.layers.Embedding(max_features, 32),\n",
        "\n",
        "  tf.keras.layers.SimpleRNN(32),\n",
        "\n",
        "  tf.keras.layers.Dense(1, activation='sigmoid')\n",
        "])\n",
        "\n",
        "model.compile(optimizer = tf.keras.optimizers.RMSprop(), \n",
        "              loss='binary_crossentropy', \n",
        "              metrics=['accuracy'])\n",
        "\n",
        "history = model.fit(input_train, y_train,\n",
        "                    epochs=10,\n",
        "                    batch_size=128,\n",
        "                    validation_split=0.2)"
      ],
      "execution_count": 0,
      "outputs": [
        {
          "output_type": "stream",
          "text": [
            "Epoch 1/10\n",
            "157/157 [==============================] - 24s 152ms/step - loss: 0.5717 - accuracy: 0.6953 - val_loss: 0.4998 - val_accuracy: 0.7640\n",
            "Epoch 2/10\n",
            "157/157 [==============================] - 23s 145ms/step - loss: 0.3500 - accuracy: 0.8584 - val_loss: 0.3309 - val_accuracy: 0.8650\n",
            "Epoch 3/10\n",
            "157/157 [==============================] - 23s 145ms/step - loss: 0.2672 - accuracy: 0.8941 - val_loss: 0.4153 - val_accuracy: 0.8022\n",
            "Epoch 4/10\n",
            "157/157 [==============================] - 23s 146ms/step - loss: 0.2083 - accuracy: 0.9226 - val_loss: 0.4286 - val_accuracy: 0.8112\n",
            "Epoch 5/10\n",
            "157/157 [==============================] - 23s 146ms/step - loss: 0.1723 - accuracy: 0.9376 - val_loss: 0.4200 - val_accuracy: 0.8508\n",
            "Epoch 6/10\n",
            "157/157 [==============================] - 23s 147ms/step - loss: 0.1324 - accuracy: 0.9518 - val_loss: 0.4330 - val_accuracy: 0.8604\n",
            "Epoch 7/10\n",
            "157/157 [==============================] - 23s 146ms/step - loss: 0.0969 - accuracy: 0.9675 - val_loss: 0.4522 - val_accuracy: 0.8474\n",
            "Epoch 8/10\n",
            "157/157 [==============================] - 23s 146ms/step - loss: 0.0656 - accuracy: 0.9786 - val_loss: 0.5011 - val_accuracy: 0.8536\n",
            "Epoch 9/10\n",
            "157/157 [==============================] - 23s 147ms/step - loss: 0.0437 - accuracy: 0.9864 - val_loss: 0.5507 - val_accuracy: 0.8282\n",
            "Epoch 10/10\n",
            "157/157 [==============================] - 23s 146ms/step - loss: 0.0302 - accuracy: 0.9910 - val_loss: 0.5853 - val_accuracy: 0.8348\n"
          ],
          "name": "stdout"
        }
      ]
    },
    {
      "cell_type": "code",
      "metadata": {
        "id": "kZCnW29SInYc",
        "colab_type": "code",
        "outputId": "2cc5890b-f405-4d8c-ab0b-0e09c8764477",
        "colab": {
          "base_uri": "https://localhost:8080/",
          "height": 301
        }
      },
      "source": [
        "import seaborn as sns\n",
        "sns.set()\n",
        "\n",
        "train_acc  = history.history['accuracy']\n",
        "train_loss = history.history['loss']\n",
        "val_acc  = history.history['val_accuracy']\n",
        "val_loss = history.history['val_loss']\n",
        "\n",
        "epochs = range(1, len(train_acc) + 1)\n",
        "\n",
        "plt.plot(epochs, train_loss, label = 'Training Loss')\n",
        "plt.plot(epochs, val_loss, label = 'Validation Loss')\n",
        "plt.xlabel('Epochs')\n",
        "plt.ylabel('Loss')\n",
        "plt.legend()"
      ],
      "execution_count": 0,
      "outputs": [
        {
          "output_type": "execute_result",
          "data": {
            "text/plain": [
              "<matplotlib.legend.Legend at 0x7f58824920b8>"
            ]
          },
          "metadata": {
            "tags": []
          },
          "execution_count": 28
        },
        {
          "output_type": "display_data",
          "data": {
            "image/png": "[encoded data removed]",
            "text/plain": [
              "<Figure size 432x288 with 1 Axes>"
            ]
          },
          "metadata": {
            "tags": []
          }
        }
      ]
    },
    {
      "cell_type": "code",
      "metadata": {
        "id": "3epuqHTcNH5K",
        "colab_type": "code",
        "outputId": "9f6e3b75-af4c-423c-d44c-80dc16bb9d17",
        "colab": {
          "base_uri": "https://localhost:8080/",
          "height": 301
        }
      },
      "source": [
        "plt.plot(epochs, train_acc, label = 'Training Accuracy')\n",
        "plt.plot(epochs, val_acc, label = 'Validation Accuracy')\n",
        "plt.xlabel('Epochs')\n",
        "plt.ylabel('Accuracy')\n",
        "plt.legend()"
      ],
      "execution_count": 0,
      "outputs": [
        {
          "output_type": "execute_result",
          "data": {
            "text/plain": [
              "<matplotlib.legend.Legend at 0x7f58822dcdd8>"
            ]
          },
          "metadata": {
            "tags": []
          },
          "execution_count": 29
        },
        {
          "output_type": "display_data",
          "data": {
            "image/png": "[encoded data removed]",
            "text/plain": [
              "<Figure size 432x288 with 1 Axes>"
            ]
          },
          "metadata": {
            "tags": []
          }
        }
      ]
    },
    {
      "cell_type": "markdown",
      "metadata": {
        "id": "mf2AY3ySInYf",
        "colab_type": "text"
      },
      "source": [
        "As a reminder, in lecture 3, our very first naive approach to this very dataset got us to 88% test accuracy. Unfortunately, our small \n",
        "recurrent network doesn't perform very well at all compared to this baseline (only up to 85% validation accuracy). Part of the problem is that our inputs only consider the first 500 words rather the full sequences -- hence our RNN has access to less information than our earlier baseline model. The remainder of the problem is simply that `SimpleRNN` isn't very good at processing long sequences, like text. Other types of recurrent layers perform much better. We'll talk about these in the next lectures."
      ]
    }
  ]
}